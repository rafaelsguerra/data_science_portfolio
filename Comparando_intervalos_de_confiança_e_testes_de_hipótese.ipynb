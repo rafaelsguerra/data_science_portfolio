{
  "nbformat": 4,
  "nbformat_minor": 0,
  "metadata": {
    "colab": {
      "name": "Comparando intervalos de confiança e testes de hipótese.ipynb",
      "provenance": [],
      "toc_visible": true,
      "authorship_tag": "ABX9TyMx40WkgBd670HTwTDf1WGP",
      "include_colab_link": true
    },
    "kernelspec": {
      "name": "python3",
      "display_name": "Python 3"
    }
  },
  "cells": [
    {
      "cell_type": "markdown",
      "metadata": {
        "id": "view-in-github",
        "colab_type": "text"
      },
      "source": [
        "<a href=\"https://colab.research.google.com/github/rafaelsguerra/data_science_portfolio/blob/main/Comparando_intervalos_de_confian%C3%A7a_e_testes_de_hip%C3%B3tese.ipynb\" target=\"_parent\"><img src=\"https://colab.research.google.com/assets/colab-badge.svg\" alt=\"Open In Colab\"/></a>"
      ]
    },
    {
      "cell_type": "markdown",
      "metadata": {
        "id": "fWEWKwtYOnDe"
      },
      "source": [
        "# Utilizando testes de hipótese e intervalos de confiança em jogos do Brasileirão\n",
        "\n",
        "O objetivo deste artigo é comparar o uso de intervalos de confiança e testes de hipótese na realização de inferências estatísticas. Os dados utilizados são do campeonato brasileiro de 2017, no qual foram realizados 380 jogos."
      ]
    },
    {
      "cell_type": "code",
      "metadata": {
        "id": "GjbZEOznvErt"
      },
      "source": [
        "import pandas as pd\n",
        "import numpy as np\n",
        "from matplotlib import pyplot as plt"
      ],
      "execution_count": 1,
      "outputs": []
    },
    {
      "cell_type": "code",
      "metadata": {
        "id": "SCUJYtpkO2cO"
      },
      "source": [
        "data = pd.read_csv('https://gist.githubusercontent.com/nazareno/a8d0cbdec191f5d82095576fcff3671c/raw/60b83a812cef94297ed4bee4582d788204be7556/campeonato-brasileiro-full.csv',\n",
        "                   delimiter=';')"
      ],
      "execution_count": 2,
      "outputs": []
    },
    {
      "cell_type": "markdown",
      "metadata": {
        "id": "IOLnc1D4SNil"
      },
      "source": [
        "## Intervalos de confiança\n",
        "\n",
        "Intervalo de confiança é, como o próprio nome diz, um intervalo ou amplitude de valores que foram obtidos de ou produzidos por estatísticas de amostras dos dados da população e que têm a probabilidade de conter o valor de um parâmetro da população.\n",
        "\n",
        "As amostras utilizadas são obtidas aleatoriamente, portanto dificilmente irão produzir intervalos idênticos. Além disso, o parâmetro da população pode não estar contido dentro do intervalo.\n",
        "\n",
        "Para que possa ser retirada alguma conclusão, é necessário retirar várias amostras aleatórias repetidamente, de modo a obter um nível de confiança. Em outras palavras, este nível é a proporção de intervalos de confiança que contém o parâmetro de interesse.\n",
        "\n",
        "![image](https://support.minitab.com/pt-br/minitab/19/media/notranslate/confidence_interval_def.gif)\n",
        "\n",
        "Na imagem acima, há 20 amostras de uma população, onde cada uma produziu um intervalo de confiança e apenas um deles não contêm o parâmetro $\\mu$ que representa a média populacional. Neste experimento foi utilizado um nivel de confiança de 95%, pois de 20 intervalos, 19, ou seja, 95% deles contém o parâmetro de interesse.\n",
        "\n",
        "Neste artigo, para obter os intervalos de confiança será feito o processo de bootstraping que é um método de reamostragem cuja finalidade é estimar a distribuição das amostras."
      ]
    },
    {
      "cell_type": "markdown",
      "metadata": {
        "id": "cwO2NSIPSfEq"
      },
      "source": [
        "## Testes de hipótese\n",
        "\n",
        "Teste de hipótese é um procedimento estatístico onde deve-se aceitar ou rejeitar uma alegação ou, como o próprio nome diz, uma hipótese sobre uma população analisando as amostras obtidas.\n",
        "\n",
        "Este teste analisa duas hipóteses: a **hipótese nula** que é a declaração que está sendo testada e a **hipótese alternativa** que é a declaração que quer ser provada baseada nos dados obtidos pelas amostras ou quando a hipótese nula não possui evidência estatística.\n",
        "\n",
        "Em resumo, o teste determina se devemos rejeitar a hipótese nula.\n",
        "\n",
        "Para realizar os testes, em vez de utilizar bootstraping como método de reamostragem, serão utilizadas permutações."
      ]
    },
    {
      "cell_type": "markdown",
      "metadata": {
        "id": "LI40O-utfT9a"
      },
      "source": [
        "## Os dados\n",
        "\n",
        "Esta é a forma de como os dados estão organizados no dataset."
      ]
    },
    {
      "cell_type": "code",
      "metadata": {
        "colab": {
          "base_uri": "https://localhost:8080/",
          "height": 297
        },
        "id": "6fops9kBO8d3",
        "outputId": "e8c53998-19ad-4aeb-f995-8c0f8a9ed318"
      },
      "source": [
        "data.head(5)"
      ],
      "execution_count": 3,
      "outputs": [
        {
          "output_type": "execute_result",
          "data": {
            "text/html": [
              "<div>\n",
              "<style scoped>\n",
              "    .dataframe tbody tr th:only-of-type {\n",
              "        vertical-align: middle;\n",
              "    }\n",
              "\n",
              "    .dataframe tbody tr th {\n",
              "        vertical-align: top;\n",
              "    }\n",
              "\n",
              "    .dataframe thead th {\n",
              "        text-align: right;\n",
              "    }\n",
              "</style>\n",
              "<table border=\"1\" class=\"dataframe\">\n",
              "  <thead>\n",
              "    <tr style=\"text-align: right;\">\n",
              "      <th></th>\n",
              "      <th>Horario</th>\n",
              "      <th>Dia</th>\n",
              "      <th>Data</th>\n",
              "      <th>Clube 1</th>\n",
              "      <th>Clube 2</th>\n",
              "      <th>Vencedor</th>\n",
              "      <th>Rodada</th>\n",
              "      <th>Arena</th>\n",
              "      <th>p1</th>\n",
              "      <th>p2</th>\n",
              "      <th>gols</th>\n",
              "      <th>C1 Estado</th>\n",
              "      <th>C2 Estado</th>\n",
              "      <th>Vencedor Estado</th>\n",
              "    </tr>\n",
              "  </thead>\n",
              "  <tbody>\n",
              "    <tr>\n",
              "      <th>0</th>\n",
              "      <td>16:00</td>\n",
              "      <td>Sábado</td>\n",
              "      <td>13/05/2017</td>\n",
              "      <td>Flamengo</td>\n",
              "      <td>Atlético-MG</td>\n",
              "      <td>-</td>\n",
              "      <td>1ª Rodada</td>\n",
              "      <td>Maracanã</td>\n",
              "      <td>1</td>\n",
              "      <td>1</td>\n",
              "      <td>2</td>\n",
              "      <td>RJ</td>\n",
              "      <td>MG</td>\n",
              "      <td>Empate</td>\n",
              "    </tr>\n",
              "    <tr>\n",
              "      <th>1</th>\n",
              "      <td>19:00</td>\n",
              "      <td>Sábado</td>\n",
              "      <td>13/05/2017</td>\n",
              "      <td>Corinthians</td>\n",
              "      <td>Chapecoense</td>\n",
              "      <td>-</td>\n",
              "      <td>1ª Rodada</td>\n",
              "      <td>Arena Corinthians</td>\n",
              "      <td>1</td>\n",
              "      <td>1</td>\n",
              "      <td>2</td>\n",
              "      <td>SP</td>\n",
              "      <td>SC</td>\n",
              "      <td>Empate</td>\n",
              "    </tr>\n",
              "    <tr>\n",
              "      <th>2</th>\n",
              "      <td>11:00</td>\n",
              "      <td>Domingo</td>\n",
              "      <td>14/05/2017</td>\n",
              "      <td>Fluminense</td>\n",
              "      <td>Santos</td>\n",
              "      <td>Fluminense</td>\n",
              "      <td>1ª Rodada</td>\n",
              "      <td>Maracanã</td>\n",
              "      <td>3</td>\n",
              "      <td>2</td>\n",
              "      <td>5</td>\n",
              "      <td>RJ</td>\n",
              "      <td>SP</td>\n",
              "      <td>RJ</td>\n",
              "    </tr>\n",
              "    <tr>\n",
              "      <th>3</th>\n",
              "      <td>16:00</td>\n",
              "      <td>Domingo</td>\n",
              "      <td>14/05/2017</td>\n",
              "      <td>Cruzeiro</td>\n",
              "      <td>São Paulo</td>\n",
              "      <td>Cruzeiro</td>\n",
              "      <td>1ª Rodada</td>\n",
              "      <td>Mineirão</td>\n",
              "      <td>1</td>\n",
              "      <td>0</td>\n",
              "      <td>1</td>\n",
              "      <td>MG</td>\n",
              "      <td>SP</td>\n",
              "      <td>MG</td>\n",
              "    </tr>\n",
              "    <tr>\n",
              "      <th>4</th>\n",
              "      <td>16:00</td>\n",
              "      <td>Domingo</td>\n",
              "      <td>14/05/2017</td>\n",
              "      <td>Ponte Preta</td>\n",
              "      <td>Sport</td>\n",
              "      <td>Ponte Preta</td>\n",
              "      <td>1ª Rodada</td>\n",
              "      <td>Moisés Lucarelli</td>\n",
              "      <td>4</td>\n",
              "      <td>0</td>\n",
              "      <td>4</td>\n",
              "      <td>SP</td>\n",
              "      <td>PE</td>\n",
              "      <td>SP</td>\n",
              "    </tr>\n",
              "  </tbody>\n",
              "</table>\n",
              "</div>"
            ],
            "text/plain": [
              "  Horario      Dia        Data  ... C1 Estado C2 Estado Vencedor Estado\n",
              "0   16:00   Sábado  13/05/2017  ...        RJ        MG          Empate\n",
              "1   19:00   Sábado  13/05/2017  ...        SP        SC          Empate\n",
              "2   11:00  Domingo  14/05/2017  ...        RJ        SP              RJ\n",
              "3   16:00  Domingo  14/05/2017  ...        MG        SP              MG\n",
              "4   16:00  Domingo  14/05/2017  ...        SP        PE              SP\n",
              "\n",
              "[5 rows x 14 columns]"
            ]
          },
          "metadata": {
            "tags": []
          },
          "execution_count": 3
        }
      ]
    },
    {
      "cell_type": "markdown",
      "metadata": {
        "id": "2ObN_kWDE1iB"
      },
      "source": [
        "Com a visualização abaixo, podemos ver quantos jogos ocorreram em cada dia da semana."
      ]
    },
    {
      "cell_type": "code",
      "metadata": {
        "colab": {
          "base_uri": "https://localhost:8080/",
          "height": 404
        },
        "id": "A8d-rFQsTgXJ",
        "outputId": "93d9ff8d-2133-4b6f-f35b-6dab24dd31bc"
      },
      "source": [
        "matches_day = data['Dia'].value_counts()\n",
        "\n",
        "plt.figure(figsize=(8, 6))\n",
        "plt.bar(matches_day.index, matches_day, zorder=3, edgecolor='black')\n",
        "plt.title('Jogos por dia da semana')\n",
        "plt.xlabel('Dia da semana')\n",
        "plt.ylabel('Quantidade de jogos')\n",
        "plt.grid()\n",
        "plt.show()"
      ],
      "execution_count": 4,
      "outputs": [
        {
          "output_type": "display_data",
          "data": {
            "image/png": "[encoded data removed]",
            "text/plain": [
              "<Figure size 576x432 with 1 Axes>"
            ]
          },
          "metadata": {
            "tags": [],
            "needs_background": "light"
          }
        }
      ]
    },
    {
      "cell_type": "markdown",
      "metadata": {
        "id": "05lo9r57E_vk"
      },
      "source": [
        "Observando o gráfico, é possível concluir que a grande maioria dos jogos acontecem no domingo, com quarta-feira logo depois. Levando em consideração esses dois dias da semana, podemos levantar a seguinte pergunta: **jogos aos domingos têm mais gols que jogos na quarta?** "
      ]
    },
    {
      "cell_type": "markdown",
      "metadata": {
        "id": "veW8Upt90FNv"
      },
      "source": [
        "E aqui podemos ver em quantos jogos houve um vencedor."
      ]
    },
    {
      "cell_type": "code",
      "metadata": {
        "colab": {
          "base_uri": "https://localhost:8080/",
          "height": 404
        },
        "id": "dwixp7DcX2Y_",
        "outputId": "318ef3cd-1f76-4782-dcdc-fae59c04cdda"
      },
      "source": [
        "matches_with_winner = data[data['Vencedor'] != '-']\n",
        "matches_without_winner = data[data['Vencedor'] == '-']\n",
        "\n",
        "outcomes = {\"Houve vencedor\": len(matches_with_winner),\n",
        "         \"Houve empate\": len(matches_without_winner)}\n",
        "\n",
        "plt.figure(figsize=(6, 6))\n",
        "plt.bar(outcomes.keys(), outcomes.values(), zorder=3, edgecolor='black')\n",
        "plt.title('Jogos por resultado')\n",
        "plt.xlabel('Resultado do jogo')\n",
        "plt.ylabel('Quantidade de jogos')\n",
        "plt.grid()\n",
        "plt.show()"
      ],
      "execution_count": 5,
      "outputs": [
        {
          "output_type": "display_data",
          "data": {
            "image/png": "[encoded data removed]",
            "text/plain": [
              "<Figure size 432x432 with 1 Axes>"
            ]
          },
          "metadata": {
            "tags": [],
            "needs_background": "light"
          }
        }
      ]
    },
    {
      "cell_type": "markdown",
      "metadata": {
        "id": "uf6Ujz6w1-b5"
      },
      "source": [
        "Podemos ver que, durante esta edição do campeonato, mais de 250 partidas terminaram com algum vencedor. É mais que o dobro das que terminatam empate. Se houveram tantas partidas com vencedor, é possível levantar a seguinte pergunta: **jogos onde há um vitorioso têm mais ou menos gols do que em jogos onde houve empate?**"
      ]
    },
    {
      "cell_type": "markdown",
      "metadata": {
        "id": "PuOCX2j_26Wt"
      },
      "source": [
        "Podemos responder as duas perguntas acima por meio de inferência estatística, utilizando intervalos de confiança e testes de hipótese. A seguir será mostrado uma maneira de como podemos realizar esses procedimentos."
      ]
    },
    {
      "cell_type": "markdown",
      "metadata": {
        "id": "Odv1Au_MHaKD"
      },
      "source": [
        "## Caso 1: jogos aos domingos têm mais gols que jogos nas quartas?\n"
      ]
    },
    {
      "cell_type": "markdown",
      "metadata": {
        "id": "qfIL_KKQH7X7"
      },
      "source": [
        "### Utilizando intervalo de confiança\n",
        "\n",
        "Primeiramente é preciso estabelecer o parâmetro que pretendemos estimar. Queremos saber se jogos aos domingos têm mais gols que jogos às quartas. É possível estimar isto comparando a média de gols dos jogos aos domingos com a média de gols dos jogos às quartas. A função abaixo irá fazer este trabalho. Uma diferença positiva significa que jogos aos domingos têm mais gols e uma negativa, jogos às quartas.\n",
        "\n",
        "Na amostra que temos, a diferença das médias apesar de ser negativa, indicando que jogos às quartas têm mais gols, é muito proxima de zero."
      ]
    },
    {
      "cell_type": "code",
      "metadata": {
        "id": "wBz0wa0Jf7YG",
        "colab": {
          "base_uri": "https://localhost:8080/"
        },
        "outputId": "4c83079f-1b24-47a8-dc2f-b76bd5fa6018"
      },
      "source": [
        "def calculate_theta(data) :\n",
        "  media_gols_domingo = np.mean(data[data[\"Dia\"] == \"Domingo\"][\"gols\"])\n",
        "  media_gols_quarta = np.mean(data[data[\"Dia\"] == \"Quarta-feira\"][\"gols\"])\n",
        "\n",
        "  return media_gols_domingo - media_gols_quarta\n",
        "\n",
        "theta = calculate_theta(data)\n",
        "theta"
      ],
      "execution_count": 6,
      "outputs": [
        {
          "output_type": "execute_result",
          "data": {
            "text/plain": [
              "-0.014823717948718063"
            ]
          },
          "metadata": {
            "tags": []
          },
          "execution_count": 6
        }
      ]
    },
    {
      "cell_type": "markdown",
      "metadata": {
        "id": "skdB6s-tm_ep"
      },
      "source": [
        "Retomando o que foi dito no início do artigo, iremos utilizar o processo de bootstraping. Isto nada mais é do que um processo de reamostragem com a finalidade de estimar a distribuição de um estimador. O diferencial deste tipo de reamostragem é que ela é feita **com reposição**, ou seja, é permitido que a mesma entrada da amostra original possa aparecer mais de uma vez nas amostras subsequentes obtidas. A função abaixo irá fazer este processo."
      ]
    },
    {
      "cell_type": "code",
      "metadata": {
        "id": "nlBPTeorjDms"
      },
      "source": [
        "def bootstrapper(data):\n",
        "  bootstrap = data.sample(n=len(data), replace=True)\n",
        "  return calculate_theta(bootstrap)"
      ],
      "execution_count": 7,
      "outputs": []
    },
    {
      "cell_type": "markdown",
      "metadata": {
        "id": "RCiLnqGOo410"
      },
      "source": [
        "Uma vez implementada a função, é hora de realizar a reamostragem. O processo será realizado 4000 vezes e os resultados serão guardados numa lista. Não há razão específica para este número de reamostragens, já que a própria literatura sugere vários números deferentes, podendo ser 1000, 10000, 100000 ou até mais."
      ]
    },
    {
      "cell_type": "code",
      "metadata": {
        "id": "NBooDOluAUZ1"
      },
      "source": [
        "repeat = 4000\n",
        "differences = []\n",
        "\n",
        "for i in range(repeat):\n",
        "  boot_diff = bootstrapper(data)\n",
        "  differences.append(boot_diff)"
      ],
      "execution_count": 8,
      "outputs": []
    },
    {
      "cell_type": "markdown",
      "metadata": {
        "id": "-l7ejg8hp6rX"
      },
      "source": [
        "O histograma abaixo representa como as diferenças estão distribuídas. É possível notar claramente que elas se aproximam de uma distribuição normal."
      ]
    },
    {
      "cell_type": "code",
      "metadata": {
        "colab": {
          "base_uri": "https://localhost:8080/",
          "height": 404
        },
        "id": "2Q9pHVUVA96E",
        "outputId": "f5241300-619f-4c8a-c823-46eaf8e55d92"
      },
      "source": [
        "plt.figure(figsize=(8, 6))\n",
        "plt.hist(differences, zorder=3, edgecolor=\"black\", bins=20)\n",
        "plt.title(\"Distribuição das diferenças das médias\")\n",
        "plt.xlabel(\"Diferença das médias\")\n",
        "plt.ylabel(\"Frequencia\")\n",
        "plt.grid()\n",
        "plt.show()"
      ],
      "execution_count": 9,
      "outputs": [
        {
          "output_type": "display_data",
          "data": {
            "image/png": "[encoded data removed]",
            "text/plain": [
              "<Figure size 576x432 with 1 Axes>"
            ]
          },
          "metadata": {
            "tags": [],
            "needs_background": "light"
          }
        }
      ]
    },
    {
      "cell_type": "markdown",
      "metadata": {
        "id": "y-0GHnf2qxbM"
      },
      "source": [
        "Agora que sabemos a distribuição dos estimadores do parâmetro, podemos calcular o intervalo de confiança. Para isto, iremos adotar um nível de confiança de 95%, ou seja, há 95% de chance de que o resultado para a população esteja dentro do intervalo obtido.\n",
        "\n"
      ]
    },
    {
      "cell_type": "code",
      "metadata": {
        "colab": {
          "base_uri": "https://localhost:8080/"
        },
        "id": "QcPh0EhABzd-",
        "outputId": "b0c14e6c-f4b2-44e8-c630-2745ddf9d68c"
      },
      "source": [
        "errors = [theta_hat - theta for theta_hat in differences]\n",
        "inf_error = np.quantile(errors, 0.025)\n",
        "sup_error = np.quantile(errors, 0.975)\n",
        "\n",
        "inf_value = theta + inf_error\n",
        "sup_value = theta + sup_error\n",
        "\n",
        "interval = {\"inf_value\": inf_value, \"sup_value\": sup_value}\n",
        "print(interval)"
      ],
      "execution_count": 10,
      "outputs": [
        {
          "output_type": "stream",
          "text": [
            "{'inf_value': -0.4414710250979511, 'sup_value': 0.4105660679652588}\n"
          ],
          "name": "stdout"
        }
      ]
    },
    {
      "cell_type": "markdown",
      "metadata": {
        "id": "3CB89W3mxZ6D"
      },
      "source": [
        "Feitos os cálculos, obtivemos um intervalo de confiança que varia de aproximadamente -0,44 até aproximadamente 0,41. O gráfico abaixo ilustra este intervalo."
      ]
    },
    {
      "cell_type": "code",
      "metadata": {
        "colab": {
          "base_uri": "https://localhost:8080/",
          "height": 404
        },
        "id": "vc2Yw6QPPYat",
        "outputId": "dd65beb9-6b52-484a-837e-fd24407b9a5d"
      },
      "source": [
        "plt.figure(figsize=(8, 6))\n",
        "plt.hist(differences, zorder=2, edgecolor=\"black\", bins=20)\n",
        "plt.axvline(theta, zorder=3, color=\"red\", label=\"Diferença das médias da amostra\")\n",
        "plt.axvspan(xmin=inf_value, xmax=sup_value, color=\"lightgreen\", label=\"Intervalo estimado\")\n",
        "plt.title(\"Intervalo estimado via bootstrap\")\n",
        "plt.xlabel(\"Diferença das médias obtidas pela reamostragem\")\n",
        "plt.ylabel(\"Frequencia\")\n",
        "plt.legend()\n",
        "plt.grid()\n",
        "plt.show()"
      ],
      "execution_count": 11,
      "outputs": [
        {
          "output_type": "display_data",
          "data": {
            "image/png": "[encoded data removed]",
            "text/plain": [
              "<Figure size 576x432 with 1 Axes>"
            ]
          },
          "metadata": {
            "tags": [],
            "needs_background": "light"
          }
        }
      ]
    },
    {
      "cell_type": "markdown",
      "metadata": {
        "id": "sqFSQIpMxyKp"
      },
      "source": [
        "Podemos tomar como conclusão que, com 95% de confiança, a diferença entre a média de gols de jogos aos domingos e de jogos as quartas da população de jogos do campeonato brasileiro está entre -0,44 e 0,41. Como o intervalo passa por zero, é provável que não haja diferença alguma."
      ]
    },
    {
      "cell_type": "markdown",
      "metadata": {
        "id": "lov-gIuXdrjV"
      },
      "source": [
        "### Utilizando teste de hipótese\n",
        "\n",
        "Para realizar este teste, iremos reformular a pergunta em duas hipóteses:\n",
        "- H$_{0}$: não há diferença entre a média de gols nos domingos e a média de gols nas quartas, ou seja, a diferença é zero.\n",
        "- H$_{1}$: há diferença entre a média de gols nos domingos e a média de gols nas quartas, ou seja, a diferença é diferente de zero.\n",
        "\n",
        "Como adotamos um nível de confiança de 95% para medir o intervalo de confiança, iremos adotar um nível de significância $\\alpha$ de 5%. Isso significa que há 5% chance de rejeitarmos a hipótese nula H$_{0}$ sendo ela verdadeira, o que caracteriza um erro tipo I.\n",
        "\n",
        "\n",
        "Dito isso, iremos agora realizar as permutações. Realizamos um teste de permutação quando queremos obter a distribuição do parâmetro a ser calculado, assumindo que a hipótese nula seja verdadeira. Para isso calcula-se vários valores dessa estatística sob vários rearranjos dos dados observados."
      ]
    },
    {
      "cell_type": "code",
      "metadata": {
        "id": "D5ylq4qfQqrl"
      },
      "source": [
        "def get_permutated_theta(data):\n",
        "  d = data\n",
        "  permutated_dia = list(d[\"Dia\"].sample(n=len(data)))\n",
        "  d[\"dia embaralhado\"] = permutated_dia\n",
        "  mean_goals_sunday = np.mean(d[d[\"dia embaralhado\"] == \"Domingo\"][\"gols\"])\n",
        "  mean_goals_wednesday = np.mean(d[d[\"dia embaralhado\"] == \"Quarta-feira\"][\"gols\"])\n",
        "\n",
        "  return mean_goals_sunday - mean_goals_wednesday"
      ],
      "execution_count": 12,
      "outputs": []
    },
    {
      "cell_type": "markdown",
      "metadata": {
        "id": "jeKY7oUIEVMr"
      },
      "source": [
        "Aqui, o processo de permutação é executado 4000 vezes e as diferenças das médias são guardadas numa lista."
      ]
    },
    {
      "cell_type": "code",
      "metadata": {
        "id": "TuMxGyGBTtj4"
      },
      "source": [
        "differences = []\n",
        "\n",
        "for i in range(repeat):\n",
        "  diff = get_permutated_theta(data)\n",
        "  differences.append(diff)"
      ],
      "execution_count": 13,
      "outputs": []
    },
    {
      "cell_type": "markdown",
      "metadata": {
        "id": "ApTX8NZ18EV0"
      },
      "source": [
        "O gráfico de denisdade abaixo ilustra a distribuição das diferenças das médias. Um gráfico de densidade é muito similar a um histograma. A curva simplesmente representa a densidade da probabilidade do que se quer medir. Ela é calculada de modo que a área abaixo da curva seja igual a 1."
      ]
    },
    {
      "cell_type": "code",
      "metadata": {
        "colab": {
          "base_uri": "https://localhost:8080/",
          "height": 387
        },
        "id": "oB2csSDP5iAM",
        "outputId": "30e0c867-ca00-4fe7-c585-c0ddc03d77f5"
      },
      "source": [
        "from scipy.stats import gaussian_kde\n",
        "density = gaussian_kde(differences)\n",
        "xs = np.linspace(-1, 1, 200)\n",
        "density.covariance_factor = lambda : .15\n",
        "density._compute_covariance()\n",
        "\n",
        "plt.figure(figsize=(8, 6))\n",
        "plt.plot(xs, density(xs), zorder=3, label=\"Curva de densidade\")\n",
        "plt.axvline(theta, zorder=3, color=\"red\", label=\"Diferença das médias da amostra\")\n",
        "plt.xlabel(\"Diferença\")\n",
        "plt.ylabel(\"Densidade\")\n",
        "plt.legend()\n",
        "plt.grid()\n",
        "plt.show()"
      ],
      "execution_count": 14,
      "outputs": [
        {
          "output_type": "display_data",
          "data": {
            "image/png": "[encoded data removed]",
            "text/plain": [
              "<Figure size 576x432 with 1 Axes>"
            ]
          },
          "metadata": {
            "tags": [],
            "needs_background": "light"
          }
        }
      ]
    },
    {
      "cell_type": "markdown",
      "metadata": {
        "id": "DLEoA2iICPxh"
      },
      "source": [
        "Novamente sabendo que as diferenças são distribuídas normalmente, vamos realizar os testes. As maneiras mais comuns são: determinar a região crítica ou calcular o p-valor. Como ja foram feitas reamostragens e dispomos de recursos computacionais, será feito o cálculo do p-valor."
      ]
    },
    {
      "cell_type": "code",
      "metadata": {
        "colab": {
          "base_uri": "https://localhost:8080/"
        },
        "id": "wq5-MdjGwzsr",
        "outputId": "4e4df5bf-f3e7-466e-fac6-d0f6d4356fac"
      },
      "source": [
        "p_value = np.mean([1 if abs(diff) >= abs(theta) else 0 for diff in differences])\n",
        "p_value"
      ],
      "execution_count": 15,
      "outputs": [
        {
          "output_type": "execute_result",
          "data": {
            "text/plain": [
              "0.953"
            ]
          },
          "metadata": {
            "tags": []
          },
          "execution_count": 15
        }
      ]
    },
    {
      "cell_type": "markdown",
      "metadata": {
        "id": "U18zwOZGIkLP"
      },
      "source": [
        "Como o p valor é muito superior ao nível de significância e é bem próximo de 1, então deve-se **não** rejeitar a hipótese nula, ou seja, não existem evidências amostrais suficientes que apontem uma diferença entre a média de gols nos domingos e a média de gols nas quartas."
      ]
    },
    {
      "cell_type": "markdown",
      "metadata": {
        "id": "CLhyvmxnXn8-"
      },
      "source": [
        "## Caso 2: jogos onde há um vitorioso têm mais ou menos gols que empates?"
      ]
    },
    {
      "cell_type": "markdown",
      "metadata": {
        "id": "5vOpo4E_fjbi"
      },
      "source": [
        "### Utilizando intervalo de confiança"
      ]
    },
    {
      "cell_type": "markdown",
      "metadata": {
        "id": "Qsyd9A_6GCum"
      },
      "source": [
        "De forma semelhante à pergunta anterior, estamos interessados em saber se há mais gols em jogos com vitórias do que em empates. Uma forma de obter uma resposta é calculando a média de gols de cada resultado e depois tirar a diferença. Neste caso, uma diferença positiva significa que há mais gols em jogos onde houve um vencedor, enquanto que uma diferença negativa significa que há mais gols em jogos onde houve empate.\n",
        "\n",
        "Na amostra que temos, há uma diferença positiva de aproximadamente 0.56 gol."
      ]
    },
    {
      "cell_type": "code",
      "metadata": {
        "colab": {
          "base_uri": "https://localhost:8080/"
        },
        "id": "jHScnpcwgNAy",
        "outputId": "31e14511-a408-48ce-ee5a-3c45f9514301"
      },
      "source": [
        "def calculate_theta(data):\n",
        "  mean_goals_winner = np.mean(data[data[\"Vencedor\"] != \"-\"][\"gols\"])\n",
        "  mean_goals_draw = np.mean(data[data[\"Vencedor\"] == \"-\"][\"gols\"])\n",
        "\n",
        "  return mean_goals_winner - mean_goals_draw\n",
        "\n",
        "theta = calculate_theta(data)\n",
        "theta"
      ],
      "execution_count": 16,
      "outputs": [
        {
          "output_type": "execute_result",
          "data": {
            "text/plain": [
              "0.5618099610949492"
            ]
          },
          "metadata": {
            "tags": []
          },
          "execution_count": 16
        }
      ]
    },
    {
      "cell_type": "markdown",
      "metadata": {
        "id": "wtBx6mbfH8qo"
      },
      "source": [
        "Aqui novamente realizamos o processo de bootstrping com 4000 repetições e armazenamos as diferenças obtidas numa lista."
      ]
    },
    {
      "cell_type": "code",
      "metadata": {
        "id": "Fgb4QYkghkOh"
      },
      "source": [
        "def bootstrapper(data):\n",
        "  bootstrap = data.sample(n = len(data), replace=True)\n",
        "  return calculate_theta(bootstrap)\n",
        "\n",
        "repeat = 4000\n",
        "differences = []\n",
        "\n",
        "for i in range(repeat):\n",
        "  boot_diff = bootstrapper(data)\n",
        "  differences.append(boot_diff)"
      ],
      "execution_count": 17,
      "outputs": []
    },
    {
      "cell_type": "markdown",
      "metadata": {
        "id": "TJ1fYGQXJoz9"
      },
      "source": [
        "O histograma abaixo permite identificar que as diferenças estão distribuídas normalmente. As diferenças próximas de 0.6 são as mais comuns."
      ]
    },
    {
      "cell_type": "code",
      "metadata": {
        "colab": {
          "base_uri": "https://localhost:8080/",
          "height": 404
        },
        "id": "w1wjIY01jPoN",
        "outputId": "73c889be-8c09-4587-eb1b-5e209ad89b99"
      },
      "source": [
        "plt.figure(figsize=(8, 6))\n",
        "plt.hist(differences, zorder=3, edgecolor=\"black\", bins=20)\n",
        "plt.title(\"Distribuição das diferenças das médias\")\n",
        "plt.xlabel(\"Diferença das médias\")\n",
        "plt.ylabel(\"Frequencia\")\n",
        "plt.grid()\n",
        "plt.show()"
      ],
      "execution_count": 18,
      "outputs": [
        {
          "output_type": "display_data",
          "data": {
            "image/png": "[encoded data removed]",
            "text/plain": [
              "<Figure size 576x432 with 1 Axes>"
            ]
          },
          "metadata": {
            "tags": [],
            "needs_background": "light"
          }
        }
      ]
    },
    {
      "cell_type": "markdown",
      "metadata": {
        "id": "jnjsLolBLkxS"
      },
      "source": [
        "Agora que sabemos a distribuição das médias, podemos calcular o intervalo de confiança, assumindo um nível de confiança de 95%."
      ]
    },
    {
      "cell_type": "code",
      "metadata": {
        "colab": {
          "base_uri": "https://localhost:8080/"
        },
        "id": "RY17EhIjkYMh",
        "outputId": "09df5199-5b83-44a6-ab6e-3f492ff867ac"
      },
      "source": [
        "errors = [theta_hat - theta for theta_hat in differences]\n",
        "inf_error = np.quantile(errors, 0.025)\n",
        "sup_error = np.quantile(errors, 0.975)\n",
        "\n",
        "inf_value = theta + inf_error\n",
        "sup_value = theta + sup_error\n",
        "\n",
        "interval = {\"inf_value\": inf_value, \"sup_value\": sup_value}\n",
        "print(interval)"
      ],
      "execution_count": 19,
      "outputs": [
        {
          "output_type": "stream",
          "text": [
            "{'inf_value': 0.22103888832332264, 'sup_value': 0.9022302813590866}\n"
          ],
          "name": "stdout"
        }
      ]
    },
    {
      "cell_type": "markdown",
      "metadata": {
        "id": "kjmQY1XtLxtY"
      },
      "source": [
        "Obtivemos um intervalo que varia de aproximadamente 0.22 até 0.90. O gráfico abaixo ilustra este intervalo."
      ]
    },
    {
      "cell_type": "code",
      "metadata": {
        "colab": {
          "base_uri": "https://localhost:8080/",
          "height": 404
        },
        "id": "zVuRzdSKlIl2",
        "outputId": "21ba7925-47e1-4b33-ed0e-683b2c6a155f"
      },
      "source": [
        "plt.figure(figsize=(8, 6))\n",
        "plt.hist(differences, zorder=2, edgecolor=\"black\", bins=20)\n",
        "plt.axvline(theta, zorder=3, color=\"red\", label=\"Diferença das médias da amostra\")\n",
        "plt.axvspan(xmin=inf_value, xmax=sup_value, color=\"lightgreen\", label=\"Intervalo estimado\")\n",
        "plt.title(\"Intervalo estimado via bootstrap\")\n",
        "plt.xlabel(\"Diferença das médias obtidas pela reamostragem\")\n",
        "plt.ylabel(\"Frequencia\")\n",
        "plt.legend()\n",
        "plt.grid()\n",
        "plt.show()"
      ],
      "execution_count": 20,
      "outputs": [
        {
          "output_type": "display_data",
          "data": {
            "image/png": "[encoded data removed]",
            "text/plain": [
              "<Figure size 576x432 with 1 Axes>"
            ]
          },
          "metadata": {
            "tags": [],
            "needs_background": "light"
          }
        }
      ]
    },
    {
      "cell_type": "markdown",
      "metadata": {
        "id": "xDcRcS2fL9AO"
      },
      "source": [
        "Podemos então concluir que, assumindo um nível de confiança de 95%, a real diferença entre a média de gols de jogos onde houve um vencedor e a média de gols de jogos onde houve empate está entre 0.22 e 0.90. Como o intervalo não passa por 0 e é sempre positivo, podemos dizer que há mais gols em jogos com um vitorioso."
      ]
    },
    {
      "cell_type": "markdown",
      "metadata": {
        "id": "B-AgCuX7fns1"
      },
      "source": [
        "### Utilizando teste de hipótese"
      ]
    },
    {
      "cell_type": "markdown",
      "metadata": {
        "id": "RN0muBVJNkSm"
      },
      "source": [
        "Primeiramente vamos reformular a pergunta em duas hipóteses:\n",
        "- H$_{0}$: não há diferença de gols entre jogos com um vitorioso e jogos com empate.\n",
        "- H$_{1}$: há diferença de gols entre jogos com um vitorioso e jogos com empate.\n",
        "\n",
        "Considerando um nível de significância $\\alpha$ de 5%, vamos realizar as permutações e armazenar as diferenças das médias obtidas por elas numa lista."
      ]
    },
    {
      "cell_type": "code",
      "metadata": {
        "id": "q9sjcmDorvfs"
      },
      "source": [
        "def calculate_theta_shuffled(data):\n",
        "  d = data\n",
        "  vencedor_sample = list(d[\"Vencedor\"].sample(n=len(data)))\n",
        "  d[\"vencedor_perm\"] = vencedor_sample\n",
        "  mean_goals_winner = np.mean(d[d[\"vencedor_perm\"] != \"-\"][\"gols\"])\n",
        "  mean_goals_draw = np.mean(d[data[\"vencedor_perm\"] == \"-\"][\"gols\"])\n",
        "\n",
        "  return mean_goals_winner - mean_goals_draw\n",
        "  \n",
        "differences2 = []\n",
        "\n",
        "for i in range(repeat):\n",
        "  diff = calculate_theta_shuffled(data)\n",
        "  differences2.append(diff)"
      ],
      "execution_count": 21,
      "outputs": []
    },
    {
      "cell_type": "markdown",
      "metadata": {
        "id": "cTjQgXqsR6Ka"
      },
      "source": [
        "O gráfico de densidade a abaixo ilustra como as diferenças estão distribuídas. Mesmo com o processo de permutação, as diferenças ainda seguem uma distribuição normal."
      ]
    },
    {
      "cell_type": "code",
      "metadata": {
        "colab": {
          "base_uri": "https://localhost:8080/",
          "height": 387
        },
        "id": "8eFQ7ZULBJ9N",
        "outputId": "e5221be5-14a8-4ee8-e283-2a19ef8ac082"
      },
      "source": [
        "density = gaussian_kde(differences2)\n",
        "xs = np.linspace(-0.8, 0.8, 200)\n",
        "density.covariance_factor = lambda : .15\n",
        "density._compute_covariance()\n",
        "\n",
        "plt.figure(figsize=(8, 6))\n",
        "plt.plot(xs, density(xs), zorder=3, label=\"Curva de densidade\")\n",
        "plt.axvline(theta, zorder=3, color=\"red\", label=\"Diferença das médias da amostra\")\n",
        "plt.xlabel(\"Diferença\")\n",
        "plt.ylabel(\"Densidade\")\n",
        "plt.legend()\n",
        "plt.grid()\n",
        "plt.show()"
      ],
      "execution_count": 22,
      "outputs": [
        {
          "output_type": "display_data",
          "data": {
            "image/png": "[encoded data removed]",
            "text/plain": [
              "<Figure size 576x432 with 1 Axes>"
            ]
          },
          "metadata": {
            "tags": [],
            "needs_background": "light"
          }
        }
      ]
    },
    {
      "cell_type": "markdown",
      "metadata": {
        "id": "cEb7mvUYQD7E"
      },
      "source": [
        "Com as diferenças obtidas realizando permutações 4000 vezes, podemos calcular o p-valor."
      ]
    },
    {
      "cell_type": "code",
      "metadata": {
        "colab": {
          "base_uri": "https://localhost:8080/"
        },
        "id": "BKccINp-7Nfb",
        "outputId": "2b47adc0-6a4a-46a3-800d-ec5248b4e797"
      },
      "source": [
        "p_value = np.mean([abs(diff) >= abs(theta) for diff in differences2])\n",
        "p_value"
      ],
      "execution_count": 23,
      "outputs": [
        {
          "output_type": "execute_result",
          "data": {
            "text/plain": [
              "0.00075"
            ]
          },
          "metadata": {
            "tags": []
          },
          "execution_count": 23
        }
      ]
    },
    {
      "cell_type": "markdown",
      "metadata": {
        "id": "hj_OKiHXSrHv"
      },
      "source": [
        "Neste caso, o p-valor é bem próximo de zero e é menor que o nível de significância. Desse modo, podemos **rejeitar** a hipótese nula, ou seja, há evidências amostrais suficientes para afirmar que exite uma diferença entre a média de gols de jogos que possuem um vencedor e a média de gols de jogos empatados."
      ]
    },
    {
      "cell_type": "markdown",
      "metadata": {
        "id": "bqiZ1BjNTguv"
      },
      "source": [
        "## Considerações finais\n",
        "\n",
        "Avaliando os resultados das duas perguntas podemos concluir que intervalos de confiança e testes de hipótese são processos bastante poderosos para realizar inferenência estatística. Ambos trouxeram resultados equivalentes e complementam um ao outro."
      ]
    }
  ]
}