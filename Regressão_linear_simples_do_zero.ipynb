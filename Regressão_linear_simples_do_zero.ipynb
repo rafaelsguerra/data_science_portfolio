{
  "nbformat": 4,
  "nbformat_minor": 0,
  "metadata": {
    "colab": {
      "name": "Regressão linear simples do zero.ipynb",
      "provenance": [],
      "collapsed_sections": [],
      "toc_visible": true,
      "authorship_tag": "ABX9TyMLjVsH2zO2qxFAQ9xdouq7",
      "include_colab_link": true
    },
    "kernelspec": {
      "name": "python3",
      "display_name": "Python 3"
    }
  },
  "cells": [
    {
      "cell_type": "markdown",
      "metadata": {
        "id": "view-in-github",
        "colab_type": "text"
      },
      "source": [
        "<a href=\"https://colab.research.google.com/github/rafaelsguerra/data_science_portfolio/blob/main/Regress%C3%A3o_linear_simples_do_zero.ipynb\" target=\"_parent\"><img src=\"https://colab.research.google.com/assets/colab-badge.svg\" alt=\"Open In Colab\"/></a>"
      ]
    },
    {
      "cell_type": "markdown",
      "metadata": {
        "id": "x8YqZVvoHV2j"
      },
      "source": [
        "Implementando Regressão Linear Simples do zero.\n",
        "==="
      ]
    },
    {
      "cell_type": "markdown",
      "metadata": {
        "id": "738uBMYTKtDr"
      },
      "source": [
        "## O que é regressão linear?\n",
        "\n",
        "Regressão Linear não é nada mais que uma equação utilizada para estimar o valor esperado de uma variável $y$ a partir de valores de outras variáveis $x$. Para a regressão linear simples, um modelo perfeito para realizar essas estimativas é a equação da reta $y = ax + b$, onde $a$ e $b$ são, respectivamente, os coeficientes angular e linear. \n",
        "\n",
        "De modo geral, pode-se dizer que um modelo é bom quando os valores previstos pela equação são exatamente iguais aos reais, mas este é um cenário que dificilmente (ou nunca) irá acontecer na vida real, portanto é preciso minimizar este erro. \n",
        "\n",
        "Uma das funções mais utilizadas para encontrar este erro é o RSS (Residual Sum of Squares) que é dado pela fórmula $\\displaystyle RSS = \\sum_{i = 1}^n (y_i - \\hat{y_i})^2$, onde $y_i$ são os valores reais e $\\hat{y}$ são os previstos. Como estamos falando de uma reta, é preciso achar valores valores para $a$ e $b$ de tal modo que o RSS seja o menor possível e que a reta de regressão se adeque bem aos dados.\n"
      ]
    },
    {
      "cell_type": "markdown",
      "metadata": {
        "id": "kUk404qf32AN"
      },
      "source": [
        "## Gradient descent e equações normais\n",
        "\n",
        "Um método para encontrar estes valores é o chamado **gradient descent**. Neste método, é aproveitado o fato de que a função RSS é quadrática, e que, portanto, comporta-se como uma parábola e possui um mínimo local. Logo, é possível utilizar-se de derivadas parciais para chegar a este ponto ou em algum outro aceitavelmente aproximado. Introduzindo os parâmetros $a$ e $b$ da equação da reta na função de RSS, obtemos $\\displaystyle RSS(a, b) = \\sum_{i=1}^n (y_i - [b + ax_i])^2$. A partir daí, pode-se obter as derivadas parciais:\n",
        "* $\\displaystyle \\frac{\\partial}{\\partial b} RSS(a, b) = -2 \\sum_{i=1}^n(y_i - [b + ax_i])$\n",
        "* $\\displaystyle \\frac{\\partial}{\\partial a} RSS(a, b) = -2 \\sum_{i=1}^n(y_i - [b + ax_i])x_i$\n",
        "\n",
        "Com estas equações, obtém-se o gradiente determinado pelo vetor $ \\nabla RSS = \n",
        " \\begin{pmatrix}\n",
        "  \\displaystyle -2 \\sum_{i=1}^n(y_i - [b + ax_i]) \\\\\n",
        "  \\displaystyle -2 \\sum_{i=1}^n(y_i - [b + ax_i])x_i\n",
        " \\end{pmatrix}$\n",
        ".\n",
        "\n",
        "A partir de um chute inicial para os coeficientes $a$ e $b$, é iniciado um processo iterativo que irá determinar o vetor resultante contendo os valores que os coeficientes assumirão na reta de regressão. Para que a cada passo iterativo os coeficientes assumam valores que se aproximem do mínimo local, é necessário um valor $\\alpha$ denonimado **learning rate** que determinará o quão profundo será o passo em direção a este ponto. Uma implementação deste método é apresentada neste artigo.\n",
        "\n",
        "Outro método para obtenção dos coeficientes é utilizando fórmulas fechadas ou **equações normais**. Também aproveitando-se de que o RSS é uma função quadrática, é possível chegar no seu mínimo local a partir de sua derivada e igualando-a a zero. Com isso, utilizando as derivadas parciais obtidas acima e igualando-as a zero, obtém-se as fórmulas:\n",
        "* $\\displaystyle \\hat{b} = \\overline{y} - \\hat{a}\\overline{x}$\n",
        "* $\\displaystyle \\hat{a} = \\frac{\\displaystyle \\sum_{i=1}^n(x_i - \\overline{x})(y_i - \\overline{y})}{\\displaystyle \\sum_{i=1}^n(x_i - \\overline{x})^2}$\n",
        "\n",
        "Uma implementação deste método também é discutida neste artigo."
      ]
    },
    {
      "cell_type": "code",
      "metadata": {
        "id": "-vDaNy_M8vJs"
      },
      "source": [
        "import numpy\n",
        "import matplotlib.pyplot as plt\n",
        " \n",
        "import time"
      ],
      "execution_count": 1,
      "outputs": []
    },
    {
      "cell_type": "markdown",
      "metadata": {
        "id": "PsnYCbbNyZLt"
      },
      "source": [
        "## Implementação utilizando iteração máxima\n",
        "Aqui será modificado o algoritmo visto [neste vídeo](https://www.youtube.com/watch?v=XdM6ER7zTLk) para imprimir o RSS a cada iteração do gradiente descendente e, ao final, gerar um gráfico mostrando a variação do RSS."
      ]
    },
    {
      "cell_type": "code",
      "metadata": {
        "id": "F6Oy5DRlYTKm"
      },
      "source": [
        "def compute_error_for_line_given_points(b, m, points):\n",
        "  total_error = 0\n",
        "\n",
        "  for i in range(0, len(points)):\n",
        "    x = points[i, 0]\n",
        "    y = points[i, 1]\n",
        "    total_error += (y - (m * x + b)) ** 2\n",
        "    \n",
        "  return total_error / float(len(points))"
      ],
      "execution_count": 2,
      "outputs": []
    },
    {
      "cell_type": "code",
      "metadata": {
        "id": "f1sMrUQ0YeFM"
      },
      "source": [
        "def step_gradient(b_current, m_current, points, learning_rate):\n",
        "  b_gradient = 0\n",
        "  m_gradient = 0\n",
        "  N = float(len(points))\n",
        " \n",
        "  for i in range(0, len(points)):\n",
        "    x = points[i, 0]\n",
        "    y = points[i, 1]\n",
        "    b_gradient += -(2/N) * (y - ((m_current * x) + b_current))\n",
        "    m_gradient += -(2/N) * x * (y - ((m_current * x) + b_current))\n",
        "    \n",
        "  new_b = b_current - (learning_rate * b_gradient)\n",
        "  new_m = m_current - (learning_rate * m_gradient)\n",
        "  return [new_b, new_m]"
      ],
      "execution_count": 3,
      "outputs": []
    },
    {
      "cell_type": "code",
      "metadata": {
        "id": "1KcInKfeAO81"
      },
      "source": [
        "def gradient_descent_runner(points, starting_b, starting_m, learning_rate, num_iterations):\n",
        "  b = starting_b\n",
        "  m = starting_m\n",
        "  errors = []\n",
        "  \n",
        "  for i in range(num_iterations):\n",
        "    b, m = step_gradient(b, m, numpy.array(points), learning_rate)\n",
        "    error = compute_error_for_line_given_points(b, m, points)\n",
        "\n",
        "    if (i % 25 == 0):\n",
        "      print(\"Iteration {}: RSS = {}\".format(i, error))\n",
        "    errors.append(error)\n",
        "\n",
        "  plt.figure(figsize=(8,6))\n",
        "  plt.plot(list(range(len(errors))), errors)\n",
        "  plt.title(\"Variation of RSS - learning rate = \" + str(learning_rate))\n",
        "  plt.xlabel(\"Iteration\")\n",
        "  plt.ylabel(\"RSS\")\n",
        "  plt.grid()\n",
        "  plt.show()\n",
        "  \n",
        "  return [b, m]"
      ],
      "execution_count": 4,
      "outputs": []
    },
    {
      "cell_type": "code",
      "metadata": {
        "id": "8gfor17FX32W",
        "colab": {
          "base_uri": "https://localhost:8080/",
          "height": 1000
        },
        "outputId": "f2888ebc-f7dc-4225-a4f7-2dc4409f4d63"
      },
      "source": [
        "points = numpy.genfromtxt(\"income.csv\", delimiter=\",\")\n",
        "learning_rate = 0.0001\n",
        "initial_b = 0 # initial y-intercept guess\n",
        "initial_m = 0 # initial slope guess\n",
        "num_iterations = 1000\n",
        "print(\"Starting gradient descent at b = {0}, m = {1}, error = {2}\".format(initial_b, initial_m, compute_error_for_line_given_points(initial_b, initial_m, points)))\n",
        "print(\"Running...\")\n",
        "t0 = time.time()\n",
        "[b, m] = gradient_descent_runner(points, initial_b, initial_m, learning_rate, num_iterations)\n",
        "t1 = time.time()\n",
        "print(\"After {0} iterations b = {1}, m = {2}, error = {3}\".format(num_iterations, b, m, compute_error_for_line_given_points(b, m, points)))\n",
        "print(\"Processing time: {} seconds\".format(t1-t0))"
      ],
      "execution_count": 5,
      "outputs": [
        {
          "output_type": "stream",
          "text": [
            "Starting gradient descent at b = 0, m = 0, error = 2946.6344970460195\n",
            "Running...\n",
            "Iteration 0: RSS = 2648.2381266261386\n",
            "Iteration 25: RSS = 263.6216509895024\n",
            "Iteration 50: RSS = 114.65917190116292\n",
            "Iteration 75: RSS = 105.32246636625382\n",
            "Iteration 100: RSS = 104.70597869157886\n",
            "Iteration 125: RSS = 104.6341202385038\n",
            "Iteration 150: RSS = 104.59629197125872\n",
            "Iteration 175: RSS = 104.56060487919999\n",
            "Iteration 200: RSS = 104.52506735534097\n",
            "Iteration 225: RSS = 104.48955500812818\n",
            "Iteration 250: RSS = 104.45406006127061\n",
            "Iteration 275: RSS = 104.41858202158214\n",
            "Iteration 300: RSS = 104.38312085074011\n",
            "Iteration 325: RSS = 104.34767653883328\n",
            "Iteration 350: RSS = 104.31224907772851\n",
            "Iteration 375: RSS = 104.27683845940734\n",
            "Iteration 400: RSS = 104.24144467586197\n",
            "Iteration 425: RSS = 104.20606771908889\n",
            "Iteration 450: RSS = 104.17070758108825\n",
            "Iteration 475: RSS = 104.1353642538642\n",
            "Iteration 500: RSS = 104.10003772942464\n",
            "Iteration 525: RSS = 104.0647279997813\n",
            "Iteration 550: RSS = 104.0294350569496\n",
            "Iteration 575: RSS = 103.99415889294873\n",
            "Iteration 600: RSS = 103.95889949980202\n",
            "Iteration 625: RSS = 103.9236568695362\n",
            "Iteration 650: RSS = 103.88843099418183\n",
            "Iteration 675: RSS = 103.85322186577346\n",
            "Iteration 700: RSS = 103.8180294763494\n",
            "Iteration 725: RSS = 103.78285381795148\n",
            "Iteration 750: RSS = 103.74769488262565\n",
            "Iteration 775: RSS = 103.71255266242134\n",
            "Iteration 800: RSS = 103.67742714939214\n",
            "Iteration 825: RSS = 103.64231833559502\n",
            "Iteration 850: RSS = 103.60722621309095\n",
            "Iteration 875: RSS = 103.57215077394453\n",
            "Iteration 900: RSS = 103.53709201022438\n",
            "Iteration 925: RSS = 103.5020499140027\n",
            "Iteration 950: RSS = 103.4670244773554\n",
            "Iteration 975: RSS = 103.43201569236241\n"
          ],
          "name": "stdout"
        },
        {
          "output_type": "display_data",
          "data": {
            "image/png": "[encoded data removed]",
            "text/plain": [
              "<Figure size 576x432 with 1 Axes>"
            ]
          },
          "metadata": {
            "tags": [],
            "needs_background": "light"
          }
        },
        {
          "output_type": "stream",
          "text": [
            "After 1000 iterations b = -0.18234255376510086, m = 3.262182267596014, error = 103.39842291729676\n",
            "Processing time: 0.2920234203338623 seconds\n"
          ],
          "name": "stdout"
        }
      ]
    },
    {
      "cell_type": "markdown",
      "metadata": {
        "id": "xgQlFpyMzbJb"
      },
      "source": [
        "## Comparando learning rate\n",
        "Aqui serão testados diferentes valores de learning rate com um breve comentário justificando as diferenças encontradas."
      ]
    },
    {
      "cell_type": "code",
      "metadata": {
        "id": "zQRNRnb10Fpl",
        "colab": {
          "base_uri": "https://localhost:8080/",
          "height": 1000
        },
        "outputId": "5a345df7-79ca-4942-eb34-41bcf8f19016"
      },
      "source": [
        "learning_rate = 0.0001\n",
        "gradient_descent_runner(points, 0, 0, learning_rate, 1000)\n"
      ],
      "execution_count": 6,
      "outputs": [
        {
          "output_type": "stream",
          "text": [
            "Iteration 0: RSS = 2648.2381266261386\n",
            "Iteration 25: RSS = 263.6216509895024\n",
            "Iteration 50: RSS = 114.65917190116292\n",
            "Iteration 75: RSS = 105.32246636625382\n",
            "Iteration 100: RSS = 104.70597869157886\n",
            "Iteration 125: RSS = 104.6341202385038\n",
            "Iteration 150: RSS = 104.59629197125872\n",
            "Iteration 175: RSS = 104.56060487919999\n",
            "Iteration 200: RSS = 104.52506735534097\n",
            "Iteration 225: RSS = 104.48955500812818\n",
            "Iteration 250: RSS = 104.45406006127061\n",
            "Iteration 275: RSS = 104.41858202158214\n",
            "Iteration 300: RSS = 104.38312085074011\n",
            "Iteration 325: RSS = 104.34767653883328\n",
            "Iteration 350: RSS = 104.31224907772851\n",
            "Iteration 375: RSS = 104.27683845940734\n",
            "Iteration 400: RSS = 104.24144467586197\n",
            "Iteration 425: RSS = 104.20606771908889\n",
            "Iteration 450: RSS = 104.17070758108825\n",
            "Iteration 475: RSS = 104.1353642538642\n",
            "Iteration 500: RSS = 104.10003772942464\n",
            "Iteration 525: RSS = 104.0647279997813\n",
            "Iteration 550: RSS = 104.0294350569496\n",
            "Iteration 575: RSS = 103.99415889294873\n",
            "Iteration 600: RSS = 103.95889949980202\n",
            "Iteration 625: RSS = 103.9236568695362\n",
            "Iteration 650: RSS = 103.88843099418183\n",
            "Iteration 675: RSS = 103.85322186577346\n",
            "Iteration 700: RSS = 103.8180294763494\n",
            "Iteration 725: RSS = 103.78285381795148\n",
            "Iteration 750: RSS = 103.74769488262565\n",
            "Iteration 775: RSS = 103.71255266242134\n",
            "Iteration 800: RSS = 103.67742714939214\n",
            "Iteration 825: RSS = 103.64231833559502\n",
            "Iteration 850: RSS = 103.60722621309095\n",
            "Iteration 875: RSS = 103.57215077394453\n",
            "Iteration 900: RSS = 103.53709201022438\n",
            "Iteration 925: RSS = 103.5020499140027\n",
            "Iteration 950: RSS = 103.4670244773554\n",
            "Iteration 975: RSS = 103.43201569236241\n"
          ],
          "name": "stdout"
        },
        {
          "output_type": "display_data",
          "data": {
            "image/png": "[encoded data removed]",
            "text/plain": [
              "<Figure size 576x432 with 1 Axes>"
            ]
          },
          "metadata": {
            "tags": [],
            "needs_background": "light"
          }
        },
        {
          "output_type": "execute_result",
          "data": {
            "text/plain": [
              "[-0.18234255376510086, 3.262182267596014]"
            ]
          },
          "metadata": {
            "tags": []
          },
          "execution_count": 6
        }
      ]
    },
    {
      "cell_type": "code",
      "metadata": {
        "id": "UXAyC6XpewAY",
        "colab": {
          "base_uri": "https://localhost:8080/",
          "height": 1000
        },
        "outputId": "1e165ab3-36be-4e6d-81c7-3db60e5bde31"
      },
      "source": [
        "learning_rate = 0.001\n",
        "gradient_descent_runner(points, 0, 0, learning_rate, 1000)\n"
      ],
      "execution_count": 7,
      "outputs": [
        {
          "output_type": "stream",
          "text": [
            "Iteration 0: RSS = 707.2710165896411\n",
            "Iteration 25: RSS = 104.44127022879209\n",
            "Iteration 50: RSS = 104.08729346059191\n",
            "Iteration 75: RSS = 103.7349960307014\n",
            "Iteration 100: RSS = 103.38436997199541\n",
            "Iteration 125: RSS = 103.03540735514665\n",
            "Iteration 150: RSS = 102.68810028844636\n",
            "Iteration 175: RSS = 102.34244091762513\n",
            "Iteration 200: RSS = 101.99842142567645\n",
            "Iteration 225: RSS = 101.65603403267876\n",
            "Iteration 250: RSS = 101.31527099562031\n",
            "Iteration 275: RSS = 100.97612460822376\n",
            "Iteration 300: RSS = 100.63858720077194\n",
            "Iteration 325: RSS = 100.30265113993418\n",
            "Iteration 350: RSS = 99.96830882859435\n",
            "Iteration 375: RSS = 99.63555270567804\n",
            "Iteration 400: RSS = 99.3043752459825\n",
            "Iteration 425: RSS = 98.97476896000605\n",
            "Iteration 450: RSS = 98.6467263937786\n",
            "Iteration 475: RSS = 98.32024012869331\n",
            "Iteration 500: RSS = 97.99530278133861\n",
            "Iteration 525: RSS = 97.67190700333161\n",
            "Iteration 550: RSS = 97.35004548115147\n",
            "Iteration 575: RSS = 97.02971093597414\n",
            "Iteration 600: RSS = 96.71089612350794\n",
            "Iteration 625: RSS = 96.39359383382943\n",
            "Iteration 650: RSS = 96.07779689122079\n",
            "Iteration 675: RSS = 95.76349815400695\n",
            "Iteration 700: RSS = 95.45069051439468\n",
            "Iteration 725: RSS = 95.13936689831145\n",
            "Iteration 750: RSS = 94.82952026524549\n",
            "Iteration 775: RSS = 94.52114360808696\n",
            "Iteration 800: RSS = 94.21422995296881\n",
            "Iteration 825: RSS = 93.90877235910975\n",
            "Iteration 850: RSS = 93.60476391865679\n",
            "Iteration 875: RSS = 93.30219775652931\n",
            "Iteration 900: RSS = 93.00106703026348\n",
            "Iteration 925: RSS = 92.70136492985743\n",
            "Iteration 950: RSS = 92.40308467761739\n",
            "Iteration 975: RSS = 92.10621952800433\n"
          ],
          "name": "stdout"
        },
        {
          "output_type": "display_data",
          "data": {
            "image/png": "[encoded data removed]",
            "text/plain": [
              "<Figure size 576x432 with 1 Axes>"
            ]
          },
          "metadata": {
            "tags": [],
            "needs_background": "light"
          }
        },
        {
          "output_type": "execute_result",
          "data": {
            "text/plain": [
              "[-3.403476317589064, 3.4539297809959373]"
            ]
          },
          "metadata": {
            "tags": []
          },
          "execution_count": 7
        }
      ]
    },
    {
      "cell_type": "code",
      "metadata": {
        "id": "p-oIQQGgez8r",
        "colab": {
          "base_uri": "https://localhost:8080/",
          "height": 1000
        },
        "outputId": "1ef30e51-43aa-4bc1-b838-bf34ace224c1"
      },
      "source": [
        "learning_rate = 0.003\n",
        "gradient_descent_runner(points, 0, 0, learning_rate, 1000)"
      ],
      "execution_count": 8,
      "outputs": [
        {
          "output_type": "stream",
          "text": [
            "Iteration 0: RSS = 1192.5455472930987\n",
            "Iteration 25: RSS = 103.70678031543049\n",
            "Iteration 50: RSS = 102.66018537480086\n",
            "Iteration 75: RSS = 101.62841710012748\n",
            "Iteration 100: RSS = 100.61126540872941\n",
            "Iteration 125: RSS = 99.60852323424139\n",
            "Iteration 150: RSS = 98.61998644371121\n",
            "Iteration 175: RSS = 97.64545379604353\n",
            "Iteration 200: RSS = 96.68472690103265\n",
            "Iteration 225: RSS = 95.73761017897496\n",
            "Iteration 250: RSS = 94.80391082085386\n",
            "Iteration 275: RSS = 93.88343874908881\n",
            "Iteration 300: RSS = 92.97600657884037\n",
            "Iteration 325: RSS = 92.08142957986321\n",
            "Iteration 350: RSS = 91.1995256389\n",
            "Iteration 375: RSS = 90.33011522260747\n",
            "Iteration 400: RSS = 89.473021341008\n",
            "Iteration 425: RSS = 88.6280695114592\n",
            "Iteration 450: RSS = 87.79508772313335\n",
            "Iteration 475: RSS = 86.97390640200032\n",
            "Iteration 500: RSS = 86.16435837630709\n",
            "Iteration 525: RSS = 85.36627884254514\n",
            "Iteration 550: RSS = 84.57950533190089\n",
            "Iteration 575: RSS = 83.80387767718142\n",
            "Iteration 600: RSS = 83.03923798020814\n",
            "Iteration 625: RSS = 82.2854305796727\n",
            "Iteration 650: RSS = 81.54230201944877\n",
            "Iteration 675: RSS = 80.80970101735143\n",
            "Iteration 700: RSS = 80.08747843434065\n",
            "Iteration 725: RSS = 79.37548724416021\n",
            "Iteration 750: RSS = 78.67358250340652\n",
            "Iteration 775: RSS = 77.98162132202226\n",
            "Iteration 800: RSS = 77.29946283420716\n",
            "Iteration 825: RSS = 76.62696816974172\n",
            "Iteration 850: RSS = 75.96400042571643\n",
            "Iteration 875: RSS = 75.31042463866174\n",
            "Iteration 900: RSS = 74.66610775707343\n",
            "Iteration 925: RSS = 74.03091861432594\n",
            "Iteration 950: RSS = 73.4047279019708\n",
            "Iteration 975: RSS = 72.78740814341224\n"
          ],
          "name": "stdout"
        },
        {
          "output_type": "display_data",
          "data": {
            "image/png": "[encoded data removed]",
            "text/plain": [
              "<Figure size 576x432 with 1 Axes>"
            ]
          },
          "metadata": {
            "tags": [],
            "needs_background": "light"
          }
        },
        {
          "output_type": "execute_result",
          "data": {
            "text/plain": [
              "[-9.647708875888311, 3.8256361905811556]"
            ]
          },
          "metadata": {
            "tags": []
          },
          "execution_count": 8
        }
      ]
    },
    {
      "cell_type": "markdown",
      "metadata": {
        "id": "LCx2KfU323Ua"
      },
      "source": [
        "É possível concluir que, ao aumentar a learning rate, o valor do RSS diminui. Isso acontece porque é dado um passo maior em direção ao valor mínimio possível do RSS a cada iteração do gradiente descendente. Apesar da aparente vantagem, o learning rate não deve possuir valores altos demais, pois um salto grande demais pode nunca atingir o valor mínimo do RSS, acarretando na não convergência do algorítmo."
      ]
    },
    {
      "cell_type": "markdown",
      "metadata": {
        "id": "QyMcyB1q0vAA"
      },
      "source": [
        "## Teste exaustivo\n",
        "\n",
        "Aqui foram testados vários valores de learning rate até que os parâmetros w0 e w1 assumissesm valores aproximadamente iguais a -39 e 5, respectivamente."
      ]
    },
    {
      "cell_type": "markdown",
      "metadata": {
        "id": "ZfInchJ2hFBj"
      },
      "source": [
        "Após várias tentativas, foi obtido o seguinte resultado:"
      ]
    },
    {
      "cell_type": "code",
      "metadata": {
        "id": "vTdV78p59jpf",
        "colab": {
          "base_uri": "https://localhost:8080/",
          "height": 1000
        },
        "outputId": "9ea1332b-fa84-45a6-a843-538b641c2cf2"
      },
      "source": [
        "learning_rate = 0.0037\n",
        "min_iterations = 13000\n",
        "\n",
        "gradient_descent_runner(points, 0, 0, learning_rate, min_iterations)"
      ],
      "execution_count": 9,
      "outputs": [
        {
          "output_type": "stream",
          "text": [
            "Iteration 0: RSS = 2926.0521028984167\n",
            "Iteration 25: RSS = 2457.030923362109\n",
            "Iteration 50: RSS = 2065.5702038707796\n",
            "Iteration 75: RSS = 1738.8153514888772\n",
            "Iteration 100: RSS = 1466.042749016033\n",
            "Iteration 125: RSS = 1238.3064828068761\n",
            "Iteration 150: RSS = 1048.143636043472\n",
            "Iteration 175: RSS = 889.3284384786847\n",
            "Iteration 200: RSS = 756.6671732236716\n",
            "Iteration 225: RSS = 645.8270838761715\n",
            "Iteration 250: RSS = 553.1936454124486\n",
            "Iteration 275: RSS = 475.7514966978579\n",
            "Iteration 300: RSS = 410.9851119925081\n",
            "Iteration 325: RSS = 356.7959391213157\n",
            "Iteration 350: RSS = 311.43327446460836\n",
            "Iteration 375: RSS = 273.4365974791706\n",
            "Iteration 400: RSS = 241.58746498873597\n",
            "Iteration 425: RSS = 214.86938042538387\n",
            "Iteration 450: RSS = 192.4343159345371\n",
            "Iteration 475: RSS = 173.57478443192772\n",
            "Iteration 500: RSS = 157.70054154161542\n",
            "Iteration 525: RSS = 144.31914987349302\n",
            "Iteration 550: RSS = 133.01976534179778\n",
            "Iteration 575: RSS = 123.45961137483228\n",
            "Iteration 600: RSS = 115.35269541743851\n",
            "Iteration 625: RSS = 108.46039599912501\n",
            "Iteration 650: RSS = 102.58361026564036\n",
            "Iteration 675: RSS = 97.55620328055058\n",
            "Iteration 700: RSS = 93.23954328957159\n",
            "Iteration 725: RSS = 89.51794291693697\n",
            "Iteration 750: RSS = 86.29485610857702\n",
            "Iteration 775: RSS = 83.4897055345867\n",
            "Iteration 800: RSS = 81.0352359336336\n",
            "Iteration 825: RSS = 78.87530620882629\n",
            "Iteration 850: RSS = 76.96304753902169\n",
            "Iteration 875: RSS = 75.25932682770573\n",
            "Iteration 900: RSS = 73.73146487076946\n",
            "Iteration 925: RSS = 72.35216701605792\n",
            "Iteration 950: RSS = 71.0986310879845\n",
            "Iteration 975: RSS = 69.95180319038101\n",
            "Iteration 1000: RSS = 68.89575687249955\n",
            "Iteration 1025: RSS = 67.91717520719492\n",
            "Iteration 1050: RSS = 67.00491872067141\n",
            "Iteration 1075: RSS = 66.14966494148501\n",
            "Iteration 1100: RSS = 65.34360769592466\n",
            "Iteration 1125: RSS = 64.58020624517393\n",
            "Iteration 1150: RSS = 63.85397600164162\n",
            "Iteration 1175: RSS = 63.16031393161911\n",
            "Iteration 1200: RSS = 62.495352894117524\n",
            "Iteration 1225: RSS = 61.85584011899282\n",
            "Iteration 1250: RSS = 61.23903582269402\n",
            "Iteration 1275: RSS = 60.64262862336416\n",
            "Iteration 1300: RSS = 60.06466497043807\n",
            "Iteration 1325: RSS = 59.503490265552585\n",
            "Iteration 1350: RSS = 58.95769973672005\n",
            "Iteration 1375: RSS = 58.42609744900442\n",
            "Iteration 1400: RSS = 57.90766210296093\n",
            "Iteration 1425: RSS = 57.40151849569499\n",
            "Iteration 1450: RSS = 56.906913705918576\n",
            "Iteration 1475: RSS = 56.42319721998395\n",
            "Iteration 1500: RSS = 55.94980434568425\n",
            "Iteration 1525: RSS = 55.486242368895084\n",
            "Iteration 1550: RSS = 55.032078998467334\n",
            "Iteration 1575: RSS = 54.58693272014313\n",
            "Iteration 1600: RSS = 54.15046474313035\n",
            "Iteration 1625: RSS = 53.722372275418934\n",
            "Iteration 1650: RSS = 53.302382907669845\n",
            "Iteration 1675: RSS = 52.89024992200708\n",
            "Iteration 1700: RSS = 52.485748372489496\n",
            "Iteration 1725: RSS = 52.088671809437535\n",
            "Iteration 1750: RSS = 51.69882954098129\n",
            "Iteration 1775: RSS = 51.316044342869596\n",
            "Iteration 1800: RSS = 50.94015054232805\n",
            "Iteration 1825: RSS = 50.57099241405366\n",
            "Iteration 1850: RSS = 50.208422836696734\n",
            "Iteration 1875: RSS = 49.85230216674079\n",
            "Iteration 1900: RSS = 49.50249729383329\n",
            "Iteration 1925: RSS = 49.15888084757794\n",
            "Iteration 1950: RSS = 48.82133053076839\n",
            "Iteration 1975: RSS = 48.489728558190755\n",
            "Iteration 2000: RSS = 48.163961183579964\n",
            "Iteration 2025: RSS = 47.8439183002012\n",
            "Iteration 2050: RSS = 47.529493102934104\n",
            "Iteration 2075: RSS = 47.22058180174672\n",
            "Iteration 2100: RSS = 46.91708337811999\n",
            "Iteration 2125: RSS = 46.6188993773818\n",
            "Iteration 2150: RSS = 46.325933731076006\n",
            "Iteration 2175: RSS = 46.038092604463245\n",
            "Iteration 2200: RSS = 45.75528426506293\n",
            "Iteration 2225: RSS = 45.47741896882162\n",
            "Iteration 2250: RSS = 45.204408861059214\n",
            "Iteration 2275: RSS = 44.9361678898136\n",
            "Iteration 2300: RSS = 44.67261172959907\n",
            "Iteration 2325: RSS = 44.41365771392075\n",
            "Iteration 2350: RSS = 44.15922477516165\n",
            "Iteration 2375: RSS = 43.909233390685976\n",
            "Iteration 2400: RSS = 43.66360553419422\n",
            "Iteration 2425: RSS = 43.4222646315231\n",
            "Iteration 2450: RSS = 43.185135520217145\n",
            "Iteration 2475: RSS = 42.95214441230819\n",
            "Iteration 2500: RSS = 42.723218859832485\n",
            "Iteration 2525: RSS = 42.49828772269057\n",
            "Iteration 2550: RSS = 42.27728113852156\n",
            "Iteration 2575: RSS = 42.06013049431477\n",
            "Iteration 2600: RSS = 41.846768399527654\n",
            "Iteration 2625: RSS = 41.63712866051665\n",
            "Iteration 2650: RSS = 41.43114625611751\n",
            "Iteration 2675: RSS = 41.22875731423859\n",
            "Iteration 2700: RSS = 41.02989908935263\n",
            "Iteration 2725: RSS = 40.834509940789175\n",
            "Iteration 2750: RSS = 40.642529311746976\n",
            "Iteration 2775: RSS = 40.45389770895635\n",
            "Iteration 2800: RSS = 40.26855668293393\n",
            "Iteration 2825: RSS = 40.08644880877937\n",
            "Iteration 2850: RSS = 39.90751766747247\n",
            "Iteration 2875: RSS = 39.731707827633635\n",
            "Iteration 2900: RSS = 39.55896482771818\n",
            "Iteration 2925: RSS = 39.3892351586163\n",
            "Iteration 2950: RSS = 39.222466246637055\n",
            "Iteration 2975: RSS = 39.05860643685563\n",
            "Iteration 3000: RSS = 38.89760497680655\n",
            "Iteration 3025: RSS = 38.73941200050827\n",
            "Iteration 3050: RSS = 38.58397851280446\n",
            "Iteration 3075: RSS = 38.43125637401131\n",
            "Iteration 3100: RSS = 38.28119828485953\n",
            "Iteration 3125: RSS = 38.133757771720894\n",
            "Iteration 3150: RSS = 37.98888917211216\n",
            "Iteration 3175: RSS = 37.8465476204667\n",
            "Iteration 3200: RSS = 37.706689034167816\n",
            "Iteration 3225: RSS = 37.56927009983645\n",
            "Iteration 3250: RSS = 37.43424825986723\n",
            "Iteration 3275: RSS = 37.30158169920662\n",
            "Iteration 3300: RSS = 37.17122933236875\n",
            "Iteration 3325: RSS = 37.04315079068219\n",
            "Iteration 3350: RSS = 36.91730640976407\n",
            "Iteration 3375: RSS = 36.79365721721625\n",
            "Iteration 3400: RSS = 36.672164920539196\n",
            "Iteration 3425: RSS = 36.552791895259176\n",
            "Iteration 3450: RSS = 36.43550117326484\n",
            "Iteration 3475: RSS = 36.32025643134874\n",
            "Iteration 3500: RSS = 36.20702197995044\n",
            "Iteration 3525: RSS = 36.095762752097386\n",
            "Iteration 3550: RSS = 35.98644429253911\n",
            "Iteration 3575: RSS = 35.87903274707262\n",
            "Iteration 3600: RSS = 35.77349485205411\n",
            "Iteration 3625: RSS = 35.66979792409441\n",
            "Iteration 3650: RSS = 35.56790984993492\n",
            "Iteration 3675: RSS = 35.46779907650003\n",
            "Iteration 3700: RSS = 35.369434601124084\n",
            "Iteration 3725: RSS = 35.272785961948486\n",
            "Iteration 3750: RSS = 35.177823228486965\n",
            "Iteration 3775: RSS = 35.08451699235547\n",
            "Iteration 3800: RSS = 34.99283835816386\n",
            "Iteration 3825: RSS = 34.9027589345669\n",
            "Iteration 3850: RSS = 34.814250825471035\n",
            "Iteration 3875: RSS = 34.727286621395095\n",
            "Iteration 3900: RSS = 34.641839390981545\n",
            "Iteration 3925: RSS = 34.55788267265585\n",
            "Iteration 3950: RSS = 34.475390466431485\n",
            "Iteration 3975: RSS = 34.394337225857996\n",
            "Iteration 4000: RSS = 34.314697850109354\n",
            "Iteration 4025: RSS = 34.236447676210545\n",
            "Iteration 4050: RSS = 34.15956247139967\n",
            "Iteration 4075: RSS = 34.08401842562342\n",
            "Iteration 4100: RSS = 34.00979214416321\n",
            "Iteration 4125: RSS = 33.93686064039041\n",
            "Iteration 4150: RSS = 33.86520132864749\n",
            "Iteration 4175: RSS = 33.79479201725361\n",
            "Iteration 4200: RSS = 33.72561090163223\n",
            "Iteration 4225: RSS = 33.657636557558526\n",
            "Iteration 4250: RSS = 33.59084793452463\n",
            "Iteration 4275: RSS = 33.52522434922058\n",
            "Iteration 4300: RSS = 33.460745479129095\n",
            "Iteration 4325: RSS = 33.39739135623197\n",
            "Iteration 4350: RSS = 33.335142360826346\n",
            "Iteration 4375: RSS = 33.27397921544872\n",
            "Iteration 4400: RSS = 33.21388297890507\n",
            "Iteration 4425: RSS = 33.15483504040508\n",
            "Iteration 4450: RSS = 33.09681711379872\n",
            "Iteration 4475: RSS = 33.039811231913305\n",
            "Iteration 4500: RSS = 32.98379974098926\n",
            "Iteration 4525: RSS = 32.92876529521322\n",
            "Iteration 4550: RSS = 32.87469085134621\n",
            "Iteration 4575: RSS = 32.82155966344562\n",
            "Iteration 4600: RSS = 32.76935527767932\n",
            "Iteration 4625: RSS = 32.718061527230226\n",
            "Iteration 4650: RSS = 32.66766252728953\n",
            "Iteration 4675: RSS = 32.61814267013769\n",
            "Iteration 4700: RSS = 32.569486620310805\n",
            "Iteration 4725: RSS = 32.521679309851514\n",
            "Iteration 4750: RSS = 32.47470593364268\n",
            "Iteration 4775: RSS = 32.42855194482262\n",
            "Iteration 4800: RSS = 32.383203050280024\n",
            "Iteration 4825: RSS = 32.33864520622774\n",
            "Iteration 4850: RSS = 32.29486461385354\n",
            "Iteration 4875: RSS = 32.25184771504704\n",
            "Iteration 4900: RSS = 32.20958118820073\n",
            "Iteration 4925: RSS = 32.16805194408472\n",
            "Iteration 4950: RSS = 32.12724712179308\n",
            "Iteration 4975: RSS = 32.08715408476114\n",
            "Iteration 5000: RSS = 32.04776041685207\n",
            "Iteration 5025: RSS = 32.00905391851191\n",
            "Iteration 5050: RSS = 31.971022602991436\n",
            "Iteration 5075: RSS = 31.93365469263423\n",
            "Iteration 5100: RSS = 31.896938615229168\n",
            "Iteration 5125: RSS = 31.86086300042692\n",
            "Iteration 5150: RSS = 31.82541667621846\n",
            "Iteration 5175: RSS = 31.79058866547554\n",
            "Iteration 5200: RSS = 31.756368182551082\n",
            "Iteration 5225: RSS = 31.72274462993922\n",
            "Iteration 5250: RSS = 31.689707594993205\n",
            "Iteration 5275: RSS = 31.657246846701018\n",
            "Iteration 5300: RSS = 31.625352332516822\n",
            "Iteration 5325: RSS = 31.594014175247985\n",
            "Iteration 5350: RSS = 31.56322266999611\n",
            "Iteration 5375: RSS = 31.532968281151867\n",
            "Iteration 5400: RSS = 31.50324163944163\n",
            "Iteration 5425: RSS = 31.474033539026287\n",
            "Iteration 5450: RSS = 31.445334934650205\n",
            "Iteration 5475: RSS = 31.41713693884\n",
            "Iteration 5500: RSS = 31.389430819152306\n",
            "Iteration 5525: RSS = 31.362207995469575\n",
            "Iteration 5550: RSS = 31.33546003734284\n",
            "Iteration 5575: RSS = 31.30917866138092\n",
            "Iteration 5600: RSS = 31.283355728685354\n",
            "Iteration 5625: RSS = 31.257983242329754\n",
            "Iteration 5650: RSS = 31.233053344883377\n",
            "Iteration 5675: RSS = 31.208558315977807\n",
            "Iteration 5700: RSS = 31.18449056991607\n",
            "Iteration 5725: RSS = 31.160842653323414\n",
            "Iteration 5750: RSS = 31.137607242839294\n",
            "Iteration 5775: RSS = 31.11477714284929\n",
            "Iteration 5800: RSS = 31.09234528325679\n",
            "Iteration 5825: RSS = 31.070304717293553\n",
            "Iteration 5850: RSS = 31.048648619368294\n",
            "Iteration 5875: RSS = 31.027370282953086\n",
            "Iteration 5900: RSS = 31.006463118506257\n",
            "Iteration 5925: RSS = 30.98592065143195\n",
            "Iteration 5950: RSS = 30.96573652007482\n",
            "Iteration 5975: RSS = 30.945904473750115\n",
            "Iteration 6000: RSS = 30.92641837080782\n",
            "Iteration 6025: RSS = 30.907272176730835\n",
            "Iteration 6050: RSS = 30.88845996226598\n",
            "Iteration 6075: RSS = 30.86997590158799\n",
            "Iteration 6100: RSS = 30.851814270495304\n",
            "Iteration 6125: RSS = 30.83396944463733\n",
            "Iteration 6150: RSS = 30.816435897772724\n",
            "Iteration 6175: RSS = 30.799208200057997\n",
            "Iteration 6200: RSS = 30.78228101636588\n",
            "Iteration 6225: RSS = 30.765649104633447\n",
            "Iteration 6250: RSS = 30.74930731423826\n",
            "Iteration 6275: RSS = 30.733250584403745\n",
            "Iteration 6300: RSS = 30.71747394263171\n",
            "Iteration 6325: RSS = 30.701972503162473\n",
            "Iteration 6350: RSS = 30.686741465461896\n",
            "Iteration 6375: RSS = 30.671776112734726\n",
            "Iteration 6400: RSS = 30.657071810463812\n",
            "Iteration 6425: RSS = 30.64262400497495\n",
            "Iteration 6450: RSS = 30.628428222026667\n",
            "Iteration 6475: RSS = 30.614480065424605\n",
            "Iteration 6500: RSS = 30.600775215660118\n",
            "Iteration 6525: RSS = 30.587309428572514\n",
            "Iteration 6550: RSS = 30.574078534034907\n",
            "Iteration 6575: RSS = 30.56107843466255\n",
            "Iteration 6600: RSS = 30.54830510454412\n",
            "Iteration 6625: RSS = 30.53575458799487\n",
            "Iteration 6650: RSS = 30.523422998331704\n",
            "Iteration 6675: RSS = 30.511306516669457\n",
            "Iteration 6700: RSS = 30.499401390738235\n",
            "Iteration 6725: RSS = 30.487703933721583\n",
            "Iteration 6750: RSS = 30.476210523114407\n",
            "Iteration 6775: RSS = 30.464917599601545\n",
            "Iteration 6800: RSS = 30.45382166595513\n",
            "Iteration 6825: RSS = 30.442919285951874\n",
            "Iteration 6850: RSS = 30.43220708330866\n",
            "Iteration 6875: RSS = 30.421681740637222\n",
            "Iteration 6900: RSS = 30.411339998416548\n",
            "Iteration 6925: RSS = 30.401178653983642\n",
            "Iteration 6950: RSS = 30.391194560541646\n",
            "Iteration 6975: RSS = 30.381384626185405\n",
            "Iteration 7000: RSS = 30.371745812943765\n",
            "Iteration 7025: RSS = 30.362275135839038\n",
            "Iteration 7050: RSS = 30.35296966196233\n",
            "Iteration 7075: RSS = 30.343826509565474\n",
            "Iteration 7100: RSS = 30.334842847168506\n",
            "Iteration 7125: RSS = 30.326015892682864\n",
            "Iteration 7150: RSS = 30.317342912549705\n",
            "Iteration 7175: RSS = 30.308821220893467\n",
            "Iteration 7200: RSS = 30.30044817869011\n",
            "Iteration 7225: RSS = 30.292221192949786\n",
            "Iteration 7250: RSS = 30.284137715913914\n",
            "Iteration 7275: RSS = 30.27619524426606\n",
            "Iteration 7300: RSS = 30.268391318356866\n",
            "Iteration 7325: RSS = 30.26072352144214\n",
            "Iteration 7350: RSS = 30.253189478934697\n",
            "Iteration 7375: RSS = 30.24578685766868\n",
            "Iteration 7400: RSS = 30.238513365177262\n",
            "Iteration 7425: RSS = 30.231366748982563\n",
            "Iteration 7450: RSS = 30.22434479589825\n",
            "Iteration 7475: RSS = 30.217445331343903\n",
            "Iteration 7500: RSS = 30.210666218671857\n",
            "Iteration 7525: RSS = 30.20400535850536\n",
            "Iteration 7550: RSS = 30.19746068808844\n",
            "Iteration 7575: RSS = 30.191030180647104\n",
            "Iteration 7600: RSS = 30.184711844761786\n",
            "Iteration 7625: RSS = 30.178503723750502\n",
            "Iteration 7650: RSS = 30.17240389506294\n",
            "Iteration 7675: RSS = 30.16641046968518\n",
            "Iteration 7700: RSS = 30.160521591554506\n",
            "Iteration 7725: RSS = 30.154735436984744\n",
            "Iteration 7750: RSS = 30.14905021410158\n",
            "Iteration 7775: RSS = 30.143464162287366\n",
            "Iteration 7800: RSS = 30.137975551636167\n",
            "Iteration 7825: RSS = 30.13258268241793\n",
            "Iteration 7850: RSS = 30.127283884552103\n",
            "Iteration 7875: RSS = 30.1220775170904\n",
            "Iteration 7900: RSS = 30.116961967708665\n",
            "Iteration 7925: RSS = 30.111935652207688\n",
            "Iteration 7950: RSS = 30.106997014022358\n",
            "Iteration 7975: RSS = 30.102144523739778\n",
            "Iteration 8000: RSS = 30.097376678625643\n",
            "Iteration 8025: RSS = 30.092692002158778\n",
            "Iteration 8050: RSS = 30.088089043573962\n",
            "Iteration 8075: RSS = 30.083566377412684\n",
            "Iteration 8100: RSS = 30.079122603081448\n",
            "Iteration 8125: RSS = 30.07475634441848\n",
            "Iteration 8150: RSS = 30.0704662492671\n",
            "Iteration 8175: RSS = 30.066250989057277\n",
            "Iteration 8200: RSS = 30.062109258394063\n",
            "Iteration 8225: RSS = 30.058039774653423\n",
            "Iteration 8250: RSS = 30.054041277584876\n",
            "Iteration 8275: RSS = 30.05011252892142\n",
            "Iteration 8300: RSS = 30.0462523119959\n",
            "Iteration 8325: RSS = 30.04245943136426\n",
            "Iteration 8350: RSS = 30.038732712435465\n",
            "Iteration 8375: RSS = 30.0350710011075\n",
            "Iteration 8400: RSS = 30.031473163410187\n",
            "Iteration 8425: RSS = 30.027938085153973\n",
            "Iteration 8450: RSS = 30.02446467158472\n",
            "Iteration 8475: RSS = 30.02105184704493\n",
            "Iteration 8500: RSS = 30.017698554640408\n",
            "Iteration 8525: RSS = 30.01440375591316\n",
            "Iteration 8550: RSS = 30.011166430519587\n",
            "Iteration 8575: RSS = 30.007985575914685\n",
            "Iteration 8600: RSS = 30.004860207041425\n",
            "Iteration 8625: RSS = 30.00178935602588\n",
            "Iteration 8650: RSS = 29.99877207187731\n",
            "Iteration 8675: RSS = 29.99580742019377\n",
            "Iteration 8700: RSS = 29.992894482872604\n",
            "Iteration 8725: RSS = 29.99003235782637\n",
            "Iteration 8750: RSS = 29.987220158703185\n",
            "Iteration 8775: RSS = 29.984457014612516\n",
            "Iteration 8800: RSS = 29.981742069855258\n",
            "Iteration 8825: RSS = 29.9790744836588\n",
            "Iteration 8850: RSS = 29.976453429916827\n",
            "Iteration 8875: RSS = 29.973878096933113\n",
            "Iteration 8900: RSS = 29.971347687170592\n",
            "Iteration 8925: RSS = 29.96886141700407\n",
            "Iteration 8950: RSS = 29.966418516477596\n",
            "Iteration 8975: RSS = 29.964018229066156\n",
            "Iteration 9000: RSS = 29.961659811441255\n",
            "Iteration 9025: RSS = 29.959342533240697\n",
            "Iteration 9050: RSS = 29.957065676842618\n",
            "Iteration 9075: RSS = 29.954828537142983\n",
            "Iteration 9100: RSS = 29.95263042133744\n",
            "Iteration 9125: RSS = 29.950470648706542\n",
            "Iteration 9150: RSS = 29.948348550405242\n",
            "Iteration 9175: RSS = 29.946263469255474\n",
            "Iteration 9200: RSS = 29.9442147595428\n",
            "Iteration 9225: RSS = 29.942201786816437\n",
            "Iteration 9250: RSS = 29.94022392769268\n",
            "Iteration 9275: RSS = 29.938280569661984\n",
            "Iteration 9300: RSS = 29.936371110899092\n",
            "Iteration 9325: RSS = 29.934494960076943\n",
            "Iteration 9350: RSS = 29.93265153618322\n",
            "Iteration 9375: RSS = 29.930840268340724\n",
            "Iteration 9400: RSS = 29.929060595630347\n",
            "Iteration 9425: RSS = 29.927311966917504\n",
            "Iteration 9450: RSS = 29.9255938406814\n",
            "Iteration 9475: RSS = 29.923905684847302\n",
            "Iteration 9500: RSS = 29.922246976621903\n",
            "Iteration 9525: RSS = 29.920617202331204\n",
            "Iteration 9550: RSS = 29.919015857261684\n",
            "Iteration 9575: RSS = 29.91744244550375\n",
            "Iteration 9600: RSS = 29.915896479798366\n",
            "Iteration 9625: RSS = 29.91437748138606\n",
            "Iteration 9650: RSS = 29.91288497985863\n",
            "Iteration 9675: RSS = 29.91141851301355\n",
            "Iteration 9700: RSS = 29.909977626710834\n",
            "Iteration 9725: RSS = 29.908561874732282\n",
            "Iteration 9750: RSS = 29.907170818643397\n",
            "Iteration 9775: RSS = 29.905804027657606\n",
            "Iteration 9800: RSS = 29.904461078502802\n",
            "Iteration 9825: RSS = 29.903141555290325\n",
            "Iteration 9850: RSS = 29.90184504938608\n",
            "Iteration 9875: RSS = 29.90057115928407\n",
            "Iteration 9900: RSS = 29.899319490482057\n",
            "Iteration 9925: RSS = 29.89808965535931\n",
            "Iteration 9950: RSS = 29.896881273056707\n",
            "Iteration 9975: RSS = 29.895693969358593\n",
            "Iteration 10000: RSS = 29.89452737657708\n",
            "Iteration 10025: RSS = 29.89338113343804\n",
            "Iteration 10050: RSS = 29.892254884969375\n",
            "Iteration 10075: RSS = 29.891148282390926\n",
            "Iteration 10100: RSS = 29.89006098300653\n",
            "Iteration 10125: RSS = 29.888992650097933\n",
            "Iteration 10150: RSS = 29.887942952820488\n",
            "Iteration 10175: RSS = 29.886911566100633\n",
            "Iteration 10200: RSS = 29.885898170535338\n",
            "Iteration 10225: RSS = 29.8849024522931\n",
            "Iteration 10250: RSS = 29.883924103016742\n",
            "Iteration 10275: RSS = 29.8829628197281\n",
            "Iteration 10300: RSS = 29.882018304733858\n",
            "Iteration 10325: RSS = 29.88109026553375\n",
            "Iteration 10350: RSS = 29.880178414729652\n",
            "Iteration 10375: RSS = 29.87928246993679\n",
            "Iteration 10400: RSS = 29.878402153696165\n",
            "Iteration 10425: RSS = 29.877537193388715\n",
            "Iteration 10450: RSS = 29.87668732115081\n",
            "Iteration 10475: RSS = 29.875852273791384\n",
            "Iteration 10500: RSS = 29.875031792710367\n",
            "Iteration 10525: RSS = 29.87422562381859\n",
            "Iteration 10550: RSS = 29.873433517459194\n",
            "Iteration 10575: RSS = 29.87265522833017\n",
            "Iteration 10600: RSS = 29.871890515408538\n",
            "Iteration 10625: RSS = 29.87113914187562\n",
            "Iteration 10650: RSS = 29.87040087504367\n",
            "Iteration 10675: RSS = 29.86967548628398\n",
            "Iteration 10700: RSS = 29.868962750955866\n",
            "Iteration 10725: RSS = 29.868262448337237\n",
            "Iteration 10750: RSS = 29.86757436155614\n",
            "Iteration 10775: RSS = 29.866898277523767\n",
            "Iteration 10800: RSS = 29.866233986868306\n",
            "Iteration 10825: RSS = 29.86558128387013\n",
            "Iteration 10850: RSS = 29.864939966398147\n",
            "Iteration 10875: RSS = 29.86430983584716\n",
            "Iteration 10900: RSS = 29.863690697076375\n",
            "Iteration 10925: RSS = 29.86308235834897\n",
            "Iteration 10950: RSS = 29.86248463127271\n",
            "Iteration 10975: RSS = 29.861897330741613\n",
            "Iteration 11000: RSS = 29.861320274878597\n",
            "Iteration 11025: RSS = 29.860753284979236\n",
            "Iteration 11050: RSS = 29.860196185456278\n",
            "Iteration 11075: RSS = 29.859648803785433\n",
            "Iteration 11100: RSS = 29.859110970451876\n",
            "Iteration 11125: RSS = 29.858582518897627\n",
            "Iteration 11150: RSS = 29.858063285470212\n",
            "Iteration 11175: RSS = 29.8575531093718\n",
            "Iteration 11200: RSS = 29.85705183260945\n",
            "Iteration 11225: RSS = 29.85655929994622\n",
            "Iteration 11250: RSS = 29.85607535885304\n",
            "Iteration 11275: RSS = 29.85559985946155\n",
            "Iteration 11300: RSS = 29.85513265451756\n",
            "Iteration 11325: RSS = 29.854673599335673\n",
            "Iteration 11350: RSS = 29.854222551754162\n",
            "Iteration 11375: RSS = 29.853779372091278\n",
            "Iteration 11400: RSS = 29.853343923101665\n",
            "Iteration 11425: RSS = 29.85291606993426\n",
            "Iteration 11450: RSS = 29.852495680090023\n",
            "Iteration 11475: RSS = 29.85208262338139\n",
            "Iteration 11500: RSS = 29.85167677189167\n",
            "Iteration 11525: RSS = 29.851277999935462\n",
            "Iteration 11550: RSS = 29.850886184019853\n",
            "Iteration 11575: RSS = 29.850501202806072\n",
            "Iteration 11600: RSS = 29.850122937071912\n",
            "Iteration 11625: RSS = 29.84975126967493\n",
            "Iteration 11650: RSS = 29.84938608551589\n",
            "Iteration 11675: RSS = 29.84902727150353\n",
            "Iteration 11700: RSS = 29.848674716519145\n",
            "Iteration 11725: RSS = 29.848328311382442\n",
            "Iteration 11750: RSS = 29.84798794881756\n",
            "Iteration 11775: RSS = 29.847653523419975\n",
            "Iteration 11800: RSS = 29.847324931623813\n",
            "Iteration 11825: RSS = 29.847002071669703\n",
            "Iteration 11850: RSS = 29.846684843573385\n",
            "Iteration 11875: RSS = 29.846373149094696\n",
            "Iteration 11900: RSS = 29.84606689170703\n",
            "Iteration 11925: RSS = 29.845765976567755\n",
            "Iteration 11950: RSS = 29.845470310488455\n",
            "Iteration 11975: RSS = 29.845179801906365\n",
            "Iteration 12000: RSS = 29.844894360855918\n",
            "Iteration 12025: RSS = 29.844613898940747\n",
            "Iteration 12050: RSS = 29.844338329306606\n",
            "Iteration 12075: RSS = 29.844067566614214\n",
            "Iteration 12100: RSS = 29.843801527012932\n",
            "Iteration 12125: RSS = 29.84354012811478\n",
            "Iteration 12150: RSS = 29.8432832889689\n",
            "Iteration 12175: RSS = 29.843030930036626\n",
            "Iteration 12200: RSS = 29.8427829731666\n",
            "Iteration 12225: RSS = 29.842539341570763\n",
            "Iteration 12250: RSS = 29.842299959800542\n",
            "Iteration 12275: RSS = 29.842064753723445\n",
            "Iteration 12300: RSS = 29.84183365050007\n",
            "Iteration 12325: RSS = 29.841606578561727\n",
            "Iteration 12350: RSS = 29.84138346758804\n",
            "Iteration 12375: RSS = 29.84116424848527\n",
            "Iteration 12400: RSS = 29.84094885336502\n",
            "Iteration 12425: RSS = 29.84073721552299\n",
            "Iteration 12450: RSS = 29.84052926941859\n",
            "Iteration 12475: RSS = 29.840324950654356\n",
            "Iteration 12500: RSS = 29.840124195956246\n",
            "Iteration 12525: RSS = 29.83992694315394\n",
            "Iteration 12550: RSS = 29.83973313116151\n",
            "Iteration 12575: RSS = 29.839542699958713\n",
            "Iteration 12600: RSS = 29.8393555905722\n",
            "Iteration 12625: RSS = 29.83917174505736\n",
            "Iteration 12650: RSS = 29.83899110648031\n",
            "Iteration 12675: RSS = 29.838813618900378\n",
            "Iteration 12700: RSS = 29.83863922735261\n",
            "Iteration 12725: RSS = 29.838467877830915\n",
            "Iteration 12750: RSS = 29.838299517271256\n",
            "Iteration 12775: RSS = 29.838134093535167\n",
            "Iteration 12800: RSS = 29.837971555393732\n",
            "Iteration 12825: RSS = 29.837811852511628\n",
            "Iteration 12850: RSS = 29.837654935431566\n",
            "Iteration 12875: RSS = 29.83750075555899\n",
            "Iteration 12900: RSS = 29.837349265146987\n",
            "Iteration 12925: RSS = 29.83720041728151\n",
            "Iteration 12950: RSS = 29.837054165866927\n",
            "Iteration 12975: RSS = 29.836910465611627\n"
          ],
          "name": "stdout"
        },
        {
          "output_type": "display_data",
          "data": {
            "image/png": "[encoded data removed]",
            "text/plain": [
              "<Figure size 576x432 with 1 Axes>"
            ]
          },
          "metadata": {
            "tags": [],
            "needs_background": "light"
          }
        },
        {
          "output_type": "execute_result",
          "data": {
            "text/plain": [
              "[-39.03787644918523, 5.575172833199998]"
            ]
          },
          "metadata": {
            "tags": []
          },
          "execution_count": 9
        }
      ]
    },
    {
      "cell_type": "code",
      "metadata": {
        "id": "cgOyuq-vMA0u",
        "colab": {
          "base_uri": "https://localhost:8080/",
          "height": 374
        },
        "outputId": "27437240-6e09-4394-fa98-99ddb4ca054e"
      },
      "source": [
        "points\n",
        "x = []\n",
        "y = []\n",
        "\n",
        "for elem in points:\n",
        "  x.append(elem[0])\n",
        "  y.append(elem[1])\n",
        "\n",
        "x_reg = list(range(8, 25))\n",
        "y_reg = [(-39.03787644918523 + (5.575172833199998 * elem)) for elem in x_reg]\n",
        "\n",
        "plt.figure(figsize=(9,6))\n",
        "plt.scatter(x, y)\n",
        "plt.plot(x_reg, y_reg, color=\"r\")\n",
        "plt.grid()\n",
        "plt.show()"
      ],
      "execution_count": 10,
      "outputs": [
        {
          "output_type": "display_data",
          "data": {
            "image/png": "[encoded data removed]",
            "text/plain": [
              "<Figure size 648x432 with 1 Axes>"
            ]
          },
          "metadata": {
            "tags": [],
            "needs_background": "light"
          }
        }
      ]
    },
    {
      "cell_type": "markdown",
      "metadata": {
        "id": "Jw84xaGjhS8a"
      },
      "source": [
        "Com aproximadamente **13 mil iterações** e assumindo um **learning rate de 0.0037**, foi possível obter valores similares a -39 e 5 para w0 e w1. Repare que a reta de regressão formada por esses coeficientes é bem adequada visualmente."
      ]
    },
    {
      "cell_type": "markdown",
      "metadata": {
        "id": "fLoWl7zzdVy7"
      },
      "source": [
        "## Implementação utilizando critério de tolerância\n",
        "\n",
        "Aqui foi modificado o algoritmo visto anteriormente de modo que a comparação entre a norma do vetor do gradiente e um critério de tolerância seja considerada em vez do número de iterações.\n",
        "\n",
        "Alterar o algoritmo para que a comparação entre a norma do vetor do gradiente e um critério de tolerância seja considerada em vez do número de iterações. Depois, informe um valor de tolerância que se aproxime dos valores da atividade anterior."
      ]
    },
    {
      "cell_type": "code",
      "metadata": {
        "id": "3bZ-CO2EKyvp"
      },
      "source": [
        "def gradient_rss(points, b, m):\n",
        "  b_gradient = 0\n",
        "  m_gradient = 0\n",
        "  N = float(len(points))\n",
        "\n",
        "  for i in range(len(points)):\n",
        "    x = points[i, 0]\n",
        "    y = points[i, 1]\n",
        "\n",
        "    b_gradient += (-2/N) * (y - (b + m * x))\n",
        "    m_gradient += (-2/N) * ((y - (b + m * x)) * x)\n",
        "\n",
        "  return [b_gradient, m_gradient]"
      ],
      "execution_count": 11,
      "outputs": []
    },
    {
      "cell_type": "code",
      "metadata": {
        "id": "ocQrMvayepOO"
      },
      "source": [
        "def gradient_descent_runner(points, starting_b, starting_m, learning_rate, tolerance):\n",
        "  b = starting_b\n",
        "  m = starting_m\n",
        "  errors = []\n",
        "  i = 0\n",
        "  N = float(len(points))\n",
        "\n",
        "  while numpy.linalg.norm(gradient_rss(points, b, m)) >= tolerance:\n",
        "    \n",
        "    temp_0 = b\n",
        "    temp_1 = m\n",
        "\n",
        "    for j in range(len(points)):\n",
        "      x = points[j, 0]\n",
        "      y = points[j, 1]\n",
        "      temp_0 += (2/N) * learning_rate * (y - (b + m * x))\n",
        "      temp_1 += (2/N) * learning_rate * (y - (b + m * x)) * x\n",
        "\n",
        "    b = temp_0\n",
        "    m = temp_1\n",
        "    error = compute_error_for_line_given_points(b, m, points)\n",
        "    \n",
        "    if i%100 == 0: print(\"Iteration {}: RSS = {}\".format(i, error))\n",
        "    errors.append(error)\n",
        "\n",
        "    i += 1\n",
        "  \n",
        "\n",
        "  plt.figure(figsize=(8,6))\n",
        "  plt.plot(list(range(len(errors))), errors)\n",
        "  plt.title(\"Variation of RSS - learning rate = \" + str(learning_rate))\n",
        "  plt.xlabel(\"Iteration\")\n",
        "  plt.ylabel(\"RSS\")\n",
        "  plt.grid()\n",
        "  plt.show()\n",
        "\n",
        "  return [b, m]"
      ],
      "execution_count": 12,
      "outputs": []
    },
    {
      "cell_type": "code",
      "metadata": {
        "id": "2Suyi1m8gsrn",
        "colab": {
          "base_uri": "https://localhost:8080/",
          "height": 1000
        },
        "outputId": "d20f2833-b8ed-4857-9e02-7921ef0508dd"
      },
      "source": [
        "t0 = time.time()\n",
        "coefficients = gradient_descent_runner(points, 0, 0, 0.0037, 0.01)\n",
        "t1 = time.time()\n",
        "print('Processing time: {} seconds'.format(t1 - t0))\n",
        "print('Coefficients: {}'.format(coefficients))"
      ],
      "execution_count": 13,
      "outputs": [
        {
          "output_type": "stream",
          "text": [
            "Iteration 0: RSS = 2926.052102898421\n",
            "Iteration 100: RSS = 1466.0427490160482\n",
            "Iteration 200: RSS = 756.6671732236714\n",
            "Iteration 300: RSS = 410.9851119925052\n",
            "Iteration 400: RSS = 241.58746498873435\n",
            "Iteration 500: RSS = 157.70054154161508\n",
            "Iteration 600: RSS = 115.35269541744013\n",
            "Iteration 700: RSS = 93.23954328957248\n",
            "Iteration 800: RSS = 81.0352359336333\n",
            "Iteration 900: RSS = 73.73146487076902\n",
            "Iteration 1000: RSS = 68.89575687249906\n",
            "Iteration 1100: RSS = 65.34360769592442\n",
            "Iteration 1200: RSS = 62.49535289411748\n",
            "Iteration 1300: RSS = 60.064664970438095\n",
            "Iteration 1400: RSS = 57.90766210296096\n",
            "Iteration 1500: RSS = 55.94980434568422\n",
            "Iteration 1600: RSS = 54.150464743130286\n",
            "Iteration 1700: RSS = 52.48574837248945\n",
            "Iteration 1800: RSS = 50.94015054232819\n",
            "Iteration 1900: RSS = 49.502497293833486\n",
            "Iteration 2000: RSS = 48.16396118358035\n",
            "Iteration 2100: RSS = 46.91708337812022\n",
            "Iteration 2200: RSS = 45.75528426506321\n",
            "Iteration 2300: RSS = 44.6726117295995\n",
            "Iteration 2400: RSS = 43.66360553419453\n",
            "Iteration 2500: RSS = 42.72321885983268\n",
            "Iteration 2600: RSS = 41.84676839952788\n",
            "Iteration 2700: RSS = 41.02989908935261\n",
            "Iteration 2800: RSS = 40.26855668293393\n",
            "Iteration 2900: RSS = 39.558964827718015\n",
            "Iteration 3000: RSS = 38.89760497680642\n",
            "Iteration 3100: RSS = 38.28119828485933\n",
            "Iteration 3200: RSS = 37.70668903416758\n",
            "Iteration 3300: RSS = 37.17122933236842\n",
            "Iteration 3400: RSS = 36.67216492053884\n",
            "Iteration 3500: RSS = 36.20702197995025\n",
            "Iteration 3600: RSS = 35.77349485205387\n",
            "Iteration 3700: RSS = 35.36943460112388\n",
            "Iteration 3800: RSS = 34.992838358163716\n",
            "Iteration 3900: RSS = 34.641839390981445\n",
            "Iteration 4000: RSS = 34.3146978501092\n",
            "Iteration 4100: RSS = 34.00979214416311\n",
            "Iteration 4200: RSS = 33.72561090163213\n",
            "Iteration 4300: RSS = 33.46074547912899\n",
            "Iteration 4400: RSS = 33.21388297890492\n",
            "Iteration 4500: RSS = 32.98379974098909\n",
            "Iteration 4600: RSS = 32.76935527767911\n",
            "Iteration 4700: RSS = 32.56948662031057\n",
            "Iteration 4800: RSS = 32.383203050279775\n",
            "Iteration 4900: RSS = 32.209581188200495\n",
            "Iteration 5000: RSS = 32.04776041685173\n",
            "Iteration 5100: RSS = 31.896938615228997\n",
            "Iteration 5200: RSS = 31.756368182550826\n",
            "Iteration 5300: RSS = 31.625352332516627\n",
            "Iteration 5400: RSS = 31.50324163944143\n",
            "Iteration 5500: RSS = 31.389430819152164\n",
            "Iteration 5600: RSS = 31.28335572868527\n",
            "Iteration 5700: RSS = 31.184490569915905\n",
            "Iteration 5800: RSS = 31.09234528325664\n",
            "Iteration 5900: RSS = 31.00646311850618\n",
            "Iteration 6000: RSS = 30.926418370807752\n",
            "Iteration 6100: RSS = 30.85181427049527\n",
            "Iteration 6200: RSS = 30.782281016365825\n",
            "Iteration 6300: RSS = 30.717473942631738\n",
            "Iteration 6400: RSS = 30.657071810463755\n",
            "Iteration 6500: RSS = 30.60077521566011\n",
            "Iteration 6600: RSS = 30.548305104544145\n",
            "Iteration 6700: RSS = 30.49940139073822\n",
            "Iteration 6800: RSS = 30.45382166595508\n",
            "Iteration 6900: RSS = 30.4113399984165\n",
            "Iteration 7000: RSS = 30.371745812943747\n",
            "Iteration 7100: RSS = 30.33484284716852\n",
            "Iteration 7200: RSS = 30.30044817869004\n",
            "Iteration 7300: RSS = 30.2683913183568\n",
            "Iteration 7400: RSS = 30.238513365177173\n",
            "Iteration 7500: RSS = 30.21066621867183\n",
            "Iteration 7600: RSS = 30.184711844761726\n",
            "Iteration 7700: RSS = 30.160521591554435\n",
            "Iteration 7800: RSS = 30.137975551636163\n",
            "Iteration 7900: RSS = 30.116961967708637\n",
            "Iteration 8000: RSS = 30.09737667862564\n",
            "Iteration 8100: RSS = 30.079122603081487\n",
            "Iteration 8200: RSS = 30.06210925839407\n",
            "Iteration 8300: RSS = 30.046252311995904\n",
            "Iteration 8400: RSS = 30.031473163410244\n",
            "Iteration 8500: RSS = 30.01769855464047\n",
            "Iteration 8600: RSS = 30.004860207041474\n",
            "Iteration 8700: RSS = 29.992894482872668\n",
            "Iteration 8800: RSS = 29.981742069855333\n",
            "Iteration 8900: RSS = 29.971347687170706\n",
            "Iteration 9000: RSS = 29.961659811441347\n",
            "Iteration 9100: RSS = 29.952630421337567\n",
            "Iteration 9200: RSS = 29.944214759542923\n",
            "Iteration 9300: RSS = 29.93637111089919\n",
            "Iteration 9400: RSS = 29.929060595630446\n",
            "Iteration 9500: RSS = 29.92224697662196\n",
            "Iteration 9600: RSS = 29.915896479798462\n",
            "Iteration 9700: RSS = 29.909977626710905\n",
            "Iteration 9800: RSS = 29.904461078502873\n",
            "Iteration 9900: RSS = 29.89931949048211\n",
            "Iteration 10000: RSS = 29.894527376577134\n",
            "Iteration 10100: RSS = 29.890060983006602\n",
            "Iteration 10200: RSS = 29.88589817053541\n",
            "Iteration 10300: RSS = 29.88201830473391\n",
            "Iteration 10400: RSS = 29.878402153696204\n",
            "Iteration 10500: RSS = 29.875031792710377\n",
            "Iteration 10600: RSS = 29.871890515408573\n",
            "Iteration 10700: RSS = 29.8689627509559\n",
            "Iteration 10800: RSS = 29.86623398686834\n",
            "Iteration 10900: RSS = 29.863690697076436\n",
            "Iteration 11000: RSS = 29.861320274878665\n",
            "Iteration 11100: RSS = 29.859110970451916\n",
            "Iteration 11200: RSS = 29.857051832609486\n",
            "Iteration 11300: RSS = 29.855132654517607\n",
            "Iteration 11400: RSS = 29.853343923101743\n",
            "Iteration 11500: RSS = 29.85167677189171\n",
            "Iteration 11600: RSS = 29.85012293707196\n",
            "Iteration 11700: RSS = 29.848674716519163\n",
            "Iteration 11800: RSS = 29.847324931623827\n",
            "Iteration 11900: RSS = 29.846066891707057\n",
            "Iteration 12000: RSS = 29.844894360855914\n",
            "Iteration 12100: RSS = 29.84380152701295\n",
            "Iteration 12200: RSS = 29.842782973166617\n",
            "Iteration 12300: RSS = 29.8418336505001\n",
            "Iteration 12400: RSS = 29.840948853365056\n",
            "Iteration 12500: RSS = 29.84012419595629\n",
            "Iteration 12600: RSS = 29.839355590572225\n",
            "Iteration 12700: RSS = 29.83863922735266\n",
            "Iteration 12800: RSS = 29.837971555393754\n",
            "Iteration 12900: RSS = 29.837349265146997\n",
            "Iteration 13000: RSS = 29.83676927201405\n",
            "Iteration 13100: RSS = 29.83622870105701\n",
            "Iteration 13200: RSS = 29.83572487274766\n",
            "Iteration 13300: RSS = 29.835255289685527\n",
            "Iteration 13400: RSS = 29.83481762421866\n",
            "Iteration 13500: RSS = 29.83440970690573\n",
            "Iteration 13600: RSS = 29.83402951576257\n",
            "Iteration 13700: RSS = 29.83367516623938\n",
            "Iteration 13800: RSS = 29.833344901879318\n",
            "Iteration 13900: RSS = 29.833037085612073\n",
            "Iteration 14000: RSS = 29.832750191639164\n",
            "Iteration 14100: RSS = 29.83248279787069\n",
            "Iteration 14200: RSS = 29.832233578876288\n",
            "Iteration 14300: RSS = 29.832001299315277\n",
            "Iteration 14400: RSS = 29.831784807813104\n",
            "Iteration 14500: RSS = 29.831583031254247\n",
            "Iteration 14600: RSS = 29.831394969462966\n",
            "Iteration 14700: RSS = 29.83121969024541\n",
            "Iteration 14800: RSS = 29.8310563247692\n",
            "Iteration 14900: RSS = 29.830904063256373\n",
            "Iteration 15000: RSS = 29.830762150969818\n",
            "Iteration 15100: RSS = 29.83062988447177\n",
            "Iteration 15200: RSS = 29.83050660813733\n",
            "Iteration 15300: RSS = 29.83039171090443\n",
            "Iteration 15400: RSS = 29.83028462324488\n",
            "Iteration 15500: RSS = 29.830184814341425\n",
            "Iteration 15600: RSS = 29.83009178945648\n",
            "Iteration 15700: RSS = 29.830005087479787\n",
            "Iteration 15800: RSS = 29.82992427864281\n",
            "Iteration 15900: RSS = 29.82984896238845\n",
            "Iteration 16000: RSS = 29.829778765385456\n",
            "Iteration 16100: RSS = 29.82971333967788\n",
            "Iteration 16200: RSS = 29.829652360960463\n",
            "Iteration 16300: RSS = 29.82959552697095\n",
            "Iteration 16400: RSS = 29.82954255599191\n",
            "Iteration 16500: RSS = 29.82949318545419\n",
            "Iteration 16600: RSS = 29.829447170635557\n",
            "Iteration 16700: RSS = 29.82940428344752\n",
            "Iteration 16800: RSS = 29.829364311304804\n"
          ],
          "name": "stdout"
        },
        {
          "output_type": "display_data",
          "data": {
            "image/png": "[encoded data removed]",
            "text/plain": [
              "<Figure size 576x432 with 1 Axes>"
            ]
          },
          "metadata": {
            "tags": [],
            "needs_background": "light"
          }
        },
        {
          "output_type": "stream",
          "text": [
            "Processing time: 3.4746954441070557 seconds\n",
            "Coefficients: [-39.341324641876454, 5.593236484280751]\n"
          ],
          "name": "stdout"
        }
      ]
    },
    {
      "cell_type": "markdown",
      "metadata": {
        "id": "9VB8x_0Ed7qt"
      },
      "source": [
        "Utilizando um critério de tolerância de 0.01, foi possível obter valores similares em relação ao exercício anterior. É possível concluir que ambos os algoritmos tem eficiência equivalente, mas a versão que considera o critério de tolerância tem maior potêncial para encontrar valores que minimizem o rss, dado que foi possível encontrar um RSS um pouco menor que o da atividade anterior, ao custo de mais iterações."
      ]
    },
    {
      "cell_type": "markdown",
      "metadata": {
        "id": "GR0ZQhuNe0QD"
      },
      "source": [
        "## Implementação utilizando forma fechada\n",
        "Aqui foi feita uma implementação utilizando as fórmula fechadas para calcular os coeficientes de regressão."
      ]
    },
    {
      "cell_type": "code",
      "metadata": {
        "id": "E4UDCxp6qSzr"
      },
      "source": [
        "def simple_linear_regression(data): \n",
        "  temp_x = 0\n",
        "  temp_y = 0\n",
        "\n",
        "  for i in range(len(data)):\n",
        "    temp_x += data[i, 0]\n",
        "    temp_y += data[i, 1]\n",
        "\n",
        "  mean_x = temp_x / len(data)\n",
        "  mean_y = temp_y / len(data)\n",
        "\n",
        "  a = 0\n",
        "  b = 0\n",
        "\n",
        "  for i in range(len(data)):\n",
        "    a += (data[i, 0] - mean_x) * (data[i, 1] - mean_y)\n",
        "    b += ((data[i, 0] - mean_x) ** 2)\n",
        "\n",
        "  w_1 = a / b\n",
        "  w_0 = mean_y - (w_1 * mean_x)\n",
        "\n",
        "  return [w_0, w_1]"
      ],
      "execution_count": 14,
      "outputs": []
    },
    {
      "cell_type": "code",
      "metadata": {
        "id": "YbYPyd_utv57",
        "colab": {
          "base_uri": "https://localhost:8080/"
        },
        "outputId": "7b2fcb64-3667-4267-8597-38e975d6d296"
      },
      "source": [
        "t0 = time.time()\n",
        "coefficients = simple_linear_regression(points)\n",
        "t1 = time.time()\n",
        "print('Processing time: {} seconds'.format(t1-t0))\n",
        "print('Coefficients: {}'.format(coefficients))"
      ],
      "execution_count": 15,
      "outputs": [
        {
          "output_type": "stream",
          "text": [
            "Processing time: 0.00021386146545410156 seconds\n",
            "Coefficients: [-39.44625667909617, 5.599482874119919]\n"
          ],
          "name": "stdout"
        }
      ]
    },
    {
      "cell_type": "code",
      "metadata": {
        "id": "BJDINGO-uMpz",
        "colab": {
          "base_uri": "https://localhost:8080/",
          "height": 374
        },
        "outputId": "304e597a-f0e5-4de3-cf65-f2752a171204"
      },
      "source": [
        "x = []\n",
        "y = []\n",
        "\n",
        "for elem in points:\n",
        "  x.append(elem[0])\n",
        "  y.append(elem[1])\n",
        "\n",
        "x_reg = list(range(8, 25))\n",
        "y_reg = [(-39.44625667909617 + (5.599482874119919 * elem)) for elem in x_reg]\n",
        "\n",
        "plt.figure(figsize=(9,6))\n",
        "plt.scatter(x, y)\n",
        "plt.plot(x_reg, y_reg, color=\"r\")\n",
        "plt.grid()\n",
        "plt.show()"
      ],
      "execution_count": 16,
      "outputs": [
        {
          "output_type": "display_data",
          "data": {
            "image/png": "[encoded data removed]",
            "text/plain": [
              "<Figure size 648x432 with 1 Axes>"
            ]
          },
          "metadata": {
            "tags": [],
            "needs_background": "light"
          }
        }
      ]
    }
  ]
}