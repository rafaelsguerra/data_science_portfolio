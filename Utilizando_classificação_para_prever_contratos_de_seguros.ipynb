{
  "nbformat": 4,
  "nbformat_minor": 0,
  "metadata": {
    "colab": {
      "name": "Utilizando classificação para prever contratos de seguros.ipynb",
      "provenance": [],
      "collapsed_sections": [],
      "toc_visible": true,
      "authorship_tag": "ABX9TyOoligyqgF3vQ5ifDKMqUtD",
      "include_colab_link": true
    },
    "kernelspec": {
      "name": "python3",
      "display_name": "Python 3"
    }
  },
  "cells": [
    {
      "cell_type": "markdown",
      "metadata": {
        "id": "view-in-github",
        "colab_type": "text"
      },
      "source": [
        "<a href=\"https://colab.research.google.com/github/rafaelsguerra/data_science_portfolio/blob/main/Utilizando_classifica%C3%A7%C3%A3o_para_prever_contratos_de_seguros.ipynb\" target=\"_parent\"><img src=\"https://colab.research.google.com/assets/colab-badge.svg\" alt=\"Open In Colab\"/></a>"
      ]
    },
    {
      "cell_type": "markdown",
      "metadata": {
        "id": "-bI-MUZmen0I"
      },
      "source": [
        "# Utilizando classificação para prever contratos de seguros\n",
        "\n",
        "Neste artigo, iremos explorar um conjunto de dados de uma seguradora que provê seguro saúde para seus clientes e aplicar técnicas de aprendizagem de máquina para prever se os mesmos estariam interessados em adquirir um seguro para seus veículos.\n",
        "\n",
        "Construir um modelo desse tipo pode se tornar muito útil para a empresa, pois ajudará a planejar a sua estratégia de comunicação e otimizará seu plano de negócios e receita."
      ]
    },
    {
      "cell_type": "markdown",
      "metadata": {
        "id": "JvStpY4Ne3BO"
      },
      "source": [
        "## Explorando os dados"
      ]
    },
    {
      "cell_type": "code",
      "metadata": {
        "id": "Z2wZuHXpekXs"
      },
      "source": [
        "import pandas as pd\n",
        "import numpy as np\n",
        "np.random.seed(42)\n",
        "\n",
        "data = pd.read_csv('train.csv')"
      ],
      "execution_count": null,
      "outputs": []
    },
    {
      "cell_type": "markdown",
      "metadata": {
        "id": "5MHx-Ur7iv38"
      },
      "source": [
        "Esta é uma breve descrição das colunas presentes nos dados:\n",
        "- **id**: ID única do cliente;\n",
        "- **Age**: idade do cliente;\n",
        "- **Driving_License**: variável binária que indica se o cliente possui habilitação;\n",
        "- **Region_code**: código para a região do cliente;\n",
        "- **Previusly_Insured**: variável binária que indica se o cliente já usufruiram do seguro para veiculos no passado;\n",
        "- **Vehicle_Age**: idade do veículo;\n",
        "- **Vehicle_Damage**: variável binária que indica se o veículo sofreu danos no passado;\n",
        "- **Annual_Premium**: taxa paga anualmente;\n",
        "- **Policy_Sales_Channel**: código anonimizado para indicar o canal de contato com o cliente (correspondênica, telefone, pessoalmente, etc.);\n",
        "- **Vintage**: tempo em dias em que o cliente é segurado pela empresa;\n",
        "- **Response**: variável binária que indica se o cliente está interessado em adquirir um seguro para seu veículo. É a variável alvo."
      ]
    },
    {
      "cell_type": "code",
      "metadata": {
        "id": "dD1MBjUFgUXy",
        "colab": {
          "base_uri": "https://localhost:8080/",
          "height": 217
        },
        "outputId": "f7ba2722-0ea0-4bbd-9f84-7b189bd5c00f"
      },
      "source": [
        "data.head(5)"
      ],
      "execution_count": null,
      "outputs": [
        {
          "output_type": "execute_result",
          "data": {
            "text/html": [
              "<div>\n",
              "<style scoped>\n",
              "    .dataframe tbody tr th:only-of-type {\n",
              "        vertical-align: middle;\n",
              "    }\n",
              "\n",
              "    .dataframe tbody tr th {\n",
              "        vertical-align: top;\n",
              "    }\n",
              "\n",
              "    .dataframe thead th {\n",
              "        text-align: right;\n",
              "    }\n",
              "</style>\n",
              "<table border=\"1\" class=\"dataframe\">\n",
              "  <thead>\n",
              "    <tr style=\"text-align: right;\">\n",
              "      <th></th>\n",
              "      <th>id</th>\n",
              "      <th>Gender</th>\n",
              "      <th>Age</th>\n",
              "      <th>Driving_License</th>\n",
              "      <th>Region_Code</th>\n",
              "      <th>Previously_Insured</th>\n",
              "      <th>Vehicle_Age</th>\n",
              "      <th>Vehicle_Damage</th>\n",
              "      <th>Annual_Premium</th>\n",
              "      <th>Policy_Sales_Channel</th>\n",
              "      <th>Vintage</th>\n",
              "      <th>Response</th>\n",
              "    </tr>\n",
              "  </thead>\n",
              "  <tbody>\n",
              "    <tr>\n",
              "      <th>0</th>\n",
              "      <td>1</td>\n",
              "      <td>Male</td>\n",
              "      <td>44</td>\n",
              "      <td>1</td>\n",
              "      <td>28.0</td>\n",
              "      <td>0</td>\n",
              "      <td>&gt; 2 Years</td>\n",
              "      <td>Yes</td>\n",
              "      <td>40454.0</td>\n",
              "      <td>26.0</td>\n",
              "      <td>217</td>\n",
              "      <td>1</td>\n",
              "    </tr>\n",
              "    <tr>\n",
              "      <th>1</th>\n",
              "      <td>2</td>\n",
              "      <td>Male</td>\n",
              "      <td>76</td>\n",
              "      <td>1</td>\n",
              "      <td>3.0</td>\n",
              "      <td>0</td>\n",
              "      <td>1-2 Year</td>\n",
              "      <td>No</td>\n",
              "      <td>33536.0</td>\n",
              "      <td>26.0</td>\n",
              "      <td>183</td>\n",
              "      <td>0</td>\n",
              "    </tr>\n",
              "    <tr>\n",
              "      <th>2</th>\n",
              "      <td>3</td>\n",
              "      <td>Male</td>\n",
              "      <td>47</td>\n",
              "      <td>1</td>\n",
              "      <td>28.0</td>\n",
              "      <td>0</td>\n",
              "      <td>&gt; 2 Years</td>\n",
              "      <td>Yes</td>\n",
              "      <td>38294.0</td>\n",
              "      <td>26.0</td>\n",
              "      <td>27</td>\n",
              "      <td>1</td>\n",
              "    </tr>\n",
              "    <tr>\n",
              "      <th>3</th>\n",
              "      <td>4</td>\n",
              "      <td>Male</td>\n",
              "      <td>21</td>\n",
              "      <td>1</td>\n",
              "      <td>11.0</td>\n",
              "      <td>1</td>\n",
              "      <td>&lt; 1 Year</td>\n",
              "      <td>No</td>\n",
              "      <td>28619.0</td>\n",
              "      <td>152.0</td>\n",
              "      <td>203</td>\n",
              "      <td>0</td>\n",
              "    </tr>\n",
              "    <tr>\n",
              "      <th>4</th>\n",
              "      <td>5</td>\n",
              "      <td>Female</td>\n",
              "      <td>29</td>\n",
              "      <td>1</td>\n",
              "      <td>41.0</td>\n",
              "      <td>1</td>\n",
              "      <td>&lt; 1 Year</td>\n",
              "      <td>No</td>\n",
              "      <td>27496.0</td>\n",
              "      <td>152.0</td>\n",
              "      <td>39</td>\n",
              "      <td>0</td>\n",
              "    </tr>\n",
              "  </tbody>\n",
              "</table>\n",
              "</div>"
            ],
            "text/plain": [
              "   id  Gender  Age  ...  Policy_Sales_Channel  Vintage  Response\n",
              "0   1    Male   44  ...                  26.0      217         1\n",
              "1   2    Male   76  ...                  26.0      183         0\n",
              "2   3    Male   47  ...                  26.0       27         1\n",
              "3   4    Male   21  ...                 152.0      203         0\n",
              "4   5  Female   29  ...                 152.0       39         0\n",
              "\n",
              "[5 rows x 12 columns]"
            ]
          },
          "metadata": {
            "tags": []
          },
          "execution_count": 2
        }
      ]
    },
    {
      "cell_type": "markdown",
      "metadata": {
        "id": "mYNV54XgrsSH"
      },
      "source": [
        "### Distribuição das variáveis\n",
        "\n"
      ]
    },
    {
      "cell_type": "code",
      "metadata": {
        "id": "NeYtNvxerohc",
        "colab": {
          "base_uri": "https://localhost:8080/",
          "height": 317
        },
        "outputId": "97799a48-0384-41af-dfa8-0fddd1736226"
      },
      "source": [
        "data.describe().T"
      ],
      "execution_count": null,
      "outputs": [
        {
          "output_type": "execute_result",
          "data": {
            "text/html": [
              "<div>\n",
              "<style scoped>\n",
              "    .dataframe tbody tr th:only-of-type {\n",
              "        vertical-align: middle;\n",
              "    }\n",
              "\n",
              "    .dataframe tbody tr th {\n",
              "        vertical-align: top;\n",
              "    }\n",
              "\n",
              "    .dataframe thead th {\n",
              "        text-align: right;\n",
              "    }\n",
              "</style>\n",
              "<table border=\"1\" class=\"dataframe\">\n",
              "  <thead>\n",
              "    <tr style=\"text-align: right;\">\n",
              "      <th></th>\n",
              "      <th>count</th>\n",
              "      <th>mean</th>\n",
              "      <th>std</th>\n",
              "      <th>min</th>\n",
              "      <th>25%</th>\n",
              "      <th>50%</th>\n",
              "      <th>75%</th>\n",
              "      <th>max</th>\n",
              "    </tr>\n",
              "  </thead>\n",
              "  <tbody>\n",
              "    <tr>\n",
              "      <th>id</th>\n",
              "      <td>381109.0</td>\n",
              "      <td>190555.000000</td>\n",
              "      <td>110016.836208</td>\n",
              "      <td>1.0</td>\n",
              "      <td>95278.0</td>\n",
              "      <td>190555.0</td>\n",
              "      <td>285832.0</td>\n",
              "      <td>381109.0</td>\n",
              "    </tr>\n",
              "    <tr>\n",
              "      <th>Age</th>\n",
              "      <td>381109.0</td>\n",
              "      <td>38.822584</td>\n",
              "      <td>15.511611</td>\n",
              "      <td>20.0</td>\n",
              "      <td>25.0</td>\n",
              "      <td>36.0</td>\n",
              "      <td>49.0</td>\n",
              "      <td>85.0</td>\n",
              "    </tr>\n",
              "    <tr>\n",
              "      <th>Driving_License</th>\n",
              "      <td>381109.0</td>\n",
              "      <td>0.997869</td>\n",
              "      <td>0.046110</td>\n",
              "      <td>0.0</td>\n",
              "      <td>1.0</td>\n",
              "      <td>1.0</td>\n",
              "      <td>1.0</td>\n",
              "      <td>1.0</td>\n",
              "    </tr>\n",
              "    <tr>\n",
              "      <th>Region_Code</th>\n",
              "      <td>381109.0</td>\n",
              "      <td>26.388807</td>\n",
              "      <td>13.229888</td>\n",
              "      <td>0.0</td>\n",
              "      <td>15.0</td>\n",
              "      <td>28.0</td>\n",
              "      <td>35.0</td>\n",
              "      <td>52.0</td>\n",
              "    </tr>\n",
              "    <tr>\n",
              "      <th>Previously_Insured</th>\n",
              "      <td>381109.0</td>\n",
              "      <td>0.458210</td>\n",
              "      <td>0.498251</td>\n",
              "      <td>0.0</td>\n",
              "      <td>0.0</td>\n",
              "      <td>0.0</td>\n",
              "      <td>1.0</td>\n",
              "      <td>1.0</td>\n",
              "    </tr>\n",
              "    <tr>\n",
              "      <th>Annual_Premium</th>\n",
              "      <td>381109.0</td>\n",
              "      <td>30564.389581</td>\n",
              "      <td>17213.155057</td>\n",
              "      <td>2630.0</td>\n",
              "      <td>24405.0</td>\n",
              "      <td>31669.0</td>\n",
              "      <td>39400.0</td>\n",
              "      <td>540165.0</td>\n",
              "    </tr>\n",
              "    <tr>\n",
              "      <th>Policy_Sales_Channel</th>\n",
              "      <td>381109.0</td>\n",
              "      <td>112.034295</td>\n",
              "      <td>54.203995</td>\n",
              "      <td>1.0</td>\n",
              "      <td>29.0</td>\n",
              "      <td>133.0</td>\n",
              "      <td>152.0</td>\n",
              "      <td>163.0</td>\n",
              "    </tr>\n",
              "    <tr>\n",
              "      <th>Vintage</th>\n",
              "      <td>381109.0</td>\n",
              "      <td>154.347397</td>\n",
              "      <td>83.671304</td>\n",
              "      <td>10.0</td>\n",
              "      <td>82.0</td>\n",
              "      <td>154.0</td>\n",
              "      <td>227.0</td>\n",
              "      <td>299.0</td>\n",
              "    </tr>\n",
              "    <tr>\n",
              "      <th>Response</th>\n",
              "      <td>381109.0</td>\n",
              "      <td>0.122563</td>\n",
              "      <td>0.327936</td>\n",
              "      <td>0.0</td>\n",
              "      <td>0.0</td>\n",
              "      <td>0.0</td>\n",
              "      <td>0.0</td>\n",
              "      <td>1.0</td>\n",
              "    </tr>\n",
              "  </tbody>\n",
              "</table>\n",
              "</div>"
            ],
            "text/plain": [
              "                         count           mean  ...       75%       max\n",
              "id                    381109.0  190555.000000  ...  285832.0  381109.0\n",
              "Age                   381109.0      38.822584  ...      49.0      85.0\n",
              "Driving_License       381109.0       0.997869  ...       1.0       1.0\n",
              "Region_Code           381109.0      26.388807  ...      35.0      52.0\n",
              "Previously_Insured    381109.0       0.458210  ...       1.0       1.0\n",
              "Annual_Premium        381109.0   30564.389581  ...   39400.0  540165.0\n",
              "Policy_Sales_Channel  381109.0     112.034295  ...     152.0     163.0\n",
              "Vintage               381109.0     154.347397  ...     227.0     299.0\n",
              "Response              381109.0       0.122563  ...       0.0       1.0\n",
              "\n",
              "[9 rows x 8 columns]"
            ]
          },
          "metadata": {
            "tags": []
          },
          "execution_count": 3
        }
      ]
    },
    {
      "cell_type": "markdown",
      "metadata": {
        "id": "IrF7Df8q7zxS"
      },
      "source": [
        "Vamos tirar alguns insights desta tabela:\n",
        "- Um cliente possui idade média de aproximadamente 39 anos;\n",
        "- Praticamente todos os clientes (mais de 99%) possuem habilitação;\n",
        "- Aproximadamente metade dos clientes já utilizou seguro no passado;\n",
        "- Todos os clientes são segurados por menos de um ano. Possivelmente, a seguradora esteja aberta a pouco tempo\n",
        "\n",
        "É possível observar que nem todas as variáveis estão presentes nesta tabela. Isso acontece por que existem variáves categóricas no conjunto de dados e a função ```describe()```, por padrão, as retira quando também existem variáveis numéricas. Deixemos de lado as numéricas e olhemos as categóricas a seguir."
      ]
    },
    {
      "cell_type": "code",
      "metadata": {
        "id": "SXeQ-xx8sjWW",
        "colab": {
          "base_uri": "https://localhost:8080/",
          "height": 137
        },
        "outputId": "282059eb-6b47-42f9-91ef-ff39ff270ce7"
      },
      "source": [
        "data.describe(exclude=[np.number]).T"
      ],
      "execution_count": null,
      "outputs": [
        {
          "output_type": "execute_result",
          "data": {
            "text/html": [
              "<div>\n",
              "<style scoped>\n",
              "    .dataframe tbody tr th:only-of-type {\n",
              "        vertical-align: middle;\n",
              "    }\n",
              "\n",
              "    .dataframe tbody tr th {\n",
              "        vertical-align: top;\n",
              "    }\n",
              "\n",
              "    .dataframe thead th {\n",
              "        text-align: right;\n",
              "    }\n",
              "</style>\n",
              "<table border=\"1\" class=\"dataframe\">\n",
              "  <thead>\n",
              "    <tr style=\"text-align: right;\">\n",
              "      <th></th>\n",
              "      <th>count</th>\n",
              "      <th>unique</th>\n",
              "      <th>top</th>\n",
              "      <th>freq</th>\n",
              "    </tr>\n",
              "  </thead>\n",
              "  <tbody>\n",
              "    <tr>\n",
              "      <th>Gender</th>\n",
              "      <td>381109</td>\n",
              "      <td>2</td>\n",
              "      <td>Male</td>\n",
              "      <td>206089</td>\n",
              "    </tr>\n",
              "    <tr>\n",
              "      <th>Vehicle_Age</th>\n",
              "      <td>381109</td>\n",
              "      <td>3</td>\n",
              "      <td>1-2 Year</td>\n",
              "      <td>200316</td>\n",
              "    </tr>\n",
              "    <tr>\n",
              "      <th>Vehicle_Damage</th>\n",
              "      <td>381109</td>\n",
              "      <td>2</td>\n",
              "      <td>Yes</td>\n",
              "      <td>192413</td>\n",
              "    </tr>\n",
              "  </tbody>\n",
              "</table>\n",
              "</div>"
            ],
            "text/plain": [
              "                 count unique       top    freq\n",
              "Gender          381109      2      Male  206089\n",
              "Vehicle_Age     381109      3  1-2 Year  200316\n",
              "Vehicle_Damage  381109      2       Yes  192413"
            ]
          },
          "metadata": {
            "tags": []
          },
          "execution_count": 4
        }
      ]
    },
    {
      "cell_type": "markdown",
      "metadata": {
        "id": "NKv1Q9otsCcI"
      },
      "source": [
        "Aqui podemos observar que:\n",
        "- Um pouco mais da metade dos clientes são do sexo masculino;\n",
        "- Um pouco mais da metade dos veículos dos clientes tem entre 1 e dois anos de uso;\n",
        "- Praticamente metade dos veículos já sofreu avarias no passado."
      ]
    },
    {
      "cell_type": "markdown",
      "metadata": {
        "id": "5-Xrk0MX7vEr"
      },
      "source": [
        "### Distribuição das classes\n",
        "\n",
        "Como queremos prever se o cliente deseja o seguro para seu veículo, vamos observar graficamente como esta variável está distribuída no conjunto de dados."
      ]
    },
    {
      "cell_type": "code",
      "metadata": {
        "id": "dQ2ekKpP7zmG",
        "colab": {
          "base_uri": "https://localhost:8080/",
          "height": 404
        },
        "outputId": "499cf3c6-c833-4c32-f27c-c4496b64750a"
      },
      "source": [
        "from matplotlib import pyplot as plt\n",
        "\n",
        "classes = data['Response'].apply(str).value_counts()\n",
        "plt.figure(figsize=(8,6))\n",
        "\n",
        "x = classes.index\n",
        "\n",
        "plt.bar(x, classes, zorder=3, edgecolor='black')\n",
        "plt.title('Distribuição da variável \\'Response\\'')\n",
        "plt.xlabel('Classe')\n",
        "plt.ylabel('Frequencia')\n",
        "plt.grid()\n",
        "plt.show()"
      ],
      "execution_count": null,
      "outputs": [
        {
          "output_type": "display_data",
          "data": {
            "image/png": "[encoded data removed]",
            "text/plain": [
              "<Figure size 576x432 with 1 Axes>"
            ]
          },
          "metadata": {
            "tags": [],
            "needs_background": "light"
          }
        }
      ]
    },
    {
      "cell_type": "markdown",
      "metadata": {
        "id": "XSkXmqDMG7eX"
      },
      "source": [
        "É possível identificar claramente que há um desbalanceamento entre as classes. Enquanto que quase 350 mil entradas indicam que o cliente não está interessado no seguro para veículos, apenas quase 50 mil mostram o contrário, ou seja, um pouco mais que 12% dos clientes. Se utilizarmos estes dados do jeito que estão no treino, o modelo irá assimilar um viés acarretando em classificações errôneas. Neste caso, se faz necessário uma reamostragem.\n",
        "\n",
        "Existem várias estratégias de reamostragem. A que será aplicada neste artigo é chamada de **undersampling** onde é reduzida aleatoriamente a quantidade de amostras de uma classe a fim de tornar a distribuição das classes mais equilibrada. Iremos adotar uma proporção **50/50**, mas outras ao redor de **60/40** também são aceitáveis."
      ]
    },
    {
      "cell_type": "code",
      "metadata": {
        "id": "HZndy6Nf-KZs"
      },
      "source": [
        "n_samples = int(len(data[data['Response'] == 1]))\n",
        "balanced_data = pd.concat([data[data['Response'] == 1],\n",
        "                        data[data['Response'] == 0].sample(n_samples)],\n",
        "                        ignore_index=True).reset_index(drop=True)"
      ],
      "execution_count": null,
      "outputs": []
    },
    {
      "cell_type": "markdown",
      "metadata": {
        "id": "H6AofPF3Ogd3"
      },
      "source": [
        "Agora verificando o gráfico abaixo, vemos que as classes estão equilibradas."
      ]
    },
    {
      "cell_type": "code",
      "metadata": {
        "id": "FoUi_D6DOfWe",
        "colab": {
          "base_uri": "https://localhost:8080/",
          "height": 404
        },
        "outputId": "2abf5cd9-176c-4261-b729-7ef6584ea10f"
      },
      "source": [
        "classes = balanced_data['Response'].apply(str).value_counts()\n",
        "plt.figure(figsize=(8,6))\n",
        "\n",
        "plt.bar(classes.index, classes, zorder=3, edgecolor='black')\n",
        "plt.title('Distribuição da variável \\'Response\\'')\n",
        "plt.xlabel('Classe')\n",
        "plt.ylabel('Frequencia')\n",
        "plt.grid()\n",
        "plt.show()"
      ],
      "execution_count": null,
      "outputs": [
        {
          "output_type": "display_data",
          "data": {
            "image/png": "[encoded data removed]",
            "text/plain": [
              "<Figure size 576x432 with 1 Axes>"
            ]
          },
          "metadata": {
            "tags": [],
            "needs_background": "light"
          }
        }
      ]
    },
    {
      "cell_type": "markdown",
      "metadata": {
        "id": "pw47YXBxPqK9"
      },
      "source": [
        "### Correlação entre variáveis\n",
        "\n",
        "Observe o gráfico abaixo:"
      ]
    },
    {
      "cell_type": "code",
      "metadata": {
        "id": "IeyV_7-4QYsB",
        "colab": {
          "base_uri": "https://localhost:8080/",
          "height": 344
        },
        "outputId": "0cd7c76e-0d72-471d-a43c-6d4caf4dd235"
      },
      "source": [
        "numerical_variables = balanced_data.select_dtypes([np.number])\n",
        "plt.matshow(numerical_variables.corr())\n",
        "plt.xticks(range(numerical_variables.shape[1]), numerical_variables.columns, rotation=90)\n",
        "plt.yticks(range(numerical_variables.shape[1]), numerical_variables.columns)\n",
        "plt.colorbar()\n",
        "plt.show()"
      ],
      "execution_count": null,
      "outputs": [
        {
          "output_type": "display_data",
          "data": {
            "image/png": "[encoded data removed]",
            "text/plain": [
              "<Figure size 288x288 with 2 Axes>"
            ]
          },
          "metadata": {
            "tags": [],
            "needs_background": "light"
          }
        }
      ]
    },
    {
      "cell_type": "markdown",
      "metadata": {
        "id": "A1H71HBmVPzP"
      },
      "source": [
        "Utilizando a correlação de Pearson (padrão utilizado na função ```corr()```), podemos observar que os pares de variáveis com correlação mais fortes são: \n",
        "- 'Policy_Sales_Channel' e 'Age'\n",
        "- 'Response' e Previously_Injured\n",
        "\n",
        "Estes pares apresentam uma correlação de aproximadamente -0.5, convencionalmente classificada como média, portanto não será necessário remover estas variáveis. É necessário notar que as variáveis categóricas não foram incluídas, pois não é possível determinar a correlação com variáveis deste tipo."
      ]
    },
    {
      "cell_type": "markdown",
      "metadata": {
        "id": "XVGO8gTStruI"
      },
      "source": [
        "## Pré-processamento\n",
        "\n",
        "Nesta fase iremos começar a preparar os dados para que sejam utilizados em modelos. "
      ]
    },
    {
      "cell_type": "markdown",
      "metadata": {
        "id": "ZhwcABnEcNxH"
      },
      "source": [
        "### Variáveis irrelevantes\n",
        "\n",
        "Em alguns conjuntos dados existem variáveis que são facilmente identicáveis como irrelevantes, pois não trazem informação. É o caso de variáveis que informam algum tipo de indexação, como ID's, cpf, etc. Neste conjunto, existe a variável 'id' que se encaixa nesta descrição, portanto será retirada.\n"
      ]
    },
    {
      "cell_type": "code",
      "metadata": {
        "id": "OJFXdd0tdDrU"
      },
      "source": [
        "balanced_data.drop('id', axis=1, inplace=True)"
      ],
      "execution_count": null,
      "outputs": []
    },
    {
      "cell_type": "markdown",
      "metadata": {
        "id": "llfmhfZnu2HE"
      },
      "source": [
        "### Encoding\n",
        "\n",
        "Como existem variáveis categóricas nos dados, elas não poderão ser introduzidas nos modelos, portanto é preciso transformá-las em numéricas. Neste artigo, iremos aplicar as técnicas de **label encoding** e **one-hot-encoding**.\n",
        "\n",
        "Como a variável 'Vehicle_Age' é categórica e parece ser relevante para o modelo, passarão pelo processo de one-hot-encoding. As variáveis 'Gender' e 'Region_Code' por serem binárias, possuem apenas duas classes, logo, elas passarão pelo processo de label encoding."
      ]
    },
    {
      "cell_type": "code",
      "metadata": {
        "id": "nbCGEu0Cu1Zi"
      },
      "source": [
        "encoded = pd.get_dummies(balanced_data['Vehicle_Age'])\n",
        "balanced_data = balanced_data.merge(encoded, left_index=True, right_index=True)\n",
        "balanced_data.drop('Vehicle_Age', axis=1, inplace=True)"
      ],
      "execution_count": null,
      "outputs": []
    },
    {
      "cell_type": "code",
      "metadata": {
        "id": "Hlftc8CwIXOs"
      },
      "source": [
        "from sklearn.preprocessing import LabelEncoder\n",
        "le = LabelEncoder()\n",
        "\n",
        "gender = le.fit_transform(balanced_data['Gender'])\n",
        "vehicle_damage = le.fit_transform(balanced_data['Vehicle_Damage'])\n",
        "\n",
        "balanced_data['Gender'] = gender\n",
        "balanced_data['Vehicle_Damage'] = vehicle_damage"
      ],
      "execution_count": null,
      "outputs": []
    },
    {
      "cell_type": "code",
      "metadata": {
        "id": "_mslLkb1Uhh0",
        "colab": {
          "base_uri": "https://localhost:8080/",
          "height": 443
        },
        "outputId": "1672b029-74d1-43e0-940f-a4772bc54603"
      },
      "source": [
        "balanced_data"
      ],
      "execution_count": null,
      "outputs": [
        {
          "output_type": "execute_result",
          "data": {
            "text/html": [
              "<div>\n",
              "<style scoped>\n",
              "    .dataframe tbody tr th:only-of-type {\n",
              "        vertical-align: middle;\n",
              "    }\n",
              "\n",
              "    .dataframe tbody tr th {\n",
              "        vertical-align: top;\n",
              "    }\n",
              "\n",
              "    .dataframe thead th {\n",
              "        text-align: right;\n",
              "    }\n",
              "</style>\n",
              "<table border=\"1\" class=\"dataframe\">\n",
              "  <thead>\n",
              "    <tr style=\"text-align: right;\">\n",
              "      <th></th>\n",
              "      <th>Gender</th>\n",
              "      <th>Age</th>\n",
              "      <th>Driving_License</th>\n",
              "      <th>Region_Code</th>\n",
              "      <th>Previously_Insured</th>\n",
              "      <th>Vehicle_Damage</th>\n",
              "      <th>Annual_Premium</th>\n",
              "      <th>Policy_Sales_Channel</th>\n",
              "      <th>Vintage</th>\n",
              "      <th>Response</th>\n",
              "      <th>1-2 Year</th>\n",
              "      <th>&lt; 1 Year</th>\n",
              "      <th>&gt; 2 Years</th>\n",
              "    </tr>\n",
              "  </thead>\n",
              "  <tbody>\n",
              "    <tr>\n",
              "      <th>0</th>\n",
              "      <td>1</td>\n",
              "      <td>44</td>\n",
              "      <td>1</td>\n",
              "      <td>28.0</td>\n",
              "      <td>0</td>\n",
              "      <td>1</td>\n",
              "      <td>40454.0</td>\n",
              "      <td>26.0</td>\n",
              "      <td>217</td>\n",
              "      <td>1</td>\n",
              "      <td>0</td>\n",
              "      <td>0</td>\n",
              "      <td>1</td>\n",
              "    </tr>\n",
              "    <tr>\n",
              "      <th>1</th>\n",
              "      <td>1</td>\n",
              "      <td>47</td>\n",
              "      <td>1</td>\n",
              "      <td>28.0</td>\n",
              "      <td>0</td>\n",
              "      <td>1</td>\n",
              "      <td>38294.0</td>\n",
              "      <td>26.0</td>\n",
              "      <td>27</td>\n",
              "      <td>1</td>\n",
              "      <td>0</td>\n",
              "      <td>0</td>\n",
              "      <td>1</td>\n",
              "    </tr>\n",
              "    <tr>\n",
              "      <th>2</th>\n",
              "      <td>0</td>\n",
              "      <td>56</td>\n",
              "      <td>1</td>\n",
              "      <td>28.0</td>\n",
              "      <td>0</td>\n",
              "      <td>1</td>\n",
              "      <td>32031.0</td>\n",
              "      <td>26.0</td>\n",
              "      <td>72</td>\n",
              "      <td>1</td>\n",
              "      <td>1</td>\n",
              "      <td>0</td>\n",
              "      <td>0</td>\n",
              "    </tr>\n",
              "    <tr>\n",
              "      <th>3</th>\n",
              "      <td>0</td>\n",
              "      <td>47</td>\n",
              "      <td>1</td>\n",
              "      <td>35.0</td>\n",
              "      <td>0</td>\n",
              "      <td>1</td>\n",
              "      <td>47576.0</td>\n",
              "      <td>124.0</td>\n",
              "      <td>46</td>\n",
              "      <td>1</td>\n",
              "      <td>1</td>\n",
              "      <td>0</td>\n",
              "      <td>0</td>\n",
              "    </tr>\n",
              "    <tr>\n",
              "      <th>4</th>\n",
              "      <td>1</td>\n",
              "      <td>37</td>\n",
              "      <td>1</td>\n",
              "      <td>6.0</td>\n",
              "      <td>0</td>\n",
              "      <td>1</td>\n",
              "      <td>2630.0</td>\n",
              "      <td>156.0</td>\n",
              "      <td>147</td>\n",
              "      <td>1</td>\n",
              "      <td>1</td>\n",
              "      <td>0</td>\n",
              "      <td>0</td>\n",
              "    </tr>\n",
              "    <tr>\n",
              "      <th>...</th>\n",
              "      <td>...</td>\n",
              "      <td>...</td>\n",
              "      <td>...</td>\n",
              "      <td>...</td>\n",
              "      <td>...</td>\n",
              "      <td>...</td>\n",
              "      <td>...</td>\n",
              "      <td>...</td>\n",
              "      <td>...</td>\n",
              "      <td>...</td>\n",
              "      <td>...</td>\n",
              "      <td>...</td>\n",
              "      <td>...</td>\n",
              "    </tr>\n",
              "    <tr>\n",
              "      <th>93415</th>\n",
              "      <td>1</td>\n",
              "      <td>50</td>\n",
              "      <td>1</td>\n",
              "      <td>28.0</td>\n",
              "      <td>0</td>\n",
              "      <td>1</td>\n",
              "      <td>36683.0</td>\n",
              "      <td>26.0</td>\n",
              "      <td>282</td>\n",
              "      <td>0</td>\n",
              "      <td>0</td>\n",
              "      <td>0</td>\n",
              "      <td>1</td>\n",
              "    </tr>\n",
              "    <tr>\n",
              "      <th>93416</th>\n",
              "      <td>1</td>\n",
              "      <td>43</td>\n",
              "      <td>1</td>\n",
              "      <td>8.0</td>\n",
              "      <td>0</td>\n",
              "      <td>0</td>\n",
              "      <td>34328.0</td>\n",
              "      <td>26.0</td>\n",
              "      <td>206</td>\n",
              "      <td>0</td>\n",
              "      <td>1</td>\n",
              "      <td>0</td>\n",
              "      <td>0</td>\n",
              "    </tr>\n",
              "    <tr>\n",
              "      <th>93417</th>\n",
              "      <td>1</td>\n",
              "      <td>41</td>\n",
              "      <td>1</td>\n",
              "      <td>8.0</td>\n",
              "      <td>1</td>\n",
              "      <td>0</td>\n",
              "      <td>59821.0</td>\n",
              "      <td>26.0</td>\n",
              "      <td>69</td>\n",
              "      <td>0</td>\n",
              "      <td>1</td>\n",
              "      <td>0</td>\n",
              "      <td>0</td>\n",
              "    </tr>\n",
              "    <tr>\n",
              "      <th>93418</th>\n",
              "      <td>1</td>\n",
              "      <td>34</td>\n",
              "      <td>1</td>\n",
              "      <td>37.0</td>\n",
              "      <td>1</td>\n",
              "      <td>0</td>\n",
              "      <td>40522.0</td>\n",
              "      <td>152.0</td>\n",
              "      <td>53</td>\n",
              "      <td>0</td>\n",
              "      <td>0</td>\n",
              "      <td>1</td>\n",
              "      <td>0</td>\n",
              "    </tr>\n",
              "    <tr>\n",
              "      <th>93419</th>\n",
              "      <td>0</td>\n",
              "      <td>22</td>\n",
              "      <td>1</td>\n",
              "      <td>22.0</td>\n",
              "      <td>1</td>\n",
              "      <td>0</td>\n",
              "      <td>28856.0</td>\n",
              "      <td>152.0</td>\n",
              "      <td>13</td>\n",
              "      <td>0</td>\n",
              "      <td>0</td>\n",
              "      <td>1</td>\n",
              "      <td>0</td>\n",
              "    </tr>\n",
              "  </tbody>\n",
              "</table>\n",
              "<p>93420 rows × 13 columns</p>\n",
              "</div>"
            ],
            "text/plain": [
              "       Gender  Age  Driving_License  ...  1-2 Year  < 1 Year  > 2 Years\n",
              "0           1   44                1  ...         0         0          1\n",
              "1           1   47                1  ...         0         0          1\n",
              "2           0   56                1  ...         1         0          0\n",
              "3           0   47                1  ...         1         0          0\n",
              "4           1   37                1  ...         1         0          0\n",
              "...       ...  ...              ...  ...       ...       ...        ...\n",
              "93415       1   50                1  ...         0         0          1\n",
              "93416       1   43                1  ...         1         0          0\n",
              "93417       1   41                1  ...         1         0          0\n",
              "93418       1   34                1  ...         0         1          0\n",
              "93419       0   22                1  ...         0         1          0\n",
              "\n",
              "[93420 rows x 13 columns]"
            ]
          },
          "metadata": {
            "tags": []
          },
          "execution_count": 16
        }
      ]
    },
    {
      "cell_type": "markdown",
      "metadata": {
        "id": "C0Pvrh48-EHT"
      },
      "source": [
        "Há uma observação nas variáveis 'Policy_Sales_Channel' e 'Region_Code'. Apesar delas serem numéricas, cada único valor presente nessas variáveis representam um meio de comunicação com um cliente e sua localidade, respectivamente. Isso irá ocasionar num grande aumento no numero de variáveis no dados. Há diversas estratégias para contornar isso, como selecionar os top-n valores mais frequentes. Neste artigo, iremos apenas adicionar todas as variávies. Portanto, 'Policy_Sales_Channel' e 'Region_Code' também irão passar por um processo de one-hot-encoding."
      ]
    },
    {
      "cell_type": "code",
      "metadata": {
        "id": "7XlCDOT7AjvF"
      },
      "source": [
        "policy_sales_channel_encoded = pd.get_dummies(balanced_data['Policy_Sales_Channel'], prefix='Channel')\n",
        "region_code_encoded = pd.get_dummies(balanced_data['Region_Code'], prefix='Region_Code')\n",
        "\n",
        "balanced_data = balanced_data.merge(policy_sales_channel_encoded, left_index=True, right_index=True)\n",
        "balanced_data = balanced_data.merge(region_code_encoded, left_index=True, right_index=True)\n",
        "\n",
        "balanced_data = balanced_data.drop(['Policy_Sales_Channel', 'Region_Code'], axis=1)"
      ],
      "execution_count": null,
      "outputs": []
    },
    {
      "cell_type": "markdown",
      "metadata": {
        "id": "Lr3X0bj9LQN_"
      },
      "source": [
        "### Feature scaling\n",
        "\n",
        "Como visto na seção de exploração dos dados, algumas variáveis numéricas possuem uma grande amplitude. Isso pode afetar a peformance de vários modelos, principalmente os que utilizam gradiente descendente, pois os coeficientes irão convergir mais rapidamente em direção ao ponto mínimo da função de custo. Modelos baseados em árvores não levam a distância em consideração, por isso não é necessário realizar o procedimento. Como iremos avaliar mais de um modelo, iremos escalar os dados.\n",
        "\n",
        "Há várias maneiras de escalar os dados, sendo as mais populares, a **padronização**, na qual os valores serão recalculados de modo que a média seja 1 e o desvio padrão seja 0, e a **normalização**, onde os valores deverão estar dentro de um alcance fixo, mais comumente, entre 1 e 0. Esta última será aplicada neste artigo. Deve-se notar que a variável alvo 'Response' não é normalizada."
      ]
    },
    {
      "cell_type": "code",
      "metadata": {
        "id": "0mzqUjL_A66P",
        "colab": {
          "base_uri": "https://localhost:8080/",
          "height": 263
        },
        "outputId": "62afa472-d5a1-4217-b11f-38905b06f974"
      },
      "source": [
        "balanced_data.head()"
      ],
      "execution_count": null,
      "outputs": [
        {
          "output_type": "execute_result",
          "data": {
            "text/html": [
              "<div>\n",
              "<style scoped>\n",
              "    .dataframe tbody tr th:only-of-type {\n",
              "        vertical-align: middle;\n",
              "    }\n",
              "\n",
              "    .dataframe tbody tr th {\n",
              "        vertical-align: top;\n",
              "    }\n",
              "\n",
              "    .dataframe thead th {\n",
              "        text-align: right;\n",
              "    }\n",
              "</style>\n",
              "<table border=\"1\" class=\"dataframe\">\n",
              "  <thead>\n",
              "    <tr style=\"text-align: right;\">\n",
              "      <th></th>\n",
              "      <th>Gender</th>\n",
              "      <th>Age</th>\n",
              "      <th>Driving_License</th>\n",
              "      <th>Previously_Insured</th>\n",
              "      <th>Vehicle_Damage</th>\n",
              "      <th>Annual_Premium</th>\n",
              "      <th>Vintage</th>\n",
              "      <th>Response</th>\n",
              "      <th>1-2 Year</th>\n",
              "      <th>&lt; 1 Year</th>\n",
              "      <th>&gt; 2 Years</th>\n",
              "      <th>Channel_1.0</th>\n",
              "      <th>Channel_2.0</th>\n",
              "      <th>Channel_3.0</th>\n",
              "      <th>Channel_4.0</th>\n",
              "      <th>Channel_7.0</th>\n",
              "      <th>Channel_8.0</th>\n",
              "      <th>Channel_9.0</th>\n",
              "      <th>Channel_10.0</th>\n",
              "      <th>Channel_11.0</th>\n",
              "      <th>Channel_12.0</th>\n",
              "      <th>Channel_13.0</th>\n",
              "      <th>Channel_14.0</th>\n",
              "      <th>Channel_15.0</th>\n",
              "      <th>Channel_16.0</th>\n",
              "      <th>Channel_17.0</th>\n",
              "      <th>Channel_18.0</th>\n",
              "      <th>Channel_19.0</th>\n",
              "      <th>Channel_20.0</th>\n",
              "      <th>Channel_21.0</th>\n",
              "      <th>Channel_22.0</th>\n",
              "      <th>Channel_23.0</th>\n",
              "      <th>Channel_24.0</th>\n",
              "      <th>Channel_25.0</th>\n",
              "      <th>Channel_26.0</th>\n",
              "      <th>Channel_27.0</th>\n",
              "      <th>Channel_28.0</th>\n",
              "      <th>Channel_29.0</th>\n",
              "      <th>Channel_30.0</th>\n",
              "      <th>Channel_31.0</th>\n",
              "      <th>...</th>\n",
              "      <th>Region_Code_13.0</th>\n",
              "      <th>Region_Code_14.0</th>\n",
              "      <th>Region_Code_15.0</th>\n",
              "      <th>Region_Code_16.0</th>\n",
              "      <th>Region_Code_17.0</th>\n",
              "      <th>Region_Code_18.0</th>\n",
              "      <th>Region_Code_19.0</th>\n",
              "      <th>Region_Code_20.0</th>\n",
              "      <th>Region_Code_21.0</th>\n",
              "      <th>Region_Code_22.0</th>\n",
              "      <th>Region_Code_23.0</th>\n",
              "      <th>Region_Code_24.0</th>\n",
              "      <th>Region_Code_25.0</th>\n",
              "      <th>Region_Code_26.0</th>\n",
              "      <th>Region_Code_27.0</th>\n",
              "      <th>Region_Code_28.0</th>\n",
              "      <th>Region_Code_29.0</th>\n",
              "      <th>Region_Code_30.0</th>\n",
              "      <th>Region_Code_31.0</th>\n",
              "      <th>Region_Code_32.0</th>\n",
              "      <th>Region_Code_33.0</th>\n",
              "      <th>Region_Code_34.0</th>\n",
              "      <th>Region_Code_35.0</th>\n",
              "      <th>Region_Code_36.0</th>\n",
              "      <th>Region_Code_37.0</th>\n",
              "      <th>Region_Code_38.0</th>\n",
              "      <th>Region_Code_39.0</th>\n",
              "      <th>Region_Code_40.0</th>\n",
              "      <th>Region_Code_41.0</th>\n",
              "      <th>Region_Code_42.0</th>\n",
              "      <th>Region_Code_43.0</th>\n",
              "      <th>Region_Code_44.0</th>\n",
              "      <th>Region_Code_45.0</th>\n",
              "      <th>Region_Code_46.0</th>\n",
              "      <th>Region_Code_47.0</th>\n",
              "      <th>Region_Code_48.0</th>\n",
              "      <th>Region_Code_49.0</th>\n",
              "      <th>Region_Code_50.0</th>\n",
              "      <th>Region_Code_51.0</th>\n",
              "      <th>Region_Code_52.0</th>\n",
              "    </tr>\n",
              "  </thead>\n",
              "  <tbody>\n",
              "    <tr>\n",
              "      <th>0</th>\n",
              "      <td>1</td>\n",
              "      <td>44</td>\n",
              "      <td>1</td>\n",
              "      <td>0</td>\n",
              "      <td>1</td>\n",
              "      <td>40454.0</td>\n",
              "      <td>217</td>\n",
              "      <td>1</td>\n",
              "      <td>0</td>\n",
              "      <td>0</td>\n",
              "      <td>1</td>\n",
              "      <td>0</td>\n",
              "      <td>0</td>\n",
              "      <td>0</td>\n",
              "      <td>0</td>\n",
              "      <td>0</td>\n",
              "      <td>0</td>\n",
              "      <td>0</td>\n",
              "      <td>0</td>\n",
              "      <td>0</td>\n",
              "      <td>0</td>\n",
              "      <td>0</td>\n",
              "      <td>0</td>\n",
              "      <td>0</td>\n",
              "      <td>0</td>\n",
              "      <td>0</td>\n",
              "      <td>0</td>\n",
              "      <td>0</td>\n",
              "      <td>0</td>\n",
              "      <td>0</td>\n",
              "      <td>0</td>\n",
              "      <td>0</td>\n",
              "      <td>0</td>\n",
              "      <td>0</td>\n",
              "      <td>1</td>\n",
              "      <td>0</td>\n",
              "      <td>0</td>\n",
              "      <td>0</td>\n",
              "      <td>0</td>\n",
              "      <td>0</td>\n",
              "      <td>...</td>\n",
              "      <td>0</td>\n",
              "      <td>0</td>\n",
              "      <td>0</td>\n",
              "      <td>0</td>\n",
              "      <td>0</td>\n",
              "      <td>0</td>\n",
              "      <td>0</td>\n",
              "      <td>0</td>\n",
              "      <td>0</td>\n",
              "      <td>0</td>\n",
              "      <td>0</td>\n",
              "      <td>0</td>\n",
              "      <td>0</td>\n",
              "      <td>0</td>\n",
              "      <td>0</td>\n",
              "      <td>1</td>\n",
              "      <td>0</td>\n",
              "      <td>0</td>\n",
              "      <td>0</td>\n",
              "      <td>0</td>\n",
              "      <td>0</td>\n",
              "      <td>0</td>\n",
              "      <td>0</td>\n",
              "      <td>0</td>\n",
              "      <td>0</td>\n",
              "      <td>0</td>\n",
              "      <td>0</td>\n",
              "      <td>0</td>\n",
              "      <td>0</td>\n",
              "      <td>0</td>\n",
              "      <td>0</td>\n",
              "      <td>0</td>\n",
              "      <td>0</td>\n",
              "      <td>0</td>\n",
              "      <td>0</td>\n",
              "      <td>0</td>\n",
              "      <td>0</td>\n",
              "      <td>0</td>\n",
              "      <td>0</td>\n",
              "      <td>0</td>\n",
              "    </tr>\n",
              "    <tr>\n",
              "      <th>1</th>\n",
              "      <td>1</td>\n",
              "      <td>47</td>\n",
              "      <td>1</td>\n",
              "      <td>0</td>\n",
              "      <td>1</td>\n",
              "      <td>38294.0</td>\n",
              "      <td>27</td>\n",
              "      <td>1</td>\n",
              "      <td>0</td>\n",
              "      <td>0</td>\n",
              "      <td>1</td>\n",
              "      <td>0</td>\n",
              "      <td>0</td>\n",
              "      <td>0</td>\n",
              "      <td>0</td>\n",
              "      <td>0</td>\n",
              "      <td>0</td>\n",
              "      <td>0</td>\n",
              "      <td>0</td>\n",
              "      <td>0</td>\n",
              "      <td>0</td>\n",
              "      <td>0</td>\n",
              "      <td>0</td>\n",
              "      <td>0</td>\n",
              "      <td>0</td>\n",
              "      <td>0</td>\n",
              "      <td>0</td>\n",
              "      <td>0</td>\n",
              "      <td>0</td>\n",
              "      <td>0</td>\n",
              "      <td>0</td>\n",
              "      <td>0</td>\n",
              "      <td>0</td>\n",
              "      <td>0</td>\n",
              "      <td>1</td>\n",
              "      <td>0</td>\n",
              "      <td>0</td>\n",
              "      <td>0</td>\n",
              "      <td>0</td>\n",
              "      <td>0</td>\n",
              "      <td>...</td>\n",
              "      <td>0</td>\n",
              "      <td>0</td>\n",
              "      <td>0</td>\n",
              "      <td>0</td>\n",
              "      <td>0</td>\n",
              "      <td>0</td>\n",
              "      <td>0</td>\n",
              "      <td>0</td>\n",
              "      <td>0</td>\n",
              "      <td>0</td>\n",
              "      <td>0</td>\n",
              "      <td>0</td>\n",
              "      <td>0</td>\n",
              "      <td>0</td>\n",
              "      <td>0</td>\n",
              "      <td>1</td>\n",
              "      <td>0</td>\n",
              "      <td>0</td>\n",
              "      <td>0</td>\n",
              "      <td>0</td>\n",
              "      <td>0</td>\n",
              "      <td>0</td>\n",
              "      <td>0</td>\n",
              "      <td>0</td>\n",
              "      <td>0</td>\n",
              "      <td>0</td>\n",
              "      <td>0</td>\n",
              "      <td>0</td>\n",
              "      <td>0</td>\n",
              "      <td>0</td>\n",
              "      <td>0</td>\n",
              "      <td>0</td>\n",
              "      <td>0</td>\n",
              "      <td>0</td>\n",
              "      <td>0</td>\n",
              "      <td>0</td>\n",
              "      <td>0</td>\n",
              "      <td>0</td>\n",
              "      <td>0</td>\n",
              "      <td>0</td>\n",
              "    </tr>\n",
              "    <tr>\n",
              "      <th>2</th>\n",
              "      <td>0</td>\n",
              "      <td>56</td>\n",
              "      <td>1</td>\n",
              "      <td>0</td>\n",
              "      <td>1</td>\n",
              "      <td>32031.0</td>\n",
              "      <td>72</td>\n",
              "      <td>1</td>\n",
              "      <td>1</td>\n",
              "      <td>0</td>\n",
              "      <td>0</td>\n",
              "      <td>0</td>\n",
              "      <td>0</td>\n",
              "      <td>0</td>\n",
              "      <td>0</td>\n",
              "      <td>0</td>\n",
              "      <td>0</td>\n",
              "      <td>0</td>\n",
              "      <td>0</td>\n",
              "      <td>0</td>\n",
              "      <td>0</td>\n",
              "      <td>0</td>\n",
              "      <td>0</td>\n",
              "      <td>0</td>\n",
              "      <td>0</td>\n",
              "      <td>0</td>\n",
              "      <td>0</td>\n",
              "      <td>0</td>\n",
              "      <td>0</td>\n",
              "      <td>0</td>\n",
              "      <td>0</td>\n",
              "      <td>0</td>\n",
              "      <td>0</td>\n",
              "      <td>0</td>\n",
              "      <td>1</td>\n",
              "      <td>0</td>\n",
              "      <td>0</td>\n",
              "      <td>0</td>\n",
              "      <td>0</td>\n",
              "      <td>0</td>\n",
              "      <td>...</td>\n",
              "      <td>0</td>\n",
              "      <td>0</td>\n",
              "      <td>0</td>\n",
              "      <td>0</td>\n",
              "      <td>0</td>\n",
              "      <td>0</td>\n",
              "      <td>0</td>\n",
              "      <td>0</td>\n",
              "      <td>0</td>\n",
              "      <td>0</td>\n",
              "      <td>0</td>\n",
              "      <td>0</td>\n",
              "      <td>0</td>\n",
              "      <td>0</td>\n",
              "      <td>0</td>\n",
              "      <td>1</td>\n",
              "      <td>0</td>\n",
              "      <td>0</td>\n",
              "      <td>0</td>\n",
              "      <td>0</td>\n",
              "      <td>0</td>\n",
              "      <td>0</td>\n",
              "      <td>0</td>\n",
              "      <td>0</td>\n",
              "      <td>0</td>\n",
              "      <td>0</td>\n",
              "      <td>0</td>\n",
              "      <td>0</td>\n",
              "      <td>0</td>\n",
              "      <td>0</td>\n",
              "      <td>0</td>\n",
              "      <td>0</td>\n",
              "      <td>0</td>\n",
              "      <td>0</td>\n",
              "      <td>0</td>\n",
              "      <td>0</td>\n",
              "      <td>0</td>\n",
              "      <td>0</td>\n",
              "      <td>0</td>\n",
              "      <td>0</td>\n",
              "    </tr>\n",
              "    <tr>\n",
              "      <th>3</th>\n",
              "      <td>0</td>\n",
              "      <td>47</td>\n",
              "      <td>1</td>\n",
              "      <td>0</td>\n",
              "      <td>1</td>\n",
              "      <td>47576.0</td>\n",
              "      <td>46</td>\n",
              "      <td>1</td>\n",
              "      <td>1</td>\n",
              "      <td>0</td>\n",
              "      <td>0</td>\n",
              "      <td>0</td>\n",
              "      <td>0</td>\n",
              "      <td>0</td>\n",
              "      <td>0</td>\n",
              "      <td>0</td>\n",
              "      <td>0</td>\n",
              "      <td>0</td>\n",
              "      <td>0</td>\n",
              "      <td>0</td>\n",
              "      <td>0</td>\n",
              "      <td>0</td>\n",
              "      <td>0</td>\n",
              "      <td>0</td>\n",
              "      <td>0</td>\n",
              "      <td>0</td>\n",
              "      <td>0</td>\n",
              "      <td>0</td>\n",
              "      <td>0</td>\n",
              "      <td>0</td>\n",
              "      <td>0</td>\n",
              "      <td>0</td>\n",
              "      <td>0</td>\n",
              "      <td>0</td>\n",
              "      <td>0</td>\n",
              "      <td>0</td>\n",
              "      <td>0</td>\n",
              "      <td>0</td>\n",
              "      <td>0</td>\n",
              "      <td>0</td>\n",
              "      <td>...</td>\n",
              "      <td>0</td>\n",
              "      <td>0</td>\n",
              "      <td>0</td>\n",
              "      <td>0</td>\n",
              "      <td>0</td>\n",
              "      <td>0</td>\n",
              "      <td>0</td>\n",
              "      <td>0</td>\n",
              "      <td>0</td>\n",
              "      <td>0</td>\n",
              "      <td>0</td>\n",
              "      <td>0</td>\n",
              "      <td>0</td>\n",
              "      <td>0</td>\n",
              "      <td>0</td>\n",
              "      <td>0</td>\n",
              "      <td>0</td>\n",
              "      <td>0</td>\n",
              "      <td>0</td>\n",
              "      <td>0</td>\n",
              "      <td>0</td>\n",
              "      <td>0</td>\n",
              "      <td>1</td>\n",
              "      <td>0</td>\n",
              "      <td>0</td>\n",
              "      <td>0</td>\n",
              "      <td>0</td>\n",
              "      <td>0</td>\n",
              "      <td>0</td>\n",
              "      <td>0</td>\n",
              "      <td>0</td>\n",
              "      <td>0</td>\n",
              "      <td>0</td>\n",
              "      <td>0</td>\n",
              "      <td>0</td>\n",
              "      <td>0</td>\n",
              "      <td>0</td>\n",
              "      <td>0</td>\n",
              "      <td>0</td>\n",
              "      <td>0</td>\n",
              "    </tr>\n",
              "    <tr>\n",
              "      <th>4</th>\n",
              "      <td>1</td>\n",
              "      <td>37</td>\n",
              "      <td>1</td>\n",
              "      <td>0</td>\n",
              "      <td>1</td>\n",
              "      <td>2630.0</td>\n",
              "      <td>147</td>\n",
              "      <td>1</td>\n",
              "      <td>1</td>\n",
              "      <td>0</td>\n",
              "      <td>0</td>\n",
              "      <td>0</td>\n",
              "      <td>0</td>\n",
              "      <td>0</td>\n",
              "      <td>0</td>\n",
              "      <td>0</td>\n",
              "      <td>0</td>\n",
              "      <td>0</td>\n",
              "      <td>0</td>\n",
              "      <td>0</td>\n",
              "      <td>0</td>\n",
              "      <td>0</td>\n",
              "      <td>0</td>\n",
              "      <td>0</td>\n",
              "      <td>0</td>\n",
              "      <td>0</td>\n",
              "      <td>0</td>\n",
              "      <td>0</td>\n",
              "      <td>0</td>\n",
              "      <td>0</td>\n",
              "      <td>0</td>\n",
              "      <td>0</td>\n",
              "      <td>0</td>\n",
              "      <td>0</td>\n",
              "      <td>0</td>\n",
              "      <td>0</td>\n",
              "      <td>0</td>\n",
              "      <td>0</td>\n",
              "      <td>0</td>\n",
              "      <td>0</td>\n",
              "      <td>...</td>\n",
              "      <td>0</td>\n",
              "      <td>0</td>\n",
              "      <td>0</td>\n",
              "      <td>0</td>\n",
              "      <td>0</td>\n",
              "      <td>0</td>\n",
              "      <td>0</td>\n",
              "      <td>0</td>\n",
              "      <td>0</td>\n",
              "      <td>0</td>\n",
              "      <td>0</td>\n",
              "      <td>0</td>\n",
              "      <td>0</td>\n",
              "      <td>0</td>\n",
              "      <td>0</td>\n",
              "      <td>0</td>\n",
              "      <td>0</td>\n",
              "      <td>0</td>\n",
              "      <td>0</td>\n",
              "      <td>0</td>\n",
              "      <td>0</td>\n",
              "      <td>0</td>\n",
              "      <td>0</td>\n",
              "      <td>0</td>\n",
              "      <td>0</td>\n",
              "      <td>0</td>\n",
              "      <td>0</td>\n",
              "      <td>0</td>\n",
              "      <td>0</td>\n",
              "      <td>0</td>\n",
              "      <td>0</td>\n",
              "      <td>0</td>\n",
              "      <td>0</td>\n",
              "      <td>0</td>\n",
              "      <td>0</td>\n",
              "      <td>0</td>\n",
              "      <td>0</td>\n",
              "      <td>0</td>\n",
              "      <td>0</td>\n",
              "      <td>0</td>\n",
              "    </tr>\n",
              "  </tbody>\n",
              "</table>\n",
              "<p>5 rows × 197 columns</p>\n",
              "</div>"
            ],
            "text/plain": [
              "   Gender  Age  ...  Region_Code_51.0  Region_Code_52.0\n",
              "0       1   44  ...                 0                 0\n",
              "1       1   47  ...                 0                 0\n",
              "2       0   56  ...                 0                 0\n",
              "3       0   47  ...                 0                 0\n",
              "4       1   37  ...                 0                 0\n",
              "\n",
              "[5 rows x 197 columns]"
            ]
          },
          "metadata": {
            "tags": []
          },
          "execution_count": 18
        }
      ]
    },
    {
      "cell_type": "code",
      "metadata": {
        "id": "hMg4IAmOBXmV"
      },
      "source": [
        "from sklearn.preprocessing import MinMaxScaler\n",
        "scaler = MinMaxScaler()\n",
        "\n",
        "normalized = scaler.fit_transform(balanced_data.drop('Response', axis=1))\n",
        "normalized = pd.DataFrame(normalized)"
      ],
      "execution_count": null,
      "outputs": []
    },
    {
      "cell_type": "markdown",
      "metadata": {
        "id": "7a4cxXuRfaQs"
      },
      "source": [
        "Por fim, esta é a cara do conjunto de dados que será usado para treinar os modelos:"
      ]
    },
    {
      "cell_type": "code",
      "metadata": {
        "id": "eI6lP33R4-KR",
        "colab": {
          "base_uri": "https://localhost:8080/",
          "height": 246
        },
        "outputId": "71c66f21-a7fe-4a43-d8ef-bb0f964098d4"
      },
      "source": [
        "normalized.head(5)"
      ],
      "execution_count": null,
      "outputs": [
        {
          "output_type": "execute_result",
          "data": {
            "text/html": [
              "<div>\n",
              "<style scoped>\n",
              "    .dataframe tbody tr th:only-of-type {\n",
              "        vertical-align: middle;\n",
              "    }\n",
              "\n",
              "    .dataframe tbody tr th {\n",
              "        vertical-align: top;\n",
              "    }\n",
              "\n",
              "    .dataframe thead th {\n",
              "        text-align: right;\n",
              "    }\n",
              "</style>\n",
              "<table border=\"1\" class=\"dataframe\">\n",
              "  <thead>\n",
              "    <tr style=\"text-align: right;\">\n",
              "      <th></th>\n",
              "      <th>0</th>\n",
              "      <th>1</th>\n",
              "      <th>2</th>\n",
              "      <th>3</th>\n",
              "      <th>4</th>\n",
              "      <th>5</th>\n",
              "      <th>6</th>\n",
              "      <th>7</th>\n",
              "      <th>8</th>\n",
              "      <th>9</th>\n",
              "      <th>10</th>\n",
              "      <th>11</th>\n",
              "      <th>12</th>\n",
              "      <th>13</th>\n",
              "      <th>14</th>\n",
              "      <th>15</th>\n",
              "      <th>16</th>\n",
              "      <th>17</th>\n",
              "      <th>18</th>\n",
              "      <th>19</th>\n",
              "      <th>20</th>\n",
              "      <th>21</th>\n",
              "      <th>22</th>\n",
              "      <th>23</th>\n",
              "      <th>24</th>\n",
              "      <th>25</th>\n",
              "      <th>26</th>\n",
              "      <th>27</th>\n",
              "      <th>28</th>\n",
              "      <th>29</th>\n",
              "      <th>30</th>\n",
              "      <th>31</th>\n",
              "      <th>32</th>\n",
              "      <th>33</th>\n",
              "      <th>34</th>\n",
              "      <th>35</th>\n",
              "      <th>36</th>\n",
              "      <th>37</th>\n",
              "      <th>38</th>\n",
              "      <th>39</th>\n",
              "      <th>...</th>\n",
              "      <th>156</th>\n",
              "      <th>157</th>\n",
              "      <th>158</th>\n",
              "      <th>159</th>\n",
              "      <th>160</th>\n",
              "      <th>161</th>\n",
              "      <th>162</th>\n",
              "      <th>163</th>\n",
              "      <th>164</th>\n",
              "      <th>165</th>\n",
              "      <th>166</th>\n",
              "      <th>167</th>\n",
              "      <th>168</th>\n",
              "      <th>169</th>\n",
              "      <th>170</th>\n",
              "      <th>171</th>\n",
              "      <th>172</th>\n",
              "      <th>173</th>\n",
              "      <th>174</th>\n",
              "      <th>175</th>\n",
              "      <th>176</th>\n",
              "      <th>177</th>\n",
              "      <th>178</th>\n",
              "      <th>179</th>\n",
              "      <th>180</th>\n",
              "      <th>181</th>\n",
              "      <th>182</th>\n",
              "      <th>183</th>\n",
              "      <th>184</th>\n",
              "      <th>185</th>\n",
              "      <th>186</th>\n",
              "      <th>187</th>\n",
              "      <th>188</th>\n",
              "      <th>189</th>\n",
              "      <th>190</th>\n",
              "      <th>191</th>\n",
              "      <th>192</th>\n",
              "      <th>193</th>\n",
              "      <th>194</th>\n",
              "      <th>195</th>\n",
              "    </tr>\n",
              "  </thead>\n",
              "  <tbody>\n",
              "    <tr>\n",
              "      <th>0</th>\n",
              "      <td>1.0</td>\n",
              "      <td>0.369231</td>\n",
              "      <td>1.0</td>\n",
              "      <td>0.0</td>\n",
              "      <td>1.0</td>\n",
              "      <td>0.070366</td>\n",
              "      <td>0.716263</td>\n",
              "      <td>0.0</td>\n",
              "      <td>0.0</td>\n",
              "      <td>1.0</td>\n",
              "      <td>0.0</td>\n",
              "      <td>0.0</td>\n",
              "      <td>0.0</td>\n",
              "      <td>0.0</td>\n",
              "      <td>0.0</td>\n",
              "      <td>0.0</td>\n",
              "      <td>0.0</td>\n",
              "      <td>0.0</td>\n",
              "      <td>0.0</td>\n",
              "      <td>0.0</td>\n",
              "      <td>0.0</td>\n",
              "      <td>0.0</td>\n",
              "      <td>0.0</td>\n",
              "      <td>0.0</td>\n",
              "      <td>0.0</td>\n",
              "      <td>0.0</td>\n",
              "      <td>0.0</td>\n",
              "      <td>0.0</td>\n",
              "      <td>0.0</td>\n",
              "      <td>0.0</td>\n",
              "      <td>0.0</td>\n",
              "      <td>0.0</td>\n",
              "      <td>0.0</td>\n",
              "      <td>1.0</td>\n",
              "      <td>0.0</td>\n",
              "      <td>0.0</td>\n",
              "      <td>0.0</td>\n",
              "      <td>0.0</td>\n",
              "      <td>0.0</td>\n",
              "      <td>0.0</td>\n",
              "      <td>...</td>\n",
              "      <td>0.0</td>\n",
              "      <td>0.0</td>\n",
              "      <td>0.0</td>\n",
              "      <td>0.0</td>\n",
              "      <td>0.0</td>\n",
              "      <td>0.0</td>\n",
              "      <td>0.0</td>\n",
              "      <td>0.0</td>\n",
              "      <td>0.0</td>\n",
              "      <td>0.0</td>\n",
              "      <td>0.0</td>\n",
              "      <td>0.0</td>\n",
              "      <td>0.0</td>\n",
              "      <td>0.0</td>\n",
              "      <td>0.0</td>\n",
              "      <td>1.0</td>\n",
              "      <td>0.0</td>\n",
              "      <td>0.0</td>\n",
              "      <td>0.0</td>\n",
              "      <td>0.0</td>\n",
              "      <td>0.0</td>\n",
              "      <td>0.0</td>\n",
              "      <td>0.0</td>\n",
              "      <td>0.0</td>\n",
              "      <td>0.0</td>\n",
              "      <td>0.0</td>\n",
              "      <td>0.0</td>\n",
              "      <td>0.0</td>\n",
              "      <td>0.0</td>\n",
              "      <td>0.0</td>\n",
              "      <td>0.0</td>\n",
              "      <td>0.0</td>\n",
              "      <td>0.0</td>\n",
              "      <td>0.0</td>\n",
              "      <td>0.0</td>\n",
              "      <td>0.0</td>\n",
              "      <td>0.0</td>\n",
              "      <td>0.0</td>\n",
              "      <td>0.0</td>\n",
              "      <td>0.0</td>\n",
              "    </tr>\n",
              "    <tr>\n",
              "      <th>1</th>\n",
              "      <td>1.0</td>\n",
              "      <td>0.415385</td>\n",
              "      <td>1.0</td>\n",
              "      <td>0.0</td>\n",
              "      <td>1.0</td>\n",
              "      <td>0.066347</td>\n",
              "      <td>0.058824</td>\n",
              "      <td>0.0</td>\n",
              "      <td>0.0</td>\n",
              "      <td>1.0</td>\n",
              "      <td>0.0</td>\n",
              "      <td>0.0</td>\n",
              "      <td>0.0</td>\n",
              "      <td>0.0</td>\n",
              "      <td>0.0</td>\n",
              "      <td>0.0</td>\n",
              "      <td>0.0</td>\n",
              "      <td>0.0</td>\n",
              "      <td>0.0</td>\n",
              "      <td>0.0</td>\n",
              "      <td>0.0</td>\n",
              "      <td>0.0</td>\n",
              "      <td>0.0</td>\n",
              "      <td>0.0</td>\n",
              "      <td>0.0</td>\n",
              "      <td>0.0</td>\n",
              "      <td>0.0</td>\n",
              "      <td>0.0</td>\n",
              "      <td>0.0</td>\n",
              "      <td>0.0</td>\n",
              "      <td>0.0</td>\n",
              "      <td>0.0</td>\n",
              "      <td>0.0</td>\n",
              "      <td>1.0</td>\n",
              "      <td>0.0</td>\n",
              "      <td>0.0</td>\n",
              "      <td>0.0</td>\n",
              "      <td>0.0</td>\n",
              "      <td>0.0</td>\n",
              "      <td>0.0</td>\n",
              "      <td>...</td>\n",
              "      <td>0.0</td>\n",
              "      <td>0.0</td>\n",
              "      <td>0.0</td>\n",
              "      <td>0.0</td>\n",
              "      <td>0.0</td>\n",
              "      <td>0.0</td>\n",
              "      <td>0.0</td>\n",
              "      <td>0.0</td>\n",
              "      <td>0.0</td>\n",
              "      <td>0.0</td>\n",
              "      <td>0.0</td>\n",
              "      <td>0.0</td>\n",
              "      <td>0.0</td>\n",
              "      <td>0.0</td>\n",
              "      <td>0.0</td>\n",
              "      <td>1.0</td>\n",
              "      <td>0.0</td>\n",
              "      <td>0.0</td>\n",
              "      <td>0.0</td>\n",
              "      <td>0.0</td>\n",
              "      <td>0.0</td>\n",
              "      <td>0.0</td>\n",
              "      <td>0.0</td>\n",
              "      <td>0.0</td>\n",
              "      <td>0.0</td>\n",
              "      <td>0.0</td>\n",
              "      <td>0.0</td>\n",
              "      <td>0.0</td>\n",
              "      <td>0.0</td>\n",
              "      <td>0.0</td>\n",
              "      <td>0.0</td>\n",
              "      <td>0.0</td>\n",
              "      <td>0.0</td>\n",
              "      <td>0.0</td>\n",
              "      <td>0.0</td>\n",
              "      <td>0.0</td>\n",
              "      <td>0.0</td>\n",
              "      <td>0.0</td>\n",
              "      <td>0.0</td>\n",
              "      <td>0.0</td>\n",
              "    </tr>\n",
              "    <tr>\n",
              "      <th>2</th>\n",
              "      <td>0.0</td>\n",
              "      <td>0.553846</td>\n",
              "      <td>1.0</td>\n",
              "      <td>0.0</td>\n",
              "      <td>1.0</td>\n",
              "      <td>0.054696</td>\n",
              "      <td>0.214533</td>\n",
              "      <td>1.0</td>\n",
              "      <td>0.0</td>\n",
              "      <td>0.0</td>\n",
              "      <td>0.0</td>\n",
              "      <td>0.0</td>\n",
              "      <td>0.0</td>\n",
              "      <td>0.0</td>\n",
              "      <td>0.0</td>\n",
              "      <td>0.0</td>\n",
              "      <td>0.0</td>\n",
              "      <td>0.0</td>\n",
              "      <td>0.0</td>\n",
              "      <td>0.0</td>\n",
              "      <td>0.0</td>\n",
              "      <td>0.0</td>\n",
              "      <td>0.0</td>\n",
              "      <td>0.0</td>\n",
              "      <td>0.0</td>\n",
              "      <td>0.0</td>\n",
              "      <td>0.0</td>\n",
              "      <td>0.0</td>\n",
              "      <td>0.0</td>\n",
              "      <td>0.0</td>\n",
              "      <td>0.0</td>\n",
              "      <td>0.0</td>\n",
              "      <td>0.0</td>\n",
              "      <td>1.0</td>\n",
              "      <td>0.0</td>\n",
              "      <td>0.0</td>\n",
              "      <td>0.0</td>\n",
              "      <td>0.0</td>\n",
              "      <td>0.0</td>\n",
              "      <td>0.0</td>\n",
              "      <td>...</td>\n",
              "      <td>0.0</td>\n",
              "      <td>0.0</td>\n",
              "      <td>0.0</td>\n",
              "      <td>0.0</td>\n",
              "      <td>0.0</td>\n",
              "      <td>0.0</td>\n",
              "      <td>0.0</td>\n",
              "      <td>0.0</td>\n",
              "      <td>0.0</td>\n",
              "      <td>0.0</td>\n",
              "      <td>0.0</td>\n",
              "      <td>0.0</td>\n",
              "      <td>0.0</td>\n",
              "      <td>0.0</td>\n",
              "      <td>0.0</td>\n",
              "      <td>1.0</td>\n",
              "      <td>0.0</td>\n",
              "      <td>0.0</td>\n",
              "      <td>0.0</td>\n",
              "      <td>0.0</td>\n",
              "      <td>0.0</td>\n",
              "      <td>0.0</td>\n",
              "      <td>0.0</td>\n",
              "      <td>0.0</td>\n",
              "      <td>0.0</td>\n",
              "      <td>0.0</td>\n",
              "      <td>0.0</td>\n",
              "      <td>0.0</td>\n",
              "      <td>0.0</td>\n",
              "      <td>0.0</td>\n",
              "      <td>0.0</td>\n",
              "      <td>0.0</td>\n",
              "      <td>0.0</td>\n",
              "      <td>0.0</td>\n",
              "      <td>0.0</td>\n",
              "      <td>0.0</td>\n",
              "      <td>0.0</td>\n",
              "      <td>0.0</td>\n",
              "      <td>0.0</td>\n",
              "      <td>0.0</td>\n",
              "    </tr>\n",
              "    <tr>\n",
              "      <th>3</th>\n",
              "      <td>0.0</td>\n",
              "      <td>0.415385</td>\n",
              "      <td>1.0</td>\n",
              "      <td>0.0</td>\n",
              "      <td>1.0</td>\n",
              "      <td>0.083615</td>\n",
              "      <td>0.124567</td>\n",
              "      <td>1.0</td>\n",
              "      <td>0.0</td>\n",
              "      <td>0.0</td>\n",
              "      <td>0.0</td>\n",
              "      <td>0.0</td>\n",
              "      <td>0.0</td>\n",
              "      <td>0.0</td>\n",
              "      <td>0.0</td>\n",
              "      <td>0.0</td>\n",
              "      <td>0.0</td>\n",
              "      <td>0.0</td>\n",
              "      <td>0.0</td>\n",
              "      <td>0.0</td>\n",
              "      <td>0.0</td>\n",
              "      <td>0.0</td>\n",
              "      <td>0.0</td>\n",
              "      <td>0.0</td>\n",
              "      <td>0.0</td>\n",
              "      <td>0.0</td>\n",
              "      <td>0.0</td>\n",
              "      <td>0.0</td>\n",
              "      <td>0.0</td>\n",
              "      <td>0.0</td>\n",
              "      <td>0.0</td>\n",
              "      <td>0.0</td>\n",
              "      <td>0.0</td>\n",
              "      <td>0.0</td>\n",
              "      <td>0.0</td>\n",
              "      <td>0.0</td>\n",
              "      <td>0.0</td>\n",
              "      <td>0.0</td>\n",
              "      <td>0.0</td>\n",
              "      <td>0.0</td>\n",
              "      <td>...</td>\n",
              "      <td>0.0</td>\n",
              "      <td>0.0</td>\n",
              "      <td>0.0</td>\n",
              "      <td>0.0</td>\n",
              "      <td>0.0</td>\n",
              "      <td>0.0</td>\n",
              "      <td>0.0</td>\n",
              "      <td>0.0</td>\n",
              "      <td>0.0</td>\n",
              "      <td>0.0</td>\n",
              "      <td>0.0</td>\n",
              "      <td>0.0</td>\n",
              "      <td>0.0</td>\n",
              "      <td>0.0</td>\n",
              "      <td>0.0</td>\n",
              "      <td>0.0</td>\n",
              "      <td>0.0</td>\n",
              "      <td>0.0</td>\n",
              "      <td>0.0</td>\n",
              "      <td>0.0</td>\n",
              "      <td>0.0</td>\n",
              "      <td>0.0</td>\n",
              "      <td>1.0</td>\n",
              "      <td>0.0</td>\n",
              "      <td>0.0</td>\n",
              "      <td>0.0</td>\n",
              "      <td>0.0</td>\n",
              "      <td>0.0</td>\n",
              "      <td>0.0</td>\n",
              "      <td>0.0</td>\n",
              "      <td>0.0</td>\n",
              "      <td>0.0</td>\n",
              "      <td>0.0</td>\n",
              "      <td>0.0</td>\n",
              "      <td>0.0</td>\n",
              "      <td>0.0</td>\n",
              "      <td>0.0</td>\n",
              "      <td>0.0</td>\n",
              "      <td>0.0</td>\n",
              "      <td>0.0</td>\n",
              "    </tr>\n",
              "    <tr>\n",
              "      <th>4</th>\n",
              "      <td>1.0</td>\n",
              "      <td>0.261538</td>\n",
              "      <td>1.0</td>\n",
              "      <td>0.0</td>\n",
              "      <td>1.0</td>\n",
              "      <td>0.000000</td>\n",
              "      <td>0.474048</td>\n",
              "      <td>1.0</td>\n",
              "      <td>0.0</td>\n",
              "      <td>0.0</td>\n",
              "      <td>0.0</td>\n",
              "      <td>0.0</td>\n",
              "      <td>0.0</td>\n",
              "      <td>0.0</td>\n",
              "      <td>0.0</td>\n",
              "      <td>0.0</td>\n",
              "      <td>0.0</td>\n",
              "      <td>0.0</td>\n",
              "      <td>0.0</td>\n",
              "      <td>0.0</td>\n",
              "      <td>0.0</td>\n",
              "      <td>0.0</td>\n",
              "      <td>0.0</td>\n",
              "      <td>0.0</td>\n",
              "      <td>0.0</td>\n",
              "      <td>0.0</td>\n",
              "      <td>0.0</td>\n",
              "      <td>0.0</td>\n",
              "      <td>0.0</td>\n",
              "      <td>0.0</td>\n",
              "      <td>0.0</td>\n",
              "      <td>0.0</td>\n",
              "      <td>0.0</td>\n",
              "      <td>0.0</td>\n",
              "      <td>0.0</td>\n",
              "      <td>0.0</td>\n",
              "      <td>0.0</td>\n",
              "      <td>0.0</td>\n",
              "      <td>0.0</td>\n",
              "      <td>0.0</td>\n",
              "      <td>...</td>\n",
              "      <td>0.0</td>\n",
              "      <td>0.0</td>\n",
              "      <td>0.0</td>\n",
              "      <td>0.0</td>\n",
              "      <td>0.0</td>\n",
              "      <td>0.0</td>\n",
              "      <td>0.0</td>\n",
              "      <td>0.0</td>\n",
              "      <td>0.0</td>\n",
              "      <td>0.0</td>\n",
              "      <td>0.0</td>\n",
              "      <td>0.0</td>\n",
              "      <td>0.0</td>\n",
              "      <td>0.0</td>\n",
              "      <td>0.0</td>\n",
              "      <td>0.0</td>\n",
              "      <td>0.0</td>\n",
              "      <td>0.0</td>\n",
              "      <td>0.0</td>\n",
              "      <td>0.0</td>\n",
              "      <td>0.0</td>\n",
              "      <td>0.0</td>\n",
              "      <td>0.0</td>\n",
              "      <td>0.0</td>\n",
              "      <td>0.0</td>\n",
              "      <td>0.0</td>\n",
              "      <td>0.0</td>\n",
              "      <td>0.0</td>\n",
              "      <td>0.0</td>\n",
              "      <td>0.0</td>\n",
              "      <td>0.0</td>\n",
              "      <td>0.0</td>\n",
              "      <td>0.0</td>\n",
              "      <td>0.0</td>\n",
              "      <td>0.0</td>\n",
              "      <td>0.0</td>\n",
              "      <td>0.0</td>\n",
              "      <td>0.0</td>\n",
              "      <td>0.0</td>\n",
              "      <td>0.0</td>\n",
              "    </tr>\n",
              "  </tbody>\n",
              "</table>\n",
              "<p>5 rows × 196 columns</p>\n",
              "</div>"
            ],
            "text/plain": [
              "   0         1    2    3    4         5    ...  190  191  192  193  194  195\n",
              "0  1.0  0.369231  1.0  0.0  1.0  0.070366  ...  0.0  0.0  0.0  0.0  0.0  0.0\n",
              "1  1.0  0.415385  1.0  0.0  1.0  0.066347  ...  0.0  0.0  0.0  0.0  0.0  0.0\n",
              "2  0.0  0.553846  1.0  0.0  1.0  0.054696  ...  0.0  0.0  0.0  0.0  0.0  0.0\n",
              "3  0.0  0.415385  1.0  0.0  1.0  0.083615  ...  0.0  0.0  0.0  0.0  0.0  0.0\n",
              "4  1.0  0.261538  1.0  0.0  1.0  0.000000  ...  0.0  0.0  0.0  0.0  0.0  0.0\n",
              "\n",
              "[5 rows x 196 columns]"
            ]
          },
          "metadata": {
            "tags": []
          },
          "execution_count": 20
        }
      ]
    },
    {
      "cell_type": "markdown",
      "metadata": {
        "id": "V2cj2eYxHHeN"
      },
      "source": [
        "É valido salientar que este conjunto de dados não apresenta valores nulos, portanto não será necessário realizar imputação nos dados."
      ]
    },
    {
      "cell_type": "markdown",
      "metadata": {
        "id": "-sr0MhZOf6t2"
      },
      "source": [
        "## Modelagem\n",
        "\n",
        "Nesta seção, iremos pegar os dados já tratados e aplicá-los em alguns modelos de aprendizagem de máquina. Primeiramente, vamos dividir o conjunto em treino e teste."
      ]
    },
    {
      "cell_type": "code",
      "metadata": {
        "id": "FQ3fjU-fhDSr"
      },
      "source": [
        "from sklearn.model_selection import train_test_split\n",
        "\n",
        "X_train, X_test, y_train, y_test = train_test_split(normalized, balanced_data['Response'], test_size=0.2)"
      ],
      "execution_count": null,
      "outputs": []
    },
    {
      "cell_type": "markdown",
      "metadata": {
        "id": "9IoNfkqDgv4B"
      },
      "source": [
        "### Validação cruzada\n",
        "\n",
        "Neste artigo iremos aplicar validação cruzada nos modelos. Esta técnica é bastante utilizada e consiste em separar todo o conjunto de dados em várias partições e utilizar algumas delas para estimar os parâmetros dos modelos, enquanto as outras serão usadas na validação.\n",
        "\n",
        "Há várias maneiras de realizar o particionamento dos dados, sendo as mais populares **hold-out**, **leave-one-out** e **k-fold** que será utilizada neste artigo.\n",
        "\n",
        "A validação k-fold simplesmente divide o conjunto em k partições, utiliza uma delas para teste e as outras k-1 serão utilizadas para treino. Este processo se repete k vezes, de modo que cada partição seja utilizada para teste uma vez.\n",
        "\n",
        "Por hora, vamos realizar os preparativos para que a validação seja feita em cada modelo."
      ]
    },
    {
      "cell_type": "code",
      "metadata": {
        "id": "RDbhQ59qFmP-"
      },
      "source": [
        "from sklearn.model_selection import StratifiedKFold\n",
        "\n",
        "folds = 10\n",
        "k_fold = StratifiedKFold(folds)"
      ],
      "execution_count": null,
      "outputs": []
    },
    {
      "cell_type": "markdown",
      "metadata": {
        "id": "lDI1zfTMHGRn"
      },
      "source": [
        "A função a seguir irá ajudar a obter as métricas que queremos avaliar em cada modelo."
      ]
    },
    {
      "cell_type": "code",
      "metadata": {
        "id": "vQ6JbC7wHO_I"
      },
      "source": [
        "from sklearn.metrics import f1_score, accuracy_score, precision_score, recall_score, confusion_matrix\n",
        "\n",
        "def get_metrics(y_true, y_pred):\n",
        "  accuracy = accuracy_score(y_test, y_pred)\n",
        "  precision = precision_score(y_test, y_pred)\n",
        "  recall = recall_score(y_test, y_pred)\n",
        "  f1 = f1_score(y_test, y_pred)\n",
        "\n",
        "  print(f'Acurácia: {accuracy}')\n",
        "  print(f'Precisão: {precision}')\n",
        "  print(f'Recall: {recall}')\n",
        "  print(f'F1: {f1}')"
      ],
      "execution_count": null,
      "outputs": []
    },
    {
      "cell_type": "markdown",
      "metadata": {
        "id": "Vo440HaoGe6Q"
      },
      "source": [
        "### Regressão Logística\n",
        "\n",
        "A regressão logística é um modelo de classificação que utiliza uma função sigmoide para determinar as probabilidades de uma entrada do conjunto de dados pertencer a uma determinada classe. O modelo da biblioteca **scikit-learn** utiliza regularização L2 por padrão. Aproveitando-se disso, vamos usar diferentes valores para dosar a força de regularização. Na regressão logística, quanto menor o valor, maior a força."
      ]
    },
    {
      "cell_type": "code",
      "metadata": {
        "id": "qbvkgR9iIIkF",
        "colab": {
          "base_uri": "https://localhost:8080/"
        },
        "outputId": "d71bbaba-72dc-468e-a840-d6b70af5a3d4"
      },
      "source": [
        "from sklearn.linear_model import LogisticRegression\n",
        "\n",
        "logreg_C = [1e-4, 1e-3, 1e-2, 1e-1, 1]\n",
        "best_c = logreg_C[0]\n",
        "best_score, best_accuracy, best_precision, best_recall = 0, 0, 0, 0\n",
        "avg_scores = []\n",
        "\n",
        "for c in logreg_C:\n",
        "    score = 0\n",
        "    accuracy = 0\n",
        "    recall = 0\n",
        "    precision = 0\n",
        "    for train_index, test_index in k_fold.split(X_train, y_train):\n",
        "        X_train_fold, X_test_fold = X_train.iloc[train_index], X_train.iloc[test_index]\n",
        "        y_train_fold, y_test_fold = y_train.iloc[train_index], y_train.iloc[test_index]\n",
        "\n",
        "        model = LogisticRegression(C=c, random_state=31, class_weight='balanced', max_iter=1000)\n",
        "        model.fit(X_train_fold, y_train_fold)\n",
        "        pred = model.predict(X_test_fold)\n",
        "\n",
        "        score += f1_score(y_test_fold, pred)\n",
        "        accuracy += accuracy_score(y_test_fold, pred)\n",
        "        recall += recall_score(y_test_fold, pred)\n",
        "        precision += precision_score(y_test_fold, pred)\n",
        "\n",
        "    score = score / folds # média\n",
        "    avg_scores.append(score)\n",
        "\n",
        "    accuracy = accuracy / folds\n",
        "    recall = recall / folds\n",
        "    precision = precision / folds\n",
        "\n",
        "    if (score > best_score):\n",
        "        best_score = score\n",
        "        best_accuracy = accuracy\n",
        "        best_recall = recall\n",
        "        best_precision = precision\n",
        "        best_c = c\n",
        "\n",
        "print(f'Melhor C: {best_c}. Resultou no F1 {best_score} e Acurácia {best_accuracy} durante o {folds}-fold')"
      ],
      "execution_count": null,
      "outputs": [
        {
          "output_type": "stream",
          "text": [
            "Melhor C: 0.01. Resultou no F1 0.824541995233784 e Acurácia 0.7981964453891113 durante o 10-fold\n"
          ],
          "name": "stdout"
        }
      ]
    },
    {
      "cell_type": "markdown",
      "metadata": {
        "id": "Ow-nfm4xrgAc"
      },
      "source": [
        "Utilizando validação cruzada 10-fold, o modelo com o maior f1-score médio obteve seguintes métricas:"
      ]
    },
    {
      "cell_type": "code",
      "metadata": {
        "id": "lfXlFoarn9Er",
        "colab": {
          "base_uri": "https://localhost:8080/"
        },
        "outputId": "55c3ce43-fd21-4840-9b0e-766a79d8474a"
      },
      "source": [
        "print(f'Acurácia: {best_accuracy}')\n",
        "print(f'Precisão: {best_precision}')\n",
        "print(f'Recall: {best_recall}')\n",
        "print(f'F1: {best_score}')"
      ],
      "execution_count": null,
      "outputs": [
        {
          "output_type": "stream",
          "text": [
            "Acurácia: 0.7981964453891113\n",
            "Precisão: 0.7307953653490413\n",
            "Recall: 0.9458962151034228\n",
            "F1: 0.824541995233784\n"
          ],
          "name": "stdout"
        }
      ]
    },
    {
      "cell_type": "markdown",
      "metadata": {
        "id": "nwkD2AZQx5qy"
      },
      "source": [
        "Vejamos agora as métricas obtidas pela regressão logística sem utilizar validação cruzada:"
      ]
    },
    {
      "cell_type": "code",
      "metadata": {
        "id": "F04CzeS1wbux",
        "colab": {
          "base_uri": "https://localhost:8080/"
        },
        "outputId": "c9cafef3-acb3-4995-8fb6-4539103ecf3e"
      },
      "source": [
        "model = LogisticRegression(random_state=31, max_iter=1000)\n",
        "model.fit(X_train, y_train)\n",
        "predictions = model.predict(X_test)\n",
        "\n",
        "get_metrics(y_test, predictions)"
      ],
      "execution_count": null,
      "outputs": [
        {
          "output_type": "stream",
          "text": [
            "Acurácia: 0.7926568186683793\n",
            "Precisão: 0.7246340443329151\n",
            "Recall: 0.9370470524607896\n",
            "F1: 0.8172641509433961\n"
          ],
          "name": "stdout"
        }
      ]
    },
    {
      "cell_type": "markdown",
      "metadata": {
        "id": "avJqxML6OjaX"
      },
      "source": [
        "Observando a matriz de confusão abaixo, podemos ter uma melhor noção dos resultados do modelo. Na diagonal principal temos os acertos do modelo, enquanto que na secundária, as previsões incorretas de modo que: \n",
        "- O segundo quadrado da primeira linha representa os falsos positivos, ou seja, clientes que o modelo previu que gostariam do seguro veículo, mas, na verdade, não o querem;\n",
        "- O primeiro quadrado da segunda linha representa os falsos negativos, ou seja, clientes que o modelo previu que **não** gostariam do seguro veículo, mas, na verdade, o querem."
      ]
    },
    {
      "cell_type": "code",
      "metadata": {
        "id": "QNzisJXb5rHz",
        "colab": {
          "base_uri": "https://localhost:8080/",
          "height": 278
        },
        "outputId": "9436da8a-4bc7-438f-c6cf-ff6ed3a7d59f"
      },
      "source": [
        "from sklearn.metrics import plot_confusion_matrix\n",
        "plot_confusion_matrix(model, X_test, y_test, values_format='d', display_labels=['Verdadeiro', 'Falso'])\n",
        "plt.show()"
      ],
      "execution_count": null,
      "outputs": [
        {
          "output_type": "display_data",
          "data": {
            "image/png": "[encoded data removed]",
            "text/plain": [
              "<Figure size 432x288 with 2 Axes>"
            ]
          },
          "metadata": {
            "tags": [],
            "needs_background": "light"
          }
        }
      ]
    },
    {
      "cell_type": "markdown",
      "metadata": {
        "id": "fNaTTkpzgKJg"
      },
      "source": [
        "O gráfico abaixo mostra o impacto da força de regularização no f1. Observe que o f1 decresce ligeiramente para C maior que 0.02. Isso significa que grandes forças de regualrização não irão necessariamente resultar no melhor modelo."
      ]
    },
    {
      "cell_type": "code",
      "metadata": {
        "id": "omtsKOp-JG8W",
        "colab": {
          "base_uri": "https://localhost:8080/",
          "height": 407
        },
        "outputId": "a40a5c38-7ebc-4237-911f-96bbe5abb8b8"
      },
      "source": [
        "plt.figure(figsize=(8,6))\n",
        "plt.plot(logreg_C, avg_scores, '-o')\n",
        "plt.title('Visualizando relação entre regularização e F1-Score')\n",
        "plt.xlabel('C')\n",
        "plt.ylabel('F1-Score')\n",
        "plt.xscale('log')\n",
        "plt.show()"
      ],
      "execution_count": null,
      "outputs": [
        {
          "output_type": "display_data",
          "data": {
            "image/png": "[encoded data removed]",
            "text/plain": [
              "<Figure size 576x432 with 1 Axes>"
            ]
          },
          "metadata": {
            "tags": [],
            "needs_background": "light"
          }
        }
      ]
    },
    {
      "cell_type": "markdown",
      "metadata": {
        "id": "8_BcoQLXGkqh"
      },
      "source": [
        "### Árvore de Decisão\n",
        "\n",
        "Árvores de decisão podem ser utilizadas tanto para regressão quanto classificação. Como o nome sugere, se baseia em árvores de decisão para prever valores ou classes, onde os galhos representam informações sobre uma entrada e as folhas representam conclusões.\n",
        "\n",
        "Aqui iremos aplicar otimização bayesiana para encontrar os melhores hiperparâmetros do modelo. A classe ```BayesSearchCV``` da biblioteca **scikit-optimize** permite que a validação cruzada seja aplicada juntamente ao processo de busca dos hiperparâmetros."
      ]
    },
    {
      "cell_type": "code",
      "metadata": {
        "id": "XMWNBKZzg1pP"
      },
      "source": [
        "!pip install scikit-optimize"
      ],
      "execution_count": null,
      "outputs": []
    },
    {
      "cell_type": "code",
      "metadata": {
        "id": "eI4gzDRgjM5T",
        "colab": {
          "base_uri": "https://localhost:8080/"
        },
        "outputId": "bf9e5297-1ec7-42c2-8ea0-91ffa53ba9f1"
      },
      "source": [
        "from sklearn.tree import DecisionTreeClassifier\n",
        "from skopt import BayesSearchCV\n",
        "from skopt.space import Integer, Categorical\n",
        "\n",
        "model = DecisionTreeClassifier()\n",
        "params = {\n",
        "    'criterion': Categorical(['gini', 'entropy']),\n",
        "    'max_depth': Integer(1, 20),\n",
        "    'min_samples_split': Integer(2, 5),\n",
        "    'min_samples_leaf': Integer(1, 5),\n",
        "    'max_leaf_nodes': Integer(10, 30)\n",
        "}\n",
        "\n",
        "opt = BayesSearchCV(model, params, scoring='f1', cv=folds, verbose=0, random_state=31, n_jobs=10)\n",
        "opt.fit(X_train, y_train)"
      ],
      "execution_count": null,
      "outputs": [
        {
          "output_type": "stream",
          "text": [
            "/usr/local/lib/python3.6/dist-packages/skopt/optimizer/optimizer.py:449: UserWarning: The objective has been evaluated at this point before.\n",
            "  warnings.warn(\"The objective has been evaluated \"\n",
            "/usr/local/lib/python3.6/dist-packages/skopt/optimizer/optimizer.py:449: UserWarning: The objective has been evaluated at this point before.\n",
            "  warnings.warn(\"The objective has been evaluated \"\n",
            "/usr/local/lib/python3.6/dist-packages/skopt/optimizer/optimizer.py:449: UserWarning: The objective has been evaluated at this point before.\n",
            "  warnings.warn(\"The objective has been evaluated \"\n",
            "/usr/local/lib/python3.6/dist-packages/skopt/optimizer/optimizer.py:449: UserWarning: The objective has been evaluated at this point before.\n",
            "  warnings.warn(\"The objective has been evaluated \"\n",
            "/usr/local/lib/python3.6/dist-packages/skopt/optimizer/optimizer.py:449: UserWarning: The objective has been evaluated at this point before.\n",
            "  warnings.warn(\"The objective has been evaluated \"\n",
            "/usr/local/lib/python3.6/dist-packages/skopt/optimizer/optimizer.py:449: UserWarning: The objective has been evaluated at this point before.\n",
            "  warnings.warn(\"The objective has been evaluated \"\n"
          ],
          "name": "stderr"
        },
        {
          "output_type": "execute_result",
          "data": {
            "text/plain": [
              "BayesSearchCV(cv=10, error_score='raise',\n",
              "              estimator=DecisionTreeClassifier(ccp_alpha=0.0, class_weight=None,\n",
              "                                               criterion='gini', max_depth=None,\n",
              "                                               max_features=None,\n",
              "                                               max_leaf_nodes=None,\n",
              "                                               min_impurity_decrease=0.0,\n",
              "                                               min_impurity_split=None,\n",
              "                                               min_samples_leaf=1,\n",
              "                                               min_samples_split=2,\n",
              "                                               min_weight_fraction_leaf=0.0,\n",
              "                                               presort='deprecated',\n",
              "                                               random_state=None,\n",
              "                                               splitter='best'),\n",
              "              f...\n",
              "              search_spaces={'criterion': Categorical(categories=('gini', 'entropy'), prior=None),\n",
              "                             'max_depth': Integer(low=1, high=20, prior='uniform', transform='identity'),\n",
              "                             'max_leaf_nodes': Integer(low=10, high=30, prior='uniform', transform='identity'),\n",
              "                             'min_samples_leaf': Integer(low=1, high=5, prior='uniform', transform='identity'),\n",
              "                             'min_samples_split': Integer(low=2, high=5, prior='uniform', transform='identity')},\n",
              "              verbose=0)"
            ]
          },
          "metadata": {
            "tags": []
          },
          "execution_count": 30
        }
      ]
    },
    {
      "cell_type": "markdown",
      "metadata": {
        "id": "G4tGLOl2H-gc"
      },
      "source": [
        "Diferentemente da classe ```GridSearchCV``` da biblioteca **scikit-learn**, a classe ```BayesSearchCV``` não suporta múltiplas métricas ao mesmo tempo, sendo possível apenas executar um otimizador com uma métrica diferente por vez, fazendo com que o processo consuma muito tempo. Neste artigo, iremos apenas avaliar a estatística **f1** obtida na validação cruzada."
      ]
    },
    {
      "cell_type": "code",
      "metadata": {
        "id": "g4jkQFJ1IAef"
      },
      "source": [
        "print(f'Melhor f1 obtido: {opt.best_score_}')\n",
        "mean_f1 = np.mean(opt.cv_results_['mean_test_score'])\n",
        "print(f'F1 médio obtido: {mean_f1}')"
      ],
      "execution_count": null,
      "outputs": []
    },
    {
      "cell_type": "markdown",
      "metadata": {
        "id": "lddO9vSHIb5e"
      },
      "source": [
        "Com a propriedade ```best_params_``` do otimizador, é possível verificar o resultado da busca dos hiperparâmetros. Estes foram os valores obtidos:"
      ]
    },
    {
      "cell_type": "code",
      "metadata": {
        "id": "dtWhd3HlnCCE",
        "colab": {
          "base_uri": "https://localhost:8080/"
        },
        "outputId": "a7ee5279-19e1-4f4a-9946-79b5f66b712b"
      },
      "source": [
        "opt.best_params_"
      ],
      "execution_count": null,
      "outputs": [
        {
          "output_type": "execute_result",
          "data": {
            "text/plain": [
              "OrderedDict([('criterion', 'entropy'),\n",
              "             ('max_depth', 4),\n",
              "             ('max_leaf_nodes', 11),\n",
              "             ('min_samples_leaf', 3),\n",
              "             ('min_samples_split', 5)])"
            ]
          },
          "metadata": {
            "tags": []
          },
          "execution_count": 31
        }
      ]
    },
    {
      "cell_type": "markdown",
      "metadata": {
        "id": "pFqHRRjvJHzD"
      },
      "source": [
        "Agora, comparemos o desempenho do modelo sem aplicar validação cruzada no conjunto de dados."
      ]
    },
    {
      "cell_type": "code",
      "metadata": {
        "id": "xxnn28pT5J49",
        "colab": {
          "base_uri": "https://localhost:8080/"
        },
        "outputId": "073e3d26-bc79-42b9-e4e0-b9153e66785f"
      },
      "source": [
        "model = DecisionTreeClassifier(criterion='entropy', max_depth=4, max_leaf_nodes=11, min_samples_leaf=3, min_samples_split=5)\n",
        "model.fit(X_train, y_train)\n",
        "y_pred = model.predict(X_test)\n",
        "get_metrics(y_test, y_pred)"
      ],
      "execution_count": null,
      "outputs": [
        {
          "output_type": "stream",
          "text": [
            "Acurácia: 0.7853778634125455\n",
            "Precisão: 0.7059240028321926\n",
            "Recall: 0.970578691184424\n",
            "F1: 0.8173619967207142\n"
          ],
          "name": "stdout"
        }
      ]
    },
    {
      "cell_type": "markdown",
      "metadata": {
        "id": "VES2O4edQBRz"
      },
      "source": [
        "Agora, observemos a matriz de confusão do modelo."
      ]
    },
    {
      "cell_type": "code",
      "metadata": {
        "id": "6ZV-6Mi2aWkf",
        "colab": {
          "base_uri": "https://localhost:8080/",
          "height": 278
        },
        "outputId": "ac291460-dc41-4523-9f2a-9d2777ff1ef0"
      },
      "source": [
        "plot_confusion_matrix(opt, X_test, y_test, values_format='d', display_labels=['Verdadeiro', 'Falso'])\n",
        "plt.show()"
      ],
      "execution_count": null,
      "outputs": [
        {
          "output_type": "display_data",
          "data": {
            "image/png": "[encoded data removed]",
            "text/plain": [
              "<Figure size 432x288 with 2 Axes>"
            ]
          },
          "metadata": {
            "tags": [],
            "needs_background": "light"
          }
        }
      ]
    },
    {
      "cell_type": "markdown",
      "metadata": {
        "id": "4bKxt8lfGoeE"
      },
      "source": [
        "### LightGBM\n",
        "\n",
        "LightGBM também é um modelo baseado em árvores, mas diferentemente de uma árvore de decisão, são utilizadas várias delas, o que caracteriza um **ensemble**. Nesta técnica, são utilizados preditores fracos (modelos gerados aleatoriamente, que, em geral, possuem métricas abaixo do esperado) se juntam para formar um preditor forte final. Em modelos como este, é aplicado a técnica de **boosting** onde cada modelo é treinado de forma sequencial e adaptativa, ou seja, um modelo base irá depender dos anteriores, e, no final, serão combinados.\n",
        "\n",
        "No LightGBM ainda é aplicada mais uma técnica denominada **gradient boosting** na qual é criada uma corrente de modelos fracos, onde cada modelo tem a função de minimizar o erro do anterior atráves de uma função de perda. Cada modelo tem seus parâmetros reajustados de acordo com uma taxa de aprendizagem, em um processo bastante similar ao gradiente descendente.\n",
        "\n",
        "Novamente iremos utilizar otimização bayesiana para encontrar os melhores hiperparâmetros do modelo que se adequarem aos dados."
      ]
    },
    {
      "cell_type": "code",
      "metadata": {
        "id": "b2Phct6-lOc_"
      },
      "source": [
        "from lightgbm import LGBMClassifier\n",
        "from skopt.space import Real"
      ],
      "execution_count": null,
      "outputs": []
    },
    {
      "cell_type": "code",
      "metadata": {
        "id": "UWaU0OPQm6uw",
        "colab": {
          "base_uri": "https://localhost:8080/"
        },
        "outputId": "1ec7e2d3-cc68-4d7f-be3c-a600a2d2e703"
      },
      "source": [
        "model = LGBMClassifier()\n",
        "params = {\n",
        "    'learning_rate': [1e-3, 1e-2, 1e-1],\n",
        "    'num_leaves': Integer(2, 50),\n",
        "    'min_child_samples': Integer(2, 10),\n",
        "    'subsample': [0.05, 1],\n",
        "    'colsample_bytree': Real(0.1, 1)\n",
        "}\n",
        "\n",
        "opt = BayesSearchCV(model, params, scoring='f1', cv=folds, verbose=0, random_state=31, n_jobs=10)\n",
        "opt.fit(X_train, y_train)"
      ],
      "execution_count": null,
      "outputs": [
        {
          "output_type": "execute_result",
          "data": {
            "text/plain": [
              "BayesSearchCV(cv=10, error_score='raise',\n",
              "              estimator=LGBMClassifier(boosting_type='gbdt', class_weight=None,\n",
              "                                       colsample_bytree=1.0,\n",
              "                                       importance_type='split',\n",
              "                                       learning_rate=0.1, max_depth=-1,\n",
              "                                       min_child_samples=20,\n",
              "                                       min_child_weight=0.001,\n",
              "                                       min_split_gain=0.0, n_estimators=100,\n",
              "                                       n_jobs=-1, num_leaves=31, objective=None,\n",
              "                                       random_state=None, reg_alpha=0.0,\n",
              "                                       reg_lambda=0.0, sile...\n",
              "              refit=True, return_train_score=False, scoring='f1',\n",
              "              search_spaces={'colsample_bytree': Real(low=0.1, high=1, prior='uniform', transform='identity'),\n",
              "                             'learning_rate': [0.001, 0.01, 0.1],\n",
              "                             'min_child_samples': Integer(low=2, high=10, prior='uniform', transform='identity'),\n",
              "                             'num_leaves': Integer(low=2, high=50, prior='uniform', transform='identity'),\n",
              "                             'subsample': [0.05, 1]},\n",
              "              verbose=0)"
            ]
          },
          "metadata": {
            "tags": []
          },
          "execution_count": 37
        }
      ]
    },
    {
      "cell_type": "markdown",
      "metadata": {
        "id": "vPl94dB3SOPQ"
      },
      "source": [
        "Como na árvore de decisão, iremos avaliar o f1 obtido na validação cruzada."
      ]
    },
    {
      "cell_type": "code",
      "metadata": {
        "colab": {
          "base_uri": "https://localhost:8080/"
        },
        "id": "plhN5g9LTGKy",
        "outputId": "e054cfe5-999d-4f16-ba97-8759b0e8ccf9"
      },
      "source": [
        "print(f'Melhor f1 obtido: {opt.best_score_}')\n",
        "mean_f1 = np.mean(opt.cv_results_['mean_test_score'])\n",
        "print(f'F1 médio obtido: {mean_f1}')"
      ],
      "execution_count": null,
      "outputs": [
        {
          "output_type": "stream",
          "text": [
            "Melhor f1 obtido: 0.8248919727680017\n",
            "F1 médio obtido: 0.8217138617617116\n"
          ],
          "name": "stdout"
        }
      ]
    },
    {
      "cell_type": "markdown",
      "metadata": {
        "id": "fBE6id49UUOY"
      },
      "source": [
        "Estes foram os melhores hiperparâmetros obtidos pelo otimizador:"
      ]
    },
    {
      "cell_type": "code",
      "metadata": {
        "id": "QTRaerRV8IA8",
        "colab": {
          "base_uri": "https://localhost:8080/"
        },
        "outputId": "d7816385-1ec0-4fb1-9870-cc33b798b77d"
      },
      "source": [
        "opt.best_params_"
      ],
      "execution_count": null,
      "outputs": [
        {
          "output_type": "execute_result",
          "data": {
            "text/plain": [
              "OrderedDict([('colsample_bytree', 0.5904839476756047),\n",
              "             ('learning_rate', 0.1),\n",
              "             ('min_child_samples', 8),\n",
              "             ('num_leaves', 20),\n",
              "             ('subsample', 0.8420571542413413)])"
            ]
          },
          "metadata": {
            "tags": []
          },
          "execution_count": 39
        }
      ]
    },
    {
      "cell_type": "markdown",
      "metadata": {
        "id": "2VYBWhFoH0gL"
      },
      "source": [
        "Agora vamos testar o modelo com os hiperparâmetros obtidos sem validação cruzada."
      ]
    },
    {
      "cell_type": "code",
      "metadata": {
        "colab": {
          "base_uri": "https://localhost:8080/"
        },
        "id": "fDGL6QhkH0Au",
        "outputId": "7cd5a833-ea47-4092-f80e-fd2bc11026cc"
      },
      "source": [
        "model = LGBMClassifier(colsample_bytree=0.5904839476756047, learning_rate=0.1, min_child_samples=8, num_leaves=20, subsample=0.8420571542413413)\n",
        "model.fit(X_train, y_train)\n",
        "y_pred = model.predict(X_test)\n",
        "get_metrics(y_test, y_pred)"
      ],
      "execution_count": null,
      "outputs": [
        {
          "output_type": "stream",
          "text": [
            "Acurácia: 0.7946906444016271\n",
            "Precisão: 0.728247109460714\n",
            "Recall: 0.9333693888588426\n",
            "F1: 0.8181473404759647\n"
          ],
          "name": "stdout"
        }
      ]
    },
    {
      "cell_type": "code",
      "metadata": {
        "colab": {
          "base_uri": "https://localhost:8080/",
          "height": 278
        },
        "id": "Wf7eoIGQEFF4",
        "outputId": "3c56cc9a-b000-44b4-bb1f-834d1bc08a21"
      },
      "source": [
        "plot_confusion_matrix(model, X_test, y_test, values_format='d', display_labels=['Verdadeiro', 'Falso'])\n",
        "plt.show()"
      ],
      "execution_count": null,
      "outputs": [
        {
          "output_type": "display_data",
          "data": {
            "image/png": "[encoded data removed]",
            "text/plain": [
              "<Figure size 432x288 with 2 Axes>"
            ]
          },
          "metadata": {
            "tags": [],
            "needs_background": "light"
          }
        }
      ]
    },
    {
      "cell_type": "markdown",
      "metadata": {
        "id": "3mdBzWEkWItX"
      },
      "source": [
        "## Considerações finais\n",
        "\n",
        "Os modelos apresentados neste artigo obtiveram peformances bastante similares. A tabela abaixo resume as métricas obtidas.\n",
        "\n",
        "Modelo | Acurácia | Precisão | Recall | F1 \n",
        "---|---|---|---|---\n",
        "Regressão logística|0.7981964453891113|0.7307953653490413|0.9458962151034228|0.824541995233784\n",
        "Árvore de Decisão|0.7853778634125455|0.7059240028321926|0.970578691184424|0.8173619967207142\n",
        "LightGBM|0.7946906444016271|0.728247109460714|0.9333693888588426|0.8181473404759647\n",
        "\n",
        "\n",
        "De modo geral, os três modelos são muito bons em tratar falsos negativos, visto o alto valor de recall presente, apesar do modelo LightGBM apresentar um valor um pouco menor que o da árvore de decisão. Isso significa que os modelos identificam muito bem os clientes que não desejam obter um seguro para seu veículo. \n",
        "\n",
        "Por outro lado, os modelos terão um pouco mais de trabalho em identificar clientes que realmente querem obter um seguro veículo, visto que a precisão se mantém em torno de 0.7, tornando relativamente frequente a ocorrência de falsos positivos. Isso pode ocasionar em ligações de clientes irritados descobrindo que estão pagando pelo seguro veículo sem serem contatados.\n",
        "\n",
        "Por fim, é seguro afirmar que não é recomendável confiar cegamente nos modelos acima, pois os níveis de precisão podem acarretar em falsos positivos que podem prejudicar a seguradora, mas podem se tornar ferramentas de apoio à decisão bastante úteis caso os modelos sejam utilizados em produção.'"
      ]
    }
  ]
}