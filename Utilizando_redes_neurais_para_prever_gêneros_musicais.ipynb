{
  "nbformat": 4,
  "nbformat_minor": 0,
  "metadata": {
    "colab": {
      "name": "Utilizando redes neurais para prever gêneros musicais.ipynb",
      "provenance": [],
      "toc_visible": true,
      "authorship_tag": "ABX9TyPsMlqMJTuFxKXOgmYeVSMt",
      "include_colab_link": true
    },
    "kernelspec": {
      "name": "python3",
      "display_name": "Python 3"
    }
  },
  "cells": [
    {
      "cell_type": "markdown",
      "metadata": {
        "id": "view-in-github",
        "colab_type": "text"
      },
      "source": [
        "<a href=\"https://colab.research.google.com/github/rafaelsguerra/data_science_portfolio/blob/main/Utilizando_redes_neurais_para_prever_g%C3%AAneros_musicais.ipynb\" target=\"_parent\"><img src=\"https://colab.research.google.com/assets/colab-badge.svg\" alt=\"Open In Colab\"/></a>"
      ]
    },
    {
      "cell_type": "markdown",
      "metadata": {
        "id": "9XyiLk1Oo04w"
      },
      "source": [
        "#Utilizando redes neurais para prever gêneros musicais\r\n",
        "\r\n",
        "Neste artigo iremos explorar um conjunto de dados obtido pela [API do Spotify](https://developer.spotify.com/documentation/web-api/reference/) contendo informações sobre várias músicas e, a partir delas, prever a que gênero musical ela pertence. Para fins didáticos, iremos apenas utilizar os gêneros rock, samba e sertanejo."
      ]
    },
    {
      "cell_type": "markdown",
      "metadata": {
        "id": "Dt4wu4J4pdvz"
      },
      "source": [
        "## Explorando os dados"
      ]
    },
    {
      "cell_type": "code",
      "metadata": {
        "id": "Gc9wrKGUlJhD"
      },
      "source": [
        "import numpy as np\r\n",
        "import pandas as pd\r\n",
        "\r\n",
        "data = pd.read_csv('https://drive.google.com/uc?export=download&id=1zBIkLjUft3HgkXGOFgWAl68LiWTzoep9')"
      ],
      "execution_count": 1,
      "outputs": []
    },
    {
      "cell_type": "markdown",
      "metadata": {
        "id": "p3el_wqeW9KF"
      },
      "source": [
        "Esta é uma breve explicação das colunas presentes:\r\n",
        "- SName: nome da faixa;\r\n",
        "- Artist: nome do artista que compôs a faixa;\r\n",
        "- Genre: o gênero que a faixa pertence. É a variável alvo;\r\n",
        "- uri: link para ouvir a faixa na plataforma Spotify;\r\n",
        "- danceabilty: descreve o quão dançante é uma faixa baseado em uma combinação de elementos, incluindo ritmo, tempo, força da batida, entre outros;\r\n",
        "- energy: representa uma medida perceptiva de intensidade e atividade. Faixas com alta energia parecem rápidas, altas ou muito ruidosas;\r\n",
        "- key: a clave na qual a faixa se encontra. 0 = C, 1 = C♯/D♭, 2 = D e assim por diante;\r\n",
        "- loudness: medida geral para o volume da faixa em decibeis.;\r\n",
        "- mode: modo da faixa, ou seja, o tipo de  escala da qual o conteúdo melódico da faixa é derivado. 1 é maior e 0 é menor;\r\n",
        "- speechiness: detecta a presenca de palavras faladas numa faixa. Valores muito próximos de 1 indicam que a faixa pode ser um talk show ou similar. Valores medianos indicam presença de palavras e música. Valores baixos apresentam música ou outras faixas sem palavras;\r\n",
        "- acousticness medida aproximada que indica se uma faixa é acústica;\r\n",
        "- instrumentalness: indica se uma faixa não apresenta vocais. Valores acima de 0.5 já pressupõem que a faixa é instrumental, mas a confiança é maior com valores próximos de 1;\r\n",
        "- liveness: detecta a presença de audiência na faixa. Valores altos indicam que a faixa provavelmente foi gravada ao vivo;\r\n",
        "- valence: medida que indica o nivel de positividade que a faixa transmite. Faixas com índices altos soam mais positivas (felizes, eufóricas, alegres) enquanto índices baixos soam negativas (tristes, depressivas, raivosas);\r\n",
        "- tempo: tempo estimado da faixa em patidas por minuto;\r\n",
        "- duration_ms: duração da faixa em milissegundos;\r\n",
        "- time_signature: fórmula de compasso média estimada da faixa;"
      ]
    },
    {
      "cell_type": "code",
      "metadata": {
        "id": "6eudTOCNn8Zm",
        "colab": {
          "base_uri": "https://localhost:8080/",
          "height": 301
        },
        "outputId": "e82706d4-a432-4aff-a268-1a9ef9cb63e1"
      },
      "source": [
        "data.head(5)"
      ],
      "execution_count": 2,
      "outputs": [
        {
          "output_type": "execute_result",
          "data": {
            "text/html": [
              "<div>\n",
              "<style scoped>\n",
              "    .dataframe tbody tr th:only-of-type {\n",
              "        vertical-align: middle;\n",
              "    }\n",
              "\n",
              "    .dataframe tbody tr th {\n",
              "        vertical-align: top;\n",
              "    }\n",
              "\n",
              "    .dataframe thead th {\n",
              "        text-align: right;\n",
              "    }\n",
              "</style>\n",
              "<table border=\"1\" class=\"dataframe\">\n",
              "  <thead>\n",
              "    <tr style=\"text-align: right;\">\n",
              "      <th></th>\n",
              "      <th>SName</th>\n",
              "      <th>Artist</th>\n",
              "      <th>Genre</th>\n",
              "      <th>uri</th>\n",
              "      <th>danceability</th>\n",
              "      <th>energy</th>\n",
              "      <th>key</th>\n",
              "      <th>loudness</th>\n",
              "      <th>mode</th>\n",
              "      <th>speechiness</th>\n",
              "      <th>acousticness</th>\n",
              "      <th>instrumentalness</th>\n",
              "      <th>liveness</th>\n",
              "      <th>valence</th>\n",
              "      <th>tempo</th>\n",
              "      <th>duration_ms</th>\n",
              "      <th>time_signature</th>\n",
              "    </tr>\n",
              "  </thead>\n",
              "  <tbody>\n",
              "    <tr>\n",
              "      <th>0</th>\n",
              "      <td>Esperança</td>\n",
              "      <td>Aliados</td>\n",
              "      <td>Rock</td>\n",
              "      <td>spotify:track:63hfFSvMiAmIhet3runSer</td>\n",
              "      <td>0.540000</td>\n",
              "      <td>0.935</td>\n",
              "      <td>1.0</td>\n",
              "      <td>-5.132000</td>\n",
              "      <td>0.0</td>\n",
              "      <td>0.0569</td>\n",
              "      <td>0.002869</td>\n",
              "      <td>0.000000</td>\n",
              "      <td>0.2910</td>\n",
              "      <td>0.457999</td>\n",
              "      <td>120.052000</td>\n",
              "      <td>185520</td>\n",
              "      <td>4</td>\n",
              "    </tr>\n",
              "    <tr>\n",
              "      <th>1</th>\n",
              "      <td>Te Encontro Por Aí</td>\n",
              "      <td>Aliados</td>\n",
              "      <td>Rock</td>\n",
              "      <td>spotify:track:7jMXh3GaRS6WBvSN9tGklB</td>\n",
              "      <td>0.462999</td>\n",
              "      <td>0.764</td>\n",
              "      <td>8.0</td>\n",
              "      <td>-4.123999</td>\n",
              "      <td>1.0</td>\n",
              "      <td>0.0791</td>\n",
              "      <td>0.078100</td>\n",
              "      <td>0.000000</td>\n",
              "      <td>0.1130</td>\n",
              "      <td>0.450000</td>\n",
              "      <td>169.619000</td>\n",
              "      <td>184747</td>\n",
              "      <td>4</td>\n",
              "    </tr>\n",
              "    <tr>\n",
              "      <th>2</th>\n",
              "      <td>Pra Ser Feliz</td>\n",
              "      <td>Aliados</td>\n",
              "      <td>Rock</td>\n",
              "      <td>spotify:track:1K7IAeOK4N7SiJwx1GrQkk</td>\n",
              "      <td>0.632000</td>\n",
              "      <td>0.582</td>\n",
              "      <td>10.0</td>\n",
              "      <td>-5.941000</td>\n",
              "      <td>0.0</td>\n",
              "      <td>0.0298</td>\n",
              "      <td>0.257000</td>\n",
              "      <td>0.000000</td>\n",
              "      <td>0.1190</td>\n",
              "      <td>0.711000</td>\n",
              "      <td>116.902999</td>\n",
              "      <td>157533</td>\n",
              "      <td>4</td>\n",
              "    </tr>\n",
              "    <tr>\n",
              "      <th>3</th>\n",
              "      <td>Águas Passadas</td>\n",
              "      <td>Aliados</td>\n",
              "      <td>Rock</td>\n",
              "      <td>spotify:track:5IUct7lJG41x8YA0ixTo1E</td>\n",
              "      <td>0.598000</td>\n",
              "      <td>0.545</td>\n",
              "      <td>0.0</td>\n",
              "      <td>-7.996000</td>\n",
              "      <td>0.0</td>\n",
              "      <td>0.0251</td>\n",
              "      <td>0.550000</td>\n",
              "      <td>0.000172</td>\n",
              "      <td>0.1110</td>\n",
              "      <td>0.414000</td>\n",
              "      <td>104.026000</td>\n",
              "      <td>173640</td>\n",
              "      <td>4</td>\n",
              "    </tr>\n",
              "    <tr>\n",
              "      <th>4</th>\n",
              "      <td>No Seu Coração</td>\n",
              "      <td>Aliados</td>\n",
              "      <td>Rock</td>\n",
              "      <td>spotify:track:59B1xAWXsS9dNLIrsZNPMg</td>\n",
              "      <td>0.617000</td>\n",
              "      <td>0.664</td>\n",
              "      <td>7.0</td>\n",
              "      <td>-6.489000</td>\n",
              "      <td>0.0</td>\n",
              "      <td>0.0279</td>\n",
              "      <td>0.058300</td>\n",
              "      <td>0.000000</td>\n",
              "      <td>0.0795</td>\n",
              "      <td>0.770999</td>\n",
              "      <td>80.068000</td>\n",
              "      <td>159120</td>\n",
              "      <td>4</td>\n",
              "    </tr>\n",
              "  </tbody>\n",
              "</table>\n",
              "</div>"
            ],
            "text/plain": [
              "                SName   Artist Genre  ...       tempo  duration_ms  time_signature\n",
              "0           Esperança  Aliados  Rock  ...  120.052000       185520               4\n",
              "1  Te Encontro Por Aí  Aliados  Rock  ...  169.619000       184747               4\n",
              "2       Pra Ser Feliz  Aliados  Rock  ...  116.902999       157533               4\n",
              "3      Águas Passadas  Aliados  Rock  ...  104.026000       173640               4\n",
              "4      No Seu Coração  Aliados  Rock  ...   80.068000       159120               4\n",
              "\n",
              "[5 rows x 17 columns]"
            ]
          },
          "metadata": {
            "tags": []
          },
          "execution_count": 2
        }
      ]
    },
    {
      "cell_type": "markdown",
      "metadata": {
        "id": "FuavWsCLpm-J"
      },
      "source": [
        "### Distribuição das variáveis\r\n",
        "\r\n",
        "Vamos ver como os dados estão distribuidos por cada classe presente no conjunto."
      ]
    },
    {
      "cell_type": "code",
      "metadata": {
        "colab": {
          "base_uri": "https://localhost:8080/",
          "height": 437
        },
        "id": "jVY3sDW0o6No",
        "outputId": "c893c5c5-f13d-43bd-837b-db29dfe2a774"
      },
      "source": [
        "rock = data[data['Genre'] == 'Rock']\r\n",
        "rock.describe().T"
      ],
      "execution_count": 3,
      "outputs": [
        {
          "output_type": "execute_result",
          "data": {
            "text/html": [
              "<div>\n",
              "<style scoped>\n",
              "    .dataframe tbody tr th:only-of-type {\n",
              "        vertical-align: middle;\n",
              "    }\n",
              "\n",
              "    .dataframe tbody tr th {\n",
              "        vertical-align: top;\n",
              "    }\n",
              "\n",
              "    .dataframe thead th {\n",
              "        text-align: right;\n",
              "    }\n",
              "</style>\n",
              "<table border=\"1\" class=\"dataframe\">\n",
              "  <thead>\n",
              "    <tr style=\"text-align: right;\">\n",
              "      <th></th>\n",
              "      <th>count</th>\n",
              "      <th>mean</th>\n",
              "      <th>std</th>\n",
              "      <th>min</th>\n",
              "      <th>25%</th>\n",
              "      <th>50%</th>\n",
              "      <th>75%</th>\n",
              "      <th>max</th>\n",
              "    </tr>\n",
              "  </thead>\n",
              "  <tbody>\n",
              "    <tr>\n",
              "      <th>danceability</th>\n",
              "      <td>4084.0</td>\n",
              "      <td>0.540643</td>\n",
              "      <td>0.145030</td>\n",
              "      <td>0.000000</td>\n",
              "      <td>0.437999</td>\n",
              "      <td>0.542999</td>\n",
              "      <td>0.64500</td>\n",
              "      <td>0.964</td>\n",
              "    </tr>\n",
              "    <tr>\n",
              "      <th>energy</th>\n",
              "      <td>4084.0</td>\n",
              "      <td>0.732861</td>\n",
              "      <td>0.204529</td>\n",
              "      <td>0.000020</td>\n",
              "      <td>0.596750</td>\n",
              "      <td>0.782000</td>\n",
              "      <td>0.90400</td>\n",
              "      <td>0.999</td>\n",
              "    </tr>\n",
              "    <tr>\n",
              "      <th>key</th>\n",
              "      <td>4084.0</td>\n",
              "      <td>5.570519</td>\n",
              "      <td>3.530792</td>\n",
              "      <td>0.000000</td>\n",
              "      <td>2.000000</td>\n",
              "      <td>6.000000</td>\n",
              "      <td>9.00000</td>\n",
              "      <td>11.000</td>\n",
              "    </tr>\n",
              "    <tr>\n",
              "      <th>loudness</th>\n",
              "      <td>4084.0</td>\n",
              "      <td>-7.380358</td>\n",
              "      <td>3.288986</td>\n",
              "      <td>-27.753000</td>\n",
              "      <td>-9.234250</td>\n",
              "      <td>-6.678500</td>\n",
              "      <td>-4.99875</td>\n",
              "      <td>-1.310</td>\n",
              "    </tr>\n",
              "    <tr>\n",
              "      <th>mode</th>\n",
              "      <td>4084.0</td>\n",
              "      <td>0.709109</td>\n",
              "      <td>0.454229</td>\n",
              "      <td>0.000000</td>\n",
              "      <td>0.000000</td>\n",
              "      <td>1.000000</td>\n",
              "      <td>1.00000</td>\n",
              "      <td>1.000</td>\n",
              "    </tr>\n",
              "    <tr>\n",
              "      <th>speechiness</th>\n",
              "      <td>4084.0</td>\n",
              "      <td>0.065177</td>\n",
              "      <td>0.058771</td>\n",
              "      <td>0.000000</td>\n",
              "      <td>0.033000</td>\n",
              "      <td>0.044200</td>\n",
              "      <td>0.07200</td>\n",
              "      <td>0.699</td>\n",
              "    </tr>\n",
              "    <tr>\n",
              "      <th>acousticness</th>\n",
              "      <td>4084.0</td>\n",
              "      <td>0.177978</td>\n",
              "      <td>0.241608</td>\n",
              "      <td>0.000002</td>\n",
              "      <td>0.007177</td>\n",
              "      <td>0.057150</td>\n",
              "      <td>0.25600</td>\n",
              "      <td>0.982</td>\n",
              "    </tr>\n",
              "    <tr>\n",
              "      <th>instrumentalness</th>\n",
              "      <td>4084.0</td>\n",
              "      <td>0.029164</td>\n",
              "      <td>0.118711</td>\n",
              "      <td>0.000000</td>\n",
              "      <td>0.000000</td>\n",
              "      <td>0.000019</td>\n",
              "      <td>0.00110</td>\n",
              "      <td>0.958</td>\n",
              "    </tr>\n",
              "    <tr>\n",
              "      <th>liveness</th>\n",
              "      <td>4084.0</td>\n",
              "      <td>0.274063</td>\n",
              "      <td>0.253908</td>\n",
              "      <td>0.015000</td>\n",
              "      <td>0.102000</td>\n",
              "      <td>0.161500</td>\n",
              "      <td>0.34400</td>\n",
              "      <td>0.998</td>\n",
              "    </tr>\n",
              "    <tr>\n",
              "      <th>valence</th>\n",
              "      <td>4084.0</td>\n",
              "      <td>0.571279</td>\n",
              "      <td>0.236939</td>\n",
              "      <td>0.000000</td>\n",
              "      <td>0.386000</td>\n",
              "      <td>0.575000</td>\n",
              "      <td>0.77325</td>\n",
              "      <td>0.992</td>\n",
              "    </tr>\n",
              "    <tr>\n",
              "      <th>tempo</th>\n",
              "      <td>4084.0</td>\n",
              "      <td>125.969435</td>\n",
              "      <td>29.662725</td>\n",
              "      <td>0.000000</td>\n",
              "      <td>101.964000</td>\n",
              "      <td>124.988000</td>\n",
              "      <td>144.66550</td>\n",
              "      <td>232.969</td>\n",
              "    </tr>\n",
              "    <tr>\n",
              "      <th>duration_ms</th>\n",
              "      <td>4084.0</td>\n",
              "      <td>220117.594270</td>\n",
              "      <td>65962.229021</td>\n",
              "      <td>15790.000000</td>\n",
              "      <td>181457.750000</td>\n",
              "      <td>214934.000000</td>\n",
              "      <td>250153.50000</td>\n",
              "      <td>1109733.000</td>\n",
              "    </tr>\n",
              "    <tr>\n",
              "      <th>time_signature</th>\n",
              "      <td>4084.0</td>\n",
              "      <td>3.951763</td>\n",
              "      <td>0.285796</td>\n",
              "      <td>0.000000</td>\n",
              "      <td>4.000000</td>\n",
              "      <td>4.000000</td>\n",
              "      <td>4.00000</td>\n",
              "      <td>5.000</td>\n",
              "    </tr>\n",
              "  </tbody>\n",
              "</table>\n",
              "</div>"
            ],
            "text/plain": [
              "                   count           mean  ...           75%          max\n",
              "danceability      4084.0       0.540643  ...       0.64500        0.964\n",
              "energy            4084.0       0.732861  ...       0.90400        0.999\n",
              "key               4084.0       5.570519  ...       9.00000       11.000\n",
              "loudness          4084.0      -7.380358  ...      -4.99875       -1.310\n",
              "mode              4084.0       0.709109  ...       1.00000        1.000\n",
              "speechiness       4084.0       0.065177  ...       0.07200        0.699\n",
              "acousticness      4084.0       0.177978  ...       0.25600        0.982\n",
              "instrumentalness  4084.0       0.029164  ...       0.00110        0.958\n",
              "liveness          4084.0       0.274063  ...       0.34400        0.998\n",
              "valence           4084.0       0.571279  ...       0.77325        0.992\n",
              "tempo             4084.0     125.969435  ...     144.66550      232.969\n",
              "duration_ms       4084.0  220117.594270  ...  250153.50000  1109733.000\n",
              "time_signature    4084.0       3.951763  ...       4.00000        5.000\n",
              "\n",
              "[13 rows x 8 columns]"
            ]
          },
          "metadata": {
            "tags": []
          },
          "execution_count": 3
        }
      ]
    },
    {
      "cell_type": "code",
      "metadata": {
        "colab": {
          "base_uri": "https://localhost:8080/",
          "height": 437
        },
        "id": "3EndtwTdoiZM",
        "outputId": "1fd8ac79-56e4-4741-c8e7-6b4225629a26"
      },
      "source": [
        "samba = data[data['Genre'] == 'Samba']\r\n",
        "samba.describe().T"
      ],
      "execution_count": 4,
      "outputs": [
        {
          "output_type": "execute_result",
          "data": {
            "text/html": [
              "<div>\n",
              "<style scoped>\n",
              "    .dataframe tbody tr th:only-of-type {\n",
              "        vertical-align: middle;\n",
              "    }\n",
              "\n",
              "    .dataframe tbody tr th {\n",
              "        vertical-align: top;\n",
              "    }\n",
              "\n",
              "    .dataframe thead th {\n",
              "        text-align: right;\n",
              "    }\n",
              "</style>\n",
              "<table border=\"1\" class=\"dataframe\">\n",
              "  <thead>\n",
              "    <tr style=\"text-align: right;\">\n",
              "      <th></th>\n",
              "      <th>count</th>\n",
              "      <th>mean</th>\n",
              "      <th>std</th>\n",
              "      <th>min</th>\n",
              "      <th>25%</th>\n",
              "      <th>50%</th>\n",
              "      <th>75%</th>\n",
              "      <th>max</th>\n",
              "    </tr>\n",
              "  </thead>\n",
              "  <tbody>\n",
              "    <tr>\n",
              "      <th>danceability</th>\n",
              "      <td>5235.0</td>\n",
              "      <td>0.599543</td>\n",
              "      <td>0.117883</td>\n",
              "      <td>0.125000</td>\n",
              "      <td>0.525000</td>\n",
              "      <td>0.606000</td>\n",
              "      <td>0.682999</td>\n",
              "      <td>9.309990e-01</td>\n",
              "    </tr>\n",
              "    <tr>\n",
              "      <th>energy</th>\n",
              "      <td>5235.0</td>\n",
              "      <td>0.645901</td>\n",
              "      <td>0.180294</td>\n",
              "      <td>0.026900</td>\n",
              "      <td>0.539000</td>\n",
              "      <td>0.670000</td>\n",
              "      <td>0.784000</td>\n",
              "      <td>9.910000e-01</td>\n",
              "    </tr>\n",
              "    <tr>\n",
              "      <th>key</th>\n",
              "      <td>5235.0</td>\n",
              "      <td>5.245463</td>\n",
              "      <td>3.604268</td>\n",
              "      <td>0.000000</td>\n",
              "      <td>2.000000</td>\n",
              "      <td>5.000000</td>\n",
              "      <td>9.000000</td>\n",
              "      <td>1.100000e+01</td>\n",
              "    </tr>\n",
              "    <tr>\n",
              "      <th>loudness</th>\n",
              "      <td>5235.0</td>\n",
              "      <td>-9.109505</td>\n",
              "      <td>3.132081</td>\n",
              "      <td>-33.951000</td>\n",
              "      <td>-10.822500</td>\n",
              "      <td>-8.582000</td>\n",
              "      <td>-6.840000</td>\n",
              "      <td>-1.129000e+00</td>\n",
              "    </tr>\n",
              "    <tr>\n",
              "      <th>mode</th>\n",
              "      <td>5235.0</td>\n",
              "      <td>0.645463</td>\n",
              "      <td>0.478418</td>\n",
              "      <td>0.000000</td>\n",
              "      <td>0.000000</td>\n",
              "      <td>1.000000</td>\n",
              "      <td>1.000000</td>\n",
              "      <td>1.000000e+00</td>\n",
              "    </tr>\n",
              "    <tr>\n",
              "      <th>speechiness</th>\n",
              "      <td>5235.0</td>\n",
              "      <td>0.087395</td>\n",
              "      <td>0.076705</td>\n",
              "      <td>0.024100</td>\n",
              "      <td>0.041200</td>\n",
              "      <td>0.058300</td>\n",
              "      <td>0.101499</td>\n",
              "      <td>9.200000e-01</td>\n",
              "    </tr>\n",
              "    <tr>\n",
              "      <th>acousticness</th>\n",
              "      <td>5235.0</td>\n",
              "      <td>0.506006</td>\n",
              "      <td>0.234431</td>\n",
              "      <td>0.000985</td>\n",
              "      <td>0.319000</td>\n",
              "      <td>0.528000</td>\n",
              "      <td>0.690500</td>\n",
              "      <td>9.950000e-01</td>\n",
              "    </tr>\n",
              "    <tr>\n",
              "      <th>instrumentalness</th>\n",
              "      <td>5235.0</td>\n",
              "      <td>0.011600</td>\n",
              "      <td>0.079006</td>\n",
              "      <td>0.000000</td>\n",
              "      <td>0.000000</td>\n",
              "      <td>0.000000</td>\n",
              "      <td>0.000012</td>\n",
              "      <td>9.520000e-01</td>\n",
              "    </tr>\n",
              "    <tr>\n",
              "      <th>liveness</th>\n",
              "      <td>5235.0</td>\n",
              "      <td>0.356500</td>\n",
              "      <td>0.301441</td>\n",
              "      <td>0.020500</td>\n",
              "      <td>0.111999</td>\n",
              "      <td>0.226999</td>\n",
              "      <td>0.603000</td>\n",
              "      <td>9.950000e-01</td>\n",
              "    </tr>\n",
              "    <tr>\n",
              "      <th>valence</th>\n",
              "      <td>5235.0</td>\n",
              "      <td>0.708910</td>\n",
              "      <td>0.209599</td>\n",
              "      <td>0.035300</td>\n",
              "      <td>0.578000</td>\n",
              "      <td>0.754000</td>\n",
              "      <td>0.882000</td>\n",
              "      <td>9.840000e-01</td>\n",
              "    </tr>\n",
              "    <tr>\n",
              "      <th>tempo</th>\n",
              "      <td>5235.0</td>\n",
              "      <td>115.353856</td>\n",
              "      <td>26.963242</td>\n",
              "      <td>52.243000</td>\n",
              "      <td>93.929500</td>\n",
              "      <td>107.891000</td>\n",
              "      <td>135.972500</td>\n",
              "      <td>2.074290e+02</td>\n",
              "    </tr>\n",
              "    <tr>\n",
              "      <th>duration_ms</th>\n",
              "      <td>5235.0</td>\n",
              "      <td>221445.497421</td>\n",
              "      <td>68315.557552</td>\n",
              "      <td>25307.000000</td>\n",
              "      <td>185193.000000</td>\n",
              "      <td>213281.000000</td>\n",
              "      <td>242933.500000</td>\n",
              "      <td>1.158707e+06</td>\n",
              "    </tr>\n",
              "    <tr>\n",
              "      <th>time_signature</th>\n",
              "      <td>5235.0</td>\n",
              "      <td>3.968481</td>\n",
              "      <td>0.226198</td>\n",
              "      <td>1.000000</td>\n",
              "      <td>4.000000</td>\n",
              "      <td>4.000000</td>\n",
              "      <td>4.000000</td>\n",
              "      <td>5.000000e+00</td>\n",
              "    </tr>\n",
              "  </tbody>\n",
              "</table>\n",
              "</div>"
            ],
            "text/plain": [
              "                   count           mean  ...            75%           max\n",
              "danceability      5235.0       0.599543  ...       0.682999  9.309990e-01\n",
              "energy            5235.0       0.645901  ...       0.784000  9.910000e-01\n",
              "key               5235.0       5.245463  ...       9.000000  1.100000e+01\n",
              "loudness          5235.0      -9.109505  ...      -6.840000 -1.129000e+00\n",
              "mode              5235.0       0.645463  ...       1.000000  1.000000e+00\n",
              "speechiness       5235.0       0.087395  ...       0.101499  9.200000e-01\n",
              "acousticness      5235.0       0.506006  ...       0.690500  9.950000e-01\n",
              "instrumentalness  5235.0       0.011600  ...       0.000012  9.520000e-01\n",
              "liveness          5235.0       0.356500  ...       0.603000  9.950000e-01\n",
              "valence           5235.0       0.708910  ...       0.882000  9.840000e-01\n",
              "tempo             5235.0     115.353856  ...     135.972500  2.074290e+02\n",
              "duration_ms       5235.0  221445.497421  ...  242933.500000  1.158707e+06\n",
              "time_signature    5235.0       3.968481  ...       4.000000  5.000000e+00\n",
              "\n",
              "[13 rows x 8 columns]"
            ]
          },
          "metadata": {
            "tags": []
          },
          "execution_count": 4
        }
      ]
    },
    {
      "cell_type": "code",
      "metadata": {
        "colab": {
          "base_uri": "https://localhost:8080/",
          "height": 437
        },
        "id": "zKYbDuH8qKrD",
        "outputId": "f2449215-5cee-463d-c796-70c0b83ace4f"
      },
      "source": [
        "sertanejo = data[data['Genre'] == 'Sertanejo']\r\n",
        "sertanejo.describe().T"
      ],
      "execution_count": 5,
      "outputs": [
        {
          "output_type": "execute_result",
          "data": {
            "text/html": [
              "<div>\n",
              "<style scoped>\n",
              "    .dataframe tbody tr th:only-of-type {\n",
              "        vertical-align: middle;\n",
              "    }\n",
              "\n",
              "    .dataframe tbody tr th {\n",
              "        vertical-align: top;\n",
              "    }\n",
              "\n",
              "    .dataframe thead th {\n",
              "        text-align: right;\n",
              "    }\n",
              "</style>\n",
              "<table border=\"1\" class=\"dataframe\">\n",
              "  <thead>\n",
              "    <tr style=\"text-align: right;\">\n",
              "      <th></th>\n",
              "      <th>count</th>\n",
              "      <th>mean</th>\n",
              "      <th>std</th>\n",
              "      <th>min</th>\n",
              "      <th>25%</th>\n",
              "      <th>50%</th>\n",
              "      <th>75%</th>\n",
              "      <th>max</th>\n",
              "    </tr>\n",
              "  </thead>\n",
              "  <tbody>\n",
              "    <tr>\n",
              "      <th>danceability</th>\n",
              "      <td>7961.0</td>\n",
              "      <td>0.609651</td>\n",
              "      <td>0.128986</td>\n",
              "      <td>0.087600</td>\n",
              "      <td>0.5320</td>\n",
              "      <td>0.624000</td>\n",
              "      <td>0.7010</td>\n",
              "      <td>0.941</td>\n",
              "    </tr>\n",
              "    <tr>\n",
              "      <th>energy</th>\n",
              "      <td>7961.0</td>\n",
              "      <td>0.666014</td>\n",
              "      <td>0.195031</td>\n",
              "      <td>0.039300</td>\n",
              "      <td>0.5220</td>\n",
              "      <td>0.677999</td>\n",
              "      <td>0.8350</td>\n",
              "      <td>0.998</td>\n",
              "    </tr>\n",
              "    <tr>\n",
              "      <th>key</th>\n",
              "      <td>7961.0</td>\n",
              "      <td>5.313905</td>\n",
              "      <td>3.479707</td>\n",
              "      <td>0.000000</td>\n",
              "      <td>2.0000</td>\n",
              "      <td>5.000000</td>\n",
              "      <td>9.0000</td>\n",
              "      <td>11.000</td>\n",
              "    </tr>\n",
              "    <tr>\n",
              "      <th>loudness</th>\n",
              "      <td>7961.0</td>\n",
              "      <td>-6.368565</td>\n",
              "      <td>2.797029</td>\n",
              "      <td>-29.340000</td>\n",
              "      <td>-7.8150</td>\n",
              "      <td>-5.818000</td>\n",
              "      <td>-4.4230</td>\n",
              "      <td>0.120</td>\n",
              "    </tr>\n",
              "    <tr>\n",
              "      <th>mode</th>\n",
              "      <td>7961.0</td>\n",
              "      <td>0.890717</td>\n",
              "      <td>0.312013</td>\n",
              "      <td>0.000000</td>\n",
              "      <td>1.0000</td>\n",
              "      <td>1.000000</td>\n",
              "      <td>1.0000</td>\n",
              "      <td>1.000</td>\n",
              "    </tr>\n",
              "    <tr>\n",
              "      <th>speechiness</th>\n",
              "      <td>7961.0</td>\n",
              "      <td>0.055411</td>\n",
              "      <td>0.057107</td>\n",
              "      <td>0.022900</td>\n",
              "      <td>0.0307</td>\n",
              "      <td>0.037800</td>\n",
              "      <td>0.0554</td>\n",
              "      <td>0.948</td>\n",
              "    </tr>\n",
              "    <tr>\n",
              "      <th>acousticness</th>\n",
              "      <td>7961.0</td>\n",
              "      <td>0.457820</td>\n",
              "      <td>0.237158</td>\n",
              "      <td>0.000033</td>\n",
              "      <td>0.2650</td>\n",
              "      <td>0.462000</td>\n",
              "      <td>0.6490</td>\n",
              "      <td>0.996</td>\n",
              "    </tr>\n",
              "    <tr>\n",
              "      <th>instrumentalness</th>\n",
              "      <td>7961.0</td>\n",
              "      <td>0.006919</td>\n",
              "      <td>0.071758</td>\n",
              "      <td>0.000000</td>\n",
              "      <td>0.0000</td>\n",
              "      <td>0.000000</td>\n",
              "      <td>0.0000</td>\n",
              "      <td>0.960</td>\n",
              "    </tr>\n",
              "    <tr>\n",
              "      <th>liveness</th>\n",
              "      <td>7961.0</td>\n",
              "      <td>0.359221</td>\n",
              "      <td>0.284985</td>\n",
              "      <td>0.019700</td>\n",
              "      <td>0.1260</td>\n",
              "      <td>0.255000</td>\n",
              "      <td>0.5390</td>\n",
              "      <td>1.000</td>\n",
              "    </tr>\n",
              "    <tr>\n",
              "      <th>valence</th>\n",
              "      <td>7961.0</td>\n",
              "      <td>0.650172</td>\n",
              "      <td>0.209654</td>\n",
              "      <td>0.037800</td>\n",
              "      <td>0.4980</td>\n",
              "      <td>0.662000</td>\n",
              "      <td>0.8270</td>\n",
              "      <td>0.996</td>\n",
              "    </tr>\n",
              "    <tr>\n",
              "      <th>tempo</th>\n",
              "      <td>7961.0</td>\n",
              "      <td>123.580724</td>\n",
              "      <td>29.547913</td>\n",
              "      <td>43.401000</td>\n",
              "      <td>100.5850</td>\n",
              "      <td>120.329000</td>\n",
              "      <td>141.9690</td>\n",
              "      <td>211.600</td>\n",
              "    </tr>\n",
              "    <tr>\n",
              "      <th>duration_ms</th>\n",
              "      <td>7961.0</td>\n",
              "      <td>202283.504962</td>\n",
              "      <td>49869.860942</td>\n",
              "      <td>24033.000000</td>\n",
              "      <td>172453.0000</td>\n",
              "      <td>194973.000000</td>\n",
              "      <td>223507.0000</td>\n",
              "      <td>1007893.000</td>\n",
              "    </tr>\n",
              "    <tr>\n",
              "      <th>time_signature</th>\n",
              "      <td>7961.0</td>\n",
              "      <td>3.854541</td>\n",
              "      <td>0.409000</td>\n",
              "      <td>1.000000</td>\n",
              "      <td>4.0000</td>\n",
              "      <td>4.000000</td>\n",
              "      <td>4.0000</td>\n",
              "      <td>5.000</td>\n",
              "    </tr>\n",
              "  </tbody>\n",
              "</table>\n",
              "</div>"
            ],
            "text/plain": [
              "                   count           mean  ...          75%          max\n",
              "danceability      7961.0       0.609651  ...       0.7010        0.941\n",
              "energy            7961.0       0.666014  ...       0.8350        0.998\n",
              "key               7961.0       5.313905  ...       9.0000       11.000\n",
              "loudness          7961.0      -6.368565  ...      -4.4230        0.120\n",
              "mode              7961.0       0.890717  ...       1.0000        1.000\n",
              "speechiness       7961.0       0.055411  ...       0.0554        0.948\n",
              "acousticness      7961.0       0.457820  ...       0.6490        0.996\n",
              "instrumentalness  7961.0       0.006919  ...       0.0000        0.960\n",
              "liveness          7961.0       0.359221  ...       0.5390        1.000\n",
              "valence           7961.0       0.650172  ...       0.8270        0.996\n",
              "tempo             7961.0     123.580724  ...     141.9690      211.600\n",
              "duration_ms       7961.0  202283.504962  ...  223507.0000  1007893.000\n",
              "time_signature    7961.0       3.854541  ...       4.0000        5.000\n",
              "\n",
              "[13 rows x 8 columns]"
            ]
          },
          "metadata": {
            "tags": []
          },
          "execution_count": 5
        }
      ]
    },
    {
      "cell_type": "markdown",
      "metadata": {
        "id": "LTQVasrPCD22"
      },
      "source": [
        "Vamos extrair alguns insights destas tabelas:\r\n",
        "- Rock possui as músicas com maior energia, em média;\r\n",
        "- Há mais faixas acústicas em samba e sertanejo do que em rock;\r\n",
        "- Samba, em geral possui um tempo menor que sertanejo e rock;\r\n",
        "- Há mais faixas de samba e sertanejo que foram gravadas ao vivo do que rock;\r\n",
        "- Em geral, samba é o gênero que mais passa positividade;\r\n"
      ]
    },
    {
      "cell_type": "code",
      "metadata": {
        "colab": {
          "base_uri": "https://localhost:8080/",
          "height": 167
        },
        "id": "BdmGJgCqolhW",
        "outputId": "1209c913-6549-4f9d-f2a5-06ba3dbebd4b"
      },
      "source": [
        "data.describe(exclude=[np.number]).T"
      ],
      "execution_count": 6,
      "outputs": [
        {
          "output_type": "execute_result",
          "data": {
            "text/html": [
              "<div>\n",
              "<style scoped>\n",
              "    .dataframe tbody tr th:only-of-type {\n",
              "        vertical-align: middle;\n",
              "    }\n",
              "\n",
              "    .dataframe tbody tr th {\n",
              "        vertical-align: top;\n",
              "    }\n",
              "\n",
              "    .dataframe thead th {\n",
              "        text-align: right;\n",
              "    }\n",
              "</style>\n",
              "<table border=\"1\" class=\"dataframe\">\n",
              "  <thead>\n",
              "    <tr style=\"text-align: right;\">\n",
              "      <th></th>\n",
              "      <th>count</th>\n",
              "      <th>unique</th>\n",
              "      <th>top</th>\n",
              "      <th>freq</th>\n",
              "    </tr>\n",
              "  </thead>\n",
              "  <tbody>\n",
              "    <tr>\n",
              "      <th>SName</th>\n",
              "      <td>17280</td>\n",
              "      <td>16403</td>\n",
              "      <td>Perdoa</td>\n",
              "      <td>5</td>\n",
              "    </tr>\n",
              "    <tr>\n",
              "      <th>Artist</th>\n",
              "      <td>17280</td>\n",
              "      <td>211</td>\n",
              "      <td>Teodoro e Sampaio</td>\n",
              "      <td>303</td>\n",
              "    </tr>\n",
              "    <tr>\n",
              "      <th>Genre</th>\n",
              "      <td>17280</td>\n",
              "      <td>3</td>\n",
              "      <td>Sertanejo</td>\n",
              "      <td>7961</td>\n",
              "    </tr>\n",
              "    <tr>\n",
              "      <th>uri</th>\n",
              "      <td>17280</td>\n",
              "      <td>16654</td>\n",
              "      <td>spotify:track:2aFb5cOmIeq7EugDh46Peg</td>\n",
              "      <td>7</td>\n",
              "    </tr>\n",
              "  </tbody>\n",
              "</table>\n",
              "</div>"
            ],
            "text/plain": [
              "        count unique                                   top  freq\n",
              "SName   17280  16403                                Perdoa     5\n",
              "Artist  17280    211                     Teodoro e Sampaio   303\n",
              "Genre   17280      3                             Sertanejo  7961\n",
              "uri     17280  16654  spotify:track:2aFb5cOmIeq7EugDh46Peg     7"
            ]
          },
          "metadata": {
            "tags": []
          },
          "execution_count": 6
        }
      ]
    },
    {
      "cell_type": "markdown",
      "metadata": {
        "id": "WHncEnvTpt-7"
      },
      "source": [
        "### Correlação entre variáveis"
      ]
    },
    {
      "cell_type": "code",
      "metadata": {
        "colab": {
          "base_uri": "https://localhost:8080/",
          "height": 406
        },
        "id": "TKAzrkS6qjho",
        "outputId": "9bf7a0f7-6ef5-4a33-f4ab-a3f967138944"
      },
      "source": [
        "from matplotlib import pyplot as plt\r\n",
        "\r\n",
        "numerical_variables = data.select_dtypes(np.number)\r\n",
        "plt.figure(figsize=(10,5))\r\n",
        "plt.matshow(numerical_variables.corr(), fignum=1, cmap='coolwarm')\r\n",
        "\r\n",
        "plt.xticks(range(numerical_variables.shape[1]), numerical_variables.columns, rotation=90)\r\n",
        "plt.yticks(range(numerical_variables.shape[1]), numerical_variables.columns)\r\n",
        "plt.colorbar()\r\n",
        "plt.show()"
      ],
      "execution_count": 7,
      "outputs": [
        {
          "output_type": "display_data",
          "data": {
            "image/png": "[encoded data removed]",
            "text/plain": [
              "<Figure size 720x360 with 2 Axes>"
            ]
          },
          "metadata": {
            "tags": [],
            "needs_background": "light"
          }
        }
      ]
    },
    {
      "cell_type": "markdown",
      "metadata": {
        "id": "FDbKm0SOW-XD"
      },
      "source": [
        "Observando a matriz de correlação acima, podemos identificar dois pares cuja correlação se diferencia da dos demais:\r\n",
        "- acousticness e energy;\r\n",
        "- loudness e energy.\r\n",
        "\r\n",
        "O primeiro par possui uma correlação de aproximadamente -0.5, considerada média, enquanto que o segundo apresenta aproximadamente 0.7, que em algumas literaturas, ja pode ser considerada forte. "
      ]
    },
    {
      "cell_type": "code",
      "metadata": {
        "colab": {
          "base_uri": "https://localhost:8080/"
        },
        "id": "ewmuQdUGsWuz",
        "outputId": "65029785-dcfd-4c8e-fbd6-d162c2728420"
      },
      "source": [
        "corr_1 = data[['energy', 'loudness']].corr()['energy']['loudness']\r\n",
        "corr_2 = data[['energy', 'acousticness']].corr()['energy']['acousticness']\r\n",
        "\r\n",
        "print(f'Correlação entre \\'energy\\' e \\'loudness\\': {corr_1}')\r\n",
        "print(f'Correlação entre \\'energy\\' e \\'acousticness\\': {corr_2}')"
      ],
      "execution_count": 12,
      "outputs": [
        {
          "output_type": "stream",
          "text": [
            "Correlação entre 'energy' e 'loudness': 0.6717679714017497\n",
            "Correlação entre 'energy' e 'acousticness': -0.5157705605433102\n"
          ],
          "name": "stdout"
        }
      ]
    },
    {
      "cell_type": "markdown",
      "metadata": {
        "id": "B5Ol4qOBMNAe"
      },
      "source": [
        "Quando há ocorrências de correlação forte entre pares, a ação mais tomada é eliminar uma das variáveis, a fim de retirar redundâncias que podem afetar negativamente o desempenho dos modelos. Neste artigo, para fins didáticos, iremos manter os dois pares.\r\n",
        "\r\n",
        "É necessário observar que as variáveis categóricas não estão presentes na matriz. Isso se dá ao fato de que não é possível obter correlações de variáveis desse tipo."
      ]
    },
    {
      "cell_type": "markdown",
      "metadata": {
        "id": "ruHNPFwU0cvn"
      },
      "source": [
        "### Distribuição das classes\r\n",
        "\r\n",
        "Observe o gráfico abaixo."
      ]
    },
    {
      "cell_type": "code",
      "metadata": {
        "colab": {
          "base_uri": "https://localhost:8080/",
          "height": 350
        },
        "id": "xby_zABU0bSs",
        "outputId": "fbdb77c4-bc38-473a-9abd-bef1ce04750d"
      },
      "source": [
        "classes = data['Genre'].value_counts()\r\n",
        "\r\n",
        "plt.figure(figsize=(7,5))\r\n",
        "plt.bar(classes.index, classes, zorder=3, edgecolor='black')\r\n",
        "plt.title('Distribuição da variável \\'Genre\\'')\r\n",
        "plt.xlabel('Classe')\r\n",
        "plt.ylabel('Frequencia')\r\n",
        "plt.grid()\r\n",
        "plt.show()"
      ],
      "execution_count": 13,
      "outputs": [
        {
          "output_type": "display_data",
          "data": {
            "image/png": "[encoded data removed]",
            "text/plain": [
              "<Figure size 504x360 with 1 Axes>"
            ]
          },
          "metadata": {
            "tags": [],
            "needs_background": "light"
          }
        }
      ]
    },
    {
      "cell_type": "markdown",
      "metadata": {
        "id": "vdtapPqm2ZOb"
      },
      "source": [
        "Claramente é possível perceber que há um desbalancemanto entre as classes do conjunto. Há quase o dobro de músicas com o gênero Sertanejo em relação ao Rock. Para solucionar este problema, utilizaremos **undersampling**, ou seja, diminuir o número de amostras de outras classes, a fim de tornar a distribuição das classes mais equilibrada. Neste artigo, as classes terão o mesmo número de amostras."
      ]
    },
    {
      "cell_type": "code",
      "metadata": {
        "id": "5eadOCEu2b6Z"
      },
      "source": [
        "n_samples = int(len(data[data['Genre'] == 'Rock']))\r\n",
        "balanced = pd.concat([data[data['Genre'] == 'Rock'], \r\n",
        "                      data[data['Genre'] == 'Samba'].sample(n_samples),\r\n",
        "                      data[data['Genre'] == 'Sertanejo'].sample(n_samples)], \r\n",
        "                     ignore_index=True).reset_index(drop=True)"
      ],
      "execution_count": 14,
      "outputs": []
    },
    {
      "cell_type": "code",
      "metadata": {
        "colab": {
          "base_uri": "https://localhost:8080/",
          "height": 350
        },
        "id": "yEoAat3B2bz-",
        "outputId": "7177050e-52c4-46a3-8d2e-a8fac90dbafe"
      },
      "source": [
        "classes = balanced['Genre'].value_counts()\r\n",
        "\r\n",
        "plt.figure(figsize=(7,5))\r\n",
        "plt.bar(classes.index, classes, zorder=3, edgecolor='black')\r\n",
        "plt.title('Distribuição da variável \\'Genre\\'')\r\n",
        "plt.xlabel('Classe')\r\n",
        "plt.ylabel('Frequencia')\r\n",
        "plt.grid()\r\n",
        "plt.show()"
      ],
      "execution_count": 15,
      "outputs": [
        {
          "output_type": "display_data",
          "data": {
            "image/png": "[encoded data removed]",
            "text/plain": [
              "<Figure size 504x360 with 1 Axes>"
            ]
          },
          "metadata": {
            "tags": [],
            "needs_background": "light"
          }
        }
      ]
    },
    {
      "cell_type": "markdown",
      "metadata": {
        "id": "C3VQvrt6YjKi"
      },
      "source": [
        "## Pré-processamento\r\n",
        "\r\n",
        "Nesta fase, iremos preparar o conjunto de dados para que ele seja usado pelos modelos."
      ]
    },
    {
      "cell_type": "markdown",
      "metadata": {
        "id": "vwpCr0USYst-"
      },
      "source": [
        "### Variáveis irrelevantes\r\n",
        "\r\n",
        "Em alguns conjuntos de dados existem variáveis que facilmente podemos descrever como irrelevantes, pois não trazem informação util ao modelo. No conjunto deste artigo, podemos identificar a variável 'uri'. Ela simplesmente será removida do conjunto."
      ]
    },
    {
      "cell_type": "code",
      "metadata": {
        "id": "GpQtn1vTmtsb"
      },
      "source": [
        "balanced.drop('uri', inplace = True, axis = 1)"
      ],
      "execution_count": 16,
      "outputs": []
    },
    {
      "cell_type": "markdown",
      "metadata": {
        "id": "l4CLeOETYXJg"
      },
      "source": [
        "### Encoding\r\n",
        "\r\n",
        "Encoding é o processo de transformar variáveis categóricas em numéricas. Ainda temos 3 variáveis categóricas no conjunto: 'SName', 'Artist' e 'Genre'. Antes de realizar qualquer ação, devemos atentar para as seguintes situações.\r\n",
        "\r\n",
        "A variável 'SName' apresenta uma grande cardinalidade, que é bastante próxima ao número de amostras do conjunto. Realizar encoding nesta variável iria trazer mais prejuízos do que benefícios, pois iriam ser criadas muitas variáveis extras tornando o modelo excessivamente complexo e com tempo de treino alto demais, portanto ela será removida do conjunto.\r\n",
        "\r\n",
        "O caso da variável 'Artist' é similar. Há uma grande quantidade de valores únicos na variável. É possível aplicar a técnica de **one-hot encoding**, onde cada valor único desta variável se tornaria uma nova variável binária no conjunto, mas, como dito anteriormente, muitas variáveis novas seriam criadas, e isto afetaria negativamente o modelo. Existem técnicas mais avançadas de encoding, como a criação de **word embeddings**. O objetivo deste artigo é apresentar uma solução que equilibre rapidez e simplicidade, portanto, não será aplicado encoding nesta variável e ela será simplesmente removida."
      ]
    },
    {
      "cell_type": "code",
      "metadata": {
        "id": "R_CFpgc7yAFw"
      },
      "source": [
        "balanced.drop(['SName', 'Artist'], inplace = True, axis = 1)"
      ],
      "execution_count": 17,
      "outputs": []
    },
    {
      "cell_type": "markdown",
      "metadata": {
        "id": "2JGCUGDQDemp"
      },
      "source": [
        "A última variável categórica restante é 'Genre', que é justamente o nosso alvo. A grande maioria dos modelos ja implementados da biblioteca scikit-learn aplica **label encoding** nas variáveis alvo, ou seja, cada ocorrência de um valor é trocado por um número inteiro. Logo, não há necessidade de transformar a variável, por enquanto.\r\n",
        "\r\n",
        "No fim das contas, o conjunto não sofreu tantas mudanças."
      ]
    },
    {
      "cell_type": "code",
      "metadata": {
        "colab": {
          "base_uri": "https://localhost:8080/",
          "height": 217
        },
        "id": "zCzCtjTazRSU",
        "outputId": "c91b6b0d-d5c3-418e-b882-71219802aef8"
      },
      "source": [
        "balanced.head(5)"
      ],
      "execution_count": 18,
      "outputs": [
        {
          "output_type": "execute_result",
          "data": {
            "text/html": [
              "<div>\n",
              "<style scoped>\n",
              "    .dataframe tbody tr th:only-of-type {\n",
              "        vertical-align: middle;\n",
              "    }\n",
              "\n",
              "    .dataframe tbody tr th {\n",
              "        vertical-align: top;\n",
              "    }\n",
              "\n",
              "    .dataframe thead th {\n",
              "        text-align: right;\n",
              "    }\n",
              "</style>\n",
              "<table border=\"1\" class=\"dataframe\">\n",
              "  <thead>\n",
              "    <tr style=\"text-align: right;\">\n",
              "      <th></th>\n",
              "      <th>Genre</th>\n",
              "      <th>danceability</th>\n",
              "      <th>energy</th>\n",
              "      <th>key</th>\n",
              "      <th>loudness</th>\n",
              "      <th>mode</th>\n",
              "      <th>speechiness</th>\n",
              "      <th>acousticness</th>\n",
              "      <th>instrumentalness</th>\n",
              "      <th>liveness</th>\n",
              "      <th>valence</th>\n",
              "      <th>tempo</th>\n",
              "      <th>duration_ms</th>\n",
              "      <th>time_signature</th>\n",
              "    </tr>\n",
              "  </thead>\n",
              "  <tbody>\n",
              "    <tr>\n",
              "      <th>0</th>\n",
              "      <td>Rock</td>\n",
              "      <td>0.540000</td>\n",
              "      <td>0.935</td>\n",
              "      <td>1.0</td>\n",
              "      <td>-5.132000</td>\n",
              "      <td>0.0</td>\n",
              "      <td>0.0569</td>\n",
              "      <td>0.002869</td>\n",
              "      <td>0.000000</td>\n",
              "      <td>0.2910</td>\n",
              "      <td>0.457999</td>\n",
              "      <td>120.052000</td>\n",
              "      <td>185520</td>\n",
              "      <td>4</td>\n",
              "    </tr>\n",
              "    <tr>\n",
              "      <th>1</th>\n",
              "      <td>Rock</td>\n",
              "      <td>0.462999</td>\n",
              "      <td>0.764</td>\n",
              "      <td>8.0</td>\n",
              "      <td>-4.123999</td>\n",
              "      <td>1.0</td>\n",
              "      <td>0.0791</td>\n",
              "      <td>0.078100</td>\n",
              "      <td>0.000000</td>\n",
              "      <td>0.1130</td>\n",
              "      <td>0.450000</td>\n",
              "      <td>169.619000</td>\n",
              "      <td>184747</td>\n",
              "      <td>4</td>\n",
              "    </tr>\n",
              "    <tr>\n",
              "      <th>2</th>\n",
              "      <td>Rock</td>\n",
              "      <td>0.632000</td>\n",
              "      <td>0.582</td>\n",
              "      <td>10.0</td>\n",
              "      <td>-5.941000</td>\n",
              "      <td>0.0</td>\n",
              "      <td>0.0298</td>\n",
              "      <td>0.257000</td>\n",
              "      <td>0.000000</td>\n",
              "      <td>0.1190</td>\n",
              "      <td>0.711000</td>\n",
              "      <td>116.902999</td>\n",
              "      <td>157533</td>\n",
              "      <td>4</td>\n",
              "    </tr>\n",
              "    <tr>\n",
              "      <th>3</th>\n",
              "      <td>Rock</td>\n",
              "      <td>0.598000</td>\n",
              "      <td>0.545</td>\n",
              "      <td>0.0</td>\n",
              "      <td>-7.996000</td>\n",
              "      <td>0.0</td>\n",
              "      <td>0.0251</td>\n",
              "      <td>0.550000</td>\n",
              "      <td>0.000172</td>\n",
              "      <td>0.1110</td>\n",
              "      <td>0.414000</td>\n",
              "      <td>104.026000</td>\n",
              "      <td>173640</td>\n",
              "      <td>4</td>\n",
              "    </tr>\n",
              "    <tr>\n",
              "      <th>4</th>\n",
              "      <td>Rock</td>\n",
              "      <td>0.617000</td>\n",
              "      <td>0.664</td>\n",
              "      <td>7.0</td>\n",
              "      <td>-6.489000</td>\n",
              "      <td>0.0</td>\n",
              "      <td>0.0279</td>\n",
              "      <td>0.058300</td>\n",
              "      <td>0.000000</td>\n",
              "      <td>0.0795</td>\n",
              "      <td>0.770999</td>\n",
              "      <td>80.068000</td>\n",
              "      <td>159120</td>\n",
              "      <td>4</td>\n",
              "    </tr>\n",
              "  </tbody>\n",
              "</table>\n",
              "</div>"
            ],
            "text/plain": [
              "  Genre  danceability  energy  ...       tempo  duration_ms  time_signature\n",
              "0  Rock      0.540000   0.935  ...  120.052000       185520               4\n",
              "1  Rock      0.462999   0.764  ...  169.619000       184747               4\n",
              "2  Rock      0.632000   0.582  ...  116.902999       157533               4\n",
              "3  Rock      0.598000   0.545  ...  104.026000       173640               4\n",
              "4  Rock      0.617000   0.664  ...   80.068000       159120               4\n",
              "\n",
              "[5 rows x 14 columns]"
            ]
          },
          "metadata": {
            "tags": []
          },
          "execution_count": 18
        }
      ]
    },
    {
      "cell_type": "markdown",
      "metadata": {
        "id": "o-cSBmSGakol"
      },
      "source": [
        "## Modelagem\r\n",
        "\r\n",
        "Nesta fase, iremos utilizar o conjunto tratado e aplicá-los em modelos."
      ]
    },
    {
      "cell_type": "markdown",
      "metadata": {
        "id": "kBOkv23bfnt5"
      },
      "source": [
        "Antes de começarmos, a função abaixo irá nos ajudar a obter métricas para avaliação dos modelos."
      ]
    },
    {
      "cell_type": "code",
      "metadata": {
        "id": "2MyGixMIbxmX"
      },
      "source": [
        "from sklearn.metrics import f1_score, accuracy_score, precision_score, recall_score\r\n",
        "\r\n",
        "def get_metrics(y_true, y_pred):\r\n",
        "  accuracy = accuracy_score(y_true, y_pred)\r\n",
        "  precision = precision_score(y_true, y_pred, average='macro', zero_division=0)\r\n",
        "  recall = recall_score(y_true, y_pred, average='macro', zero_division=0)\r\n",
        "  f1 = f1_score(y_true, y_pred, average='macro', zero_division=0)\r\n",
        "\r\n",
        "  print(f'Acurácia: {accuracy}')\r\n",
        "  print(f'Precisão: {precision}')\r\n",
        "  print(f'Recall: {recall}')\r\n",
        "  print(f'F1: {f1}')"
      ],
      "execution_count": 19,
      "outputs": []
    },
    {
      "cell_type": "markdown",
      "metadata": {
        "id": "PRSqzOqdF65J"
      },
      "source": [
        "E aqui, vamos dividir o conjunto em treino e teste."
      ]
    },
    {
      "cell_type": "code",
      "metadata": {
        "id": "ayQDjX_ucPic"
      },
      "source": [
        "from sklearn.model_selection import train_test_split\r\n",
        "\r\n",
        "X = balanced.drop('Genre', axis=1)\r\n",
        "y = balanced['Genre']\r\n",
        "\r\n",
        "X_train, X_test, y_train, y_test = train_test_split(X, y, test_size=0.2, random_state = 42)"
      ],
      "execution_count": 20,
      "outputs": []
    },
    {
      "cell_type": "markdown",
      "metadata": {
        "id": "GwcMRL9ThCQv"
      },
      "source": [
        "### Validação cruzada"
      ]
    },
    {
      "cell_type": "markdown",
      "metadata": {
        "id": "BtaaE7wSGEue"
      },
      "source": [
        "Validação cruzada é uma ótima maneira de testar a capacidade de generalização do modelo. Esta técnica consiste treinar modelos com várias partições diferentes do conjunto de dados. Existem várias maneiras de realizar este processo, sendo as mais populares, **leave-one-out**, **hold-out** e **k-fold** que será utilizada neste artigo.\r\n",
        "\r\n",
        "A validação k-fold simplesmente divide o conjunto em k partições, utiliza uma delas para teste e as outras k-1 serão utilizadas para treino. Este processo se repete k vezes, de modo que cada partição seja utilizada para teste uma vez.\r\n",
        "\r\n",
        "Por hora, vamos instanciar a classe ```StratifiedKFold``` da bilbioteca scikit-learn e deixar os preparativos feitos."
      ]
    },
    {
      "cell_type": "code",
      "metadata": {
        "id": "QiHn2DIQb3gd"
      },
      "source": [
        "from sklearn.model_selection import StratifiedKFold\r\n",
        "n_folds = 10\r\n",
        "k_fold = StratifiedKFold(n_folds)"
      ],
      "execution_count": 21,
      "outputs": []
    },
    {
      "cell_type": "markdown",
      "metadata": {
        "id": "UpIL06Kzkxxd"
      },
      "source": [
        "### Feature scaling\r\n",
        "\r\n",
        "É muito comum em projetos de ciência de dados em geral, que o escalonamento de dados seja feito antes da divisão do conjunto em treino e teste. Isso pode acarretar em efeitos indesejados. Quando o escalonamento é feito antes da divisão, parte da informação da divisão de teste do conjunto de dados é passada para a divisão de treino, causando o chamado **vazamento de dados**.\r\n",
        "\r\n",
        "Para evitar este problema, os dados são depois da dvisão do conjunto de dados. Aqui escolhemos a normalização como método, onde cada valor de uma variável é divido pelo valor máximo que ela assumiu, a fim de de que os dados passem a pertencer a um intervalo entre 0 e 1."
      ]
    },
    {
      "cell_type": "code",
      "metadata": {
        "id": "rDY_J9CHdjJz"
      },
      "source": [
        "from sklearn.preprocessing import MinMaxScaler\r\n",
        "\r\n",
        "scaler = MinMaxScaler()\r\n",
        "scaler.fit(X_train)\r\n",
        "norm_X_train = scaler.transform(X_train)\r\n",
        "norm_X_test = scaler.transform(X_test)"
      ],
      "execution_count": 26,
      "outputs": []
    },
    {
      "cell_type": "markdown",
      "metadata": {
        "id": "6hcR0cZ3bgrV"
      },
      "source": [
        "### Regressão Logística\n",
        "A regressão logística utiliza uma função sigmoide para determinar a probabilidade de uma entrada do conjunto de dados pertencer a determinada classe. A implementação da regressão logística da bilbioteca **scikit-learn** utiliza regularização L2 por padrão. Portanto, vamos testar diferentes valores de C que irão dosar a força de regularização e, ao mesmo tempo, empregar validação cruzada. Note que os dados são normalizados a cada divisão da validação."
      ]
    },
    {
      "cell_type": "code",
      "metadata": {
        "id": "5npfEpAgbfS2"
      },
      "source": [
        "from sklearn.linear_model import LogisticRegression\r\n",
        "from sklearn.preprocessing import MinMaxScaler\r\n",
        "\r\n",
        "scaler = MinMaxScaler()\r\n",
        "\r\n",
        "logreg_C = [1e-4, 1e-3, 1e-2, 1e-1, 1]\r\n",
        "best_c = logreg_C[0]\r\n",
        "best_score, best_accuracy, best_precision, best_recall = 0, 0, 0, 0\r\n",
        "avg_scores = []\r\n",
        "\r\n",
        "for c in logreg_C:\r\n",
        "    score = 0\r\n",
        "    accuracy = 0\r\n",
        "    recall = 0\r\n",
        "    precision = 0\r\n",
        "    for train_index, valid_index in k_fold.split(X_train, y_train):\r\n",
        "        X_train_fold, X_valid_fold = X_train.iloc[train_index], X_train.iloc[valid_index]\r\n",
        "        y_train_fold, y_valid_fold = y_train.iloc[train_index], y_train.iloc[valid_index]\r\n",
        "\r\n",
        "        scaler.fit(X_train)\r\n",
        "        norm_X_train_fold = scaler.transform(X_train_fold)\r\n",
        "        norm_X_valid_fold = scaler.transform(X_valid_fold)\r\n",
        "\r\n",
        "        model = LogisticRegression(C=c, random_state=42, class_weight='balanced', max_iter=1000)\r\n",
        "        model.fit(norm_X_train_fold, y_train_fold)\r\n",
        "        pred = model.predict(norm_X_valid_fold)\r\n",
        "\r\n",
        "        score += f1_score(y_valid_fold, pred, average='macro')\r\n",
        "        accuracy += accuracy_score(y_valid_fold, pred)\r\n",
        "        recall += recall_score(y_valid_fold, pred, average='macro')\r\n",
        "        precision += precision_score(y_valid_fold, pred, average='macro', zero_division=0)\r\n",
        "\r\n",
        "    score = score / n_folds # média\r\n",
        "    avg_scores.append(score)  \r\n",
        "\r\n",
        "    accuracy = accuracy / n_folds\r\n",
        "    recall = recall / n_folds\r\n",
        "    precision = precision / n_folds\r\n",
        "\r\n",
        "    if (score > best_score):\r\n",
        "        best_score = score\r\n",
        "        best_accuracy = accuracy\r\n",
        "        best_recall = recall\r\n",
        "        best_precision = precision\r\n",
        "        best_c = c"
      ],
      "execution_count": 23,
      "outputs": []
    },
    {
      "cell_type": "markdown",
      "metadata": {
        "id": "uY1fiMC32ifz"
      },
      "source": [
        "Vejamos agora as métricas obtidas na validação cruzada."
      ]
    },
    {
      "cell_type": "code",
      "metadata": {
        "colab": {
          "base_uri": "https://localhost:8080/"
        },
        "id": "lPosQ98xjopM",
        "outputId": "ff704fcf-0373-4581-83fd-23a4f3fa3a6e"
      },
      "source": [
        "print(f'Melhor C: {best_c}')\r\n",
        "print(f'Acurácia: {best_accuracy}')\r\n",
        "print(f'Precisão: {best_precision}')\r\n",
        "print(f'Recall: {best_recall}')\r\n",
        "print(f'F1: {best_score}')"
      ],
      "execution_count": 24,
      "outputs": [
        {
          "output_type": "stream",
          "text": [
            "Melhor C: 1\n",
            "Acurácia: 0.7148249391499719\n",
            "Precisão: 0.7151931538290879\n",
            "Recall: 0.7148560099575899\n",
            "F1: 0.7146608495974688\n"
          ],
          "name": "stdout"
        }
      ]
    },
    {
      "cell_type": "markdown",
      "metadata": {
        "id": "Hogse3Ti2yni"
      },
      "source": [
        "E agora, vejamos como o modelo se sai com dados novos."
      ]
    },
    {
      "cell_type": "code",
      "metadata": {
        "colab": {
          "base_uri": "https://localhost:8080/"
        },
        "id": "elyruNEDUd39",
        "outputId": "d333e951-8321-435a-82ed-e54e0a68dbb6"
      },
      "source": [
        "model = LogisticRegression(C=best_c, random_state=42, class_weight='balanced', max_iter=1000)\r\n",
        "model.fit(norm_X_train, y_train)\r\n",
        "y_pred = model.predict(norm_X_test)\r\n",
        "\r\n",
        "get_metrics(y_test, y_pred)"
      ],
      "execution_count": 27,
      "outputs": [
        {
          "output_type": "stream",
          "text": [
            "Acurácia: 0.7123623011015912\n",
            "Precisão: 0.7127480498356884\n",
            "Recall: 0.7122761857620801\n",
            "F1: 0.7122258098991022\n"
          ],
          "name": "stdout"
        }
      ]
    },
    {
      "cell_type": "markdown",
      "metadata": {
        "id": "7RECqzBT4lVD"
      },
      "source": [
        "Observe também como C influencia nos resultados, especificamente, no valor de F1."
      ]
    },
    {
      "cell_type": "code",
      "metadata": {
        "colab": {
          "base_uri": "https://localhost:8080/",
          "height": 407
        },
        "id": "sxDKOPht4kC6",
        "outputId": "1f9b158e-3d0a-4318-9d5d-533cedb88566"
      },
      "source": [
        "plt.figure(figsize=(8,6))\r\n",
        "plt.plot(logreg_C, avg_scores, '-o')\r\n",
        "plt.title('Visualizando relação entre regularização e F1-Score')\r\n",
        "plt.xlabel('C')\r\n",
        "plt.ylabel('F1-Score')\r\n",
        "plt.xscale('log')\r\n",
        "plt.grid()  \r\n",
        "plt.show()"
      ],
      "execution_count": 28,
      "outputs": [
        {
          "output_type": "display_data",
          "data": {
            "image/png": "[encoded data removed]",
            "text/plain": [
              "<Figure size 576x432 with 1 Axes>"
            ]
          },
          "metadata": {
            "tags": [],
            "needs_background": "light"
          }
        }
      ]
    },
    {
      "cell_type": "markdown",
      "metadata": {
        "id": "aH0G1hCYfclp"
      },
      "source": [
        "Pelos resultados mostrados, observamos que a regressão logística apresentou valores semelhantes nas métricas avaliadas. Dado que os valores das variáveis das 3 classes são relativamente próximos, como visto na seção de exploração dos dados, podemos dizer que os resultados são satisfatórios."
      ]
    },
    {
      "cell_type": "markdown",
      "metadata": {
        "id": "5HQ50_DfgKy0"
      },
      "source": [
        "### KNN\r\n",
        "\r\n",
        "K-Nearest Neighbors ou KNN é um algoritmo que pode ser usado tanto para regressão quanto classificação. Em um determinado plano, onde os dados estão presentes, é escolhido um ponto que representa uma entrada do conjunto de dados. A partir deste ponto, verifica-se as classes dos k vizinhos mais próximos. A classe prevista para este ponto será a que for maioria dentre os k escolhidos.\r\n",
        "\r\n",
        "Para tornar o processo de tuning mais rápido, iremos aplicar **GridSearch** no modelo. GridSearch é um método de otimização hiperparâmetros que, dada uma lista de parâmetros, será realizada uma busca exaustiva na tentativa de achar a melhor combinação de hiperparâmetros de um modelo. A classe ```GridSearchCV``` da biblioteca scikit-learn permite que, além da busca dos hiperparâmetros, também seja feita validação cruzada. Existem outros métodos de otimização, como [busca randomizada](https://scikit-learn.org/stable/modules/generated/sklearn.model_selection.RandomizedSearchCV.html) e [otimização bayesiana](https://scikit-optimize.github.io/stable/modules/generated/skopt.BayesSearchCV.html)."
      ]
    },
    {
      "cell_type": "code",
      "metadata": {
        "colab": {
          "base_uri": "https://localhost:8080/"
        },
        "id": "zg_mcGNQgNdW",
        "outputId": "151a7a2c-8e14-4111-e690-da4f32e352d0"
      },
      "source": [
        "from sklearn.neighbors import KNeighborsClassifier\r\n",
        "from sklearn.model_selection import GridSearchCV\r\n",
        "\r\n",
        "model = KNeighborsClassifier()\r\n",
        "params = {\r\n",
        "    'n_neighbors': list(range(5, 31, 5)),\r\n",
        "    'p': [1, 2],\r\n",
        "    'leaf_size': list(range(10, 51, 10))\r\n",
        "}\r\n",
        "gs = GridSearchCV(model, params, scoring=['accuracy', 'precision_macro', 'recall_macro', 'f1_macro'], cv=n_folds, refit='accuracy')\r\n",
        "gs.fit(norm_X_train, y_train)"
      ],
      "execution_count": 30,
      "outputs": [
        {
          "output_type": "execute_result",
          "data": {
            "text/plain": [
              "GridSearchCV(cv=10, error_score=nan,\n",
              "             estimator=KNeighborsClassifier(algorithm='auto', leaf_size=30,\n",
              "                                            metric='minkowski',\n",
              "                                            metric_params=None, n_jobs=None,\n",
              "                                            n_neighbors=5, p=2,\n",
              "                                            weights='uniform'),\n",
              "             iid='deprecated', n_jobs=None,\n",
              "             param_grid={'leaf_size': [10, 20, 30, 40, 50],\n",
              "                         'n_neighbors': [5, 10, 15, 20, 25, 30], 'p': [1, 2]},\n",
              "             pre_dispatch='2*n_jobs', refit='accuracy',\n",
              "             return_train_score=False,\n",
              "             scoring=['accuracy', 'precision_macro', 'recall_macro',\n",
              "                      'f1_macro'],\n",
              "             verbose=0)"
            ]
          },
          "metadata": {
            "tags": []
          },
          "execution_count": 30
        }
      ]
    },
    {
      "cell_type": "markdown",
      "metadata": {
        "id": "HY9SLxU2PFRN"
      },
      "source": [
        "Feita a busca, é possível resgatar os melhores hiperparâmetros obtidos com a propriedade ```best_params_```."
      ]
    },
    {
      "cell_type": "code",
      "metadata": {
        "colab": {
          "base_uri": "https://localhost:8080/"
        },
        "id": "AFUHU_iWqi5x",
        "outputId": "52b7ba19-68cd-48b2-f676-914bee21ad13"
      },
      "source": [
        "gs.best_params_"
      ],
      "execution_count": 31,
      "outputs": [
        {
          "output_type": "execute_result",
          "data": {
            "text/plain": [
              "{'leaf_size': 10, 'n_neighbors': 25, 'p': 1}"
            ]
          },
          "metadata": {
            "tags": []
          },
          "execution_count": 31
        }
      ]
    },
    {
      "cell_type": "markdown",
      "metadata": {
        "id": "xQxKs-nGPPmp"
      },
      "source": [
        "Finalmente, vamos verificar o desempenho do modelo com dados novos, utilizando os hiperparâmetros obtidos."
      ]
    },
    {
      "cell_type": "code",
      "metadata": {
        "colab": {
          "base_uri": "https://localhost:8080/"
        },
        "id": "sAUCMVEArr1x",
        "outputId": "0322dd64-e048-43a5-bd8a-84829dff68f6"
      },
      "source": [
        "y_pred = gs.predict(norm_X_test)\r\n",
        "get_metrics(y_test, y_pred)"
      ],
      "execution_count": 32,
      "outputs": [
        {
          "output_type": "stream",
          "text": [
            "Acurácia: 0.7172582619339045\n",
            "Precisão: 0.7206383874609172\n",
            "Recall: 0.7173031784896526\n",
            "F1: 0.717687575329284\n"
          ],
          "name": "stdout"
        }
      ]
    },
    {
      "cell_type": "markdown",
      "metadata": {
        "id": "E7jeeauLvIWT"
      },
      "source": [
        "Os resultados obtidos no KNN são um pouco melhores que os da regressão logística. De forma similar todas as métricas assumem valores bem próximos. Em vez de continuar treinando modelos convencionais, vamos tentar uma abordagem diferente e adentrar na aprendizagem profunda utilizando redes neurais."
      ]
    },
    {
      "cell_type": "markdown",
      "metadata": {
        "id": "eT3cMX2czl3E"
      },
      "source": [
        "### Redes Neurais\r\n",
        "\r\n",
        "Uma rede neural tenta emular como o cerebro humano funciona. É formada por várias estruturas interligadas que simulam neurônios e sinapses. \r\n",
        "\r\n",
        "No contexto de redes neurais, um neurônio possui uma ou mais entradas ponderadas, uma função de ativação que irá determinar o valor que o neuron irá emitir e uma ou mais saídas.\r\n",
        "\r\n",
        "Uma rede neural é formada por pelo menos uma camada de entrada, uma camada oculta e uma camada de saída. Na entrada serão recebidos os valores das variáveis do conjunto de dados. Esses valores repassados para as camadas ocultas, onde cada neurônio dessa camada irá fazer uma soma ponderada dos valores e atribuí-la na função de ativação. O resultado da função é repassado para as próximas camadas até chegar na de saída, que representará o resultado da previsão."
      ]
    },
    {
      "cell_type": "markdown",
      "metadata": {
        "id": "Sl0dc3SDqi0v"
      },
      "source": [
        "Redes neurais admitem apenas valores numéricos no conjunto, portanto será aplicado encoding na variável alvo."
      ]
    },
    {
      "cell_type": "code",
      "metadata": {
        "id": "bpZ8ATNn4Eqj"
      },
      "source": [
        "from sklearn.preprocessing import LabelEncoder\r\n",
        "lb = LabelEncoder()\r\n",
        "\r\n",
        "lb_y_train = lb.fit_transform(y_train)\r\n",
        "lb_y_test = lb.fit_transform(y_test)"
      ],
      "execution_count": 33,
      "outputs": []
    },
    {
      "cell_type": "markdown",
      "metadata": {
        "id": "PanK5DKRq-3G"
      },
      "source": [
        "Primeiramente, vamos testar uma rede neural simples com apenas uma camada oculta contendo 6 neurônios."
      ]
    },
    {
      "cell_type": "code",
      "metadata": {
        "colab": {
          "base_uri": "https://localhost:8080/"
        },
        "id": "CWauLiQVzoN4",
        "outputId": "a5bec39b-08bd-4809-8c30-bd4a55a1eebd"
      },
      "source": [
        "from tensorflow.keras import Sequential, layers\r\n",
        "\r\n",
        "model = Sequential()\r\n",
        "model.add(layers.Dense(6, activation='relu'))\r\n",
        "model.add(layers.Dense(3, activation='softmax'))\r\n",
        "\r\n",
        "model.compile(loss='sparse_categorical_crossentropy', optimizer='adam', metrics=['accuracy'])\r\n",
        "model.fit(norm_X_train, lb_y_train, epochs=10, batch_size=10)"
      ],
      "execution_count": 36,
      "outputs": [
        {
          "output_type": "stream",
          "text": [
            "Epoch 1/10\n",
            "981/981 [==============================] - 1s 967us/step - loss: 1.1243 - accuracy: 0.3228\n",
            "Epoch 2/10\n",
            "981/981 [==============================] - 1s 974us/step - loss: 1.0029 - accuracy: 0.5503\n",
            "Epoch 3/10\n",
            "981/981 [==============================] - 1s 940us/step - loss: 0.8712 - accuracy: 0.6522\n",
            "Epoch 4/10\n",
            "981/981 [==============================] - 1s 970us/step - loss: 0.8285 - accuracy: 0.6734\n",
            "Epoch 5/10\n",
            "981/981 [==============================] - 1s 957us/step - loss: 0.8147 - accuracy: 0.6773\n",
            "Epoch 6/10\n",
            "981/981 [==============================] - 1s 963us/step - loss: 0.7839 - accuracy: 0.6892\n",
            "Epoch 7/10\n",
            "981/981 [==============================] - 1s 983us/step - loss: 0.7681 - accuracy: 0.6918\n",
            "Epoch 8/10\n",
            "981/981 [==============================] - 1s 963us/step - loss: 0.7721 - accuracy: 0.6913\n",
            "Epoch 9/10\n",
            "981/981 [==============================] - 1s 961us/step - loss: 0.7550 - accuracy: 0.6999\n",
            "Epoch 10/10\n",
            "981/981 [==============================] - 1s 994us/step - loss: 0.7609 - accuracy: 0.7030\n"
          ],
          "name": "stdout"
        },
        {
          "output_type": "execute_result",
          "data": {
            "text/plain": [
              "<tensorflow.python.keras.callbacks.History at 0x7f3f037c5278>"
            ]
          },
          "metadata": {
            "tags": []
          },
          "execution_count": 36
        }
      ]
    },
    {
      "cell_type": "markdown",
      "metadata": {
        "id": "N-6-FKNK_LAc"
      },
      "source": [
        "Pelos logs apresentados, parece que o modelo se ajustou bem ao conjunto, apresentando uma acurácia um pouco menor que o da regressão logística e do KNN. Vamos ver como ele se sai com dados novos."
      ]
    },
    {
      "cell_type": "code",
      "metadata": {
        "colab": {
          "base_uri": "https://localhost:8080/"
        },
        "id": "qiJTpe6J3C7U",
        "outputId": "03b10fae-a9f7-48f5-dfc6-a5d380c1ca7f"
      },
      "source": [
        "model.evaluate(norm_X_test, lb_y_test)"
      ],
      "execution_count": 37,
      "outputs": [
        {
          "output_type": "stream",
          "text": [
            "77/77 [==============================] - 0s 836us/step - loss: 0.7637 - accuracy: 0.6969\n"
          ],
          "name": "stdout"
        },
        {
          "output_type": "execute_result",
          "data": {
            "text/plain": [
              "[0.7636947631835938, 0.6968584060668945]"
            ]
          },
          "metadata": {
            "tags": []
          },
          "execution_count": 37
        }
      ]
    },
    {
      "cell_type": "code",
      "metadata": {
        "colab": {
          "base_uri": "https://localhost:8080/"
        },
        "id": "39TGD5hCD3Yq",
        "outputId": "bc42f93b-f87f-4bc6-8c86-1cdbbb5b1f9b"
      },
      "source": [
        "from sklearn.metrics import precision_recall_fscore_support\r\n",
        "\r\n",
        "precision_recall_fscore_support(lb_y_test, np.argmax(model.predict(norm_X_test), axis=-1), zero_division=0, average='macro')"
      ],
      "execution_count": 38,
      "outputs": [
        {
          "output_type": "execute_result",
          "data": {
            "text/plain": [
              "(0.7008966884860781, 0.696725915912156, 0.6963728505427415, None)"
            ]
          },
          "metadata": {
            "tags": []
          },
          "execution_count": 38
        }
      ]
    },
    {
      "cell_type": "markdown",
      "metadata": {
        "id": "DQYIf__wBbnB"
      },
      "source": [
        "Do mesmo modo, o modelo tem uma peformance similar com dados novos em relação aos modelos anteriores.\r\n",
        "\r\n",
        "Observe que esta rede neural é demasiadamente simples, com poucos neurônios e apenas uma camada oculta. Vamos criar uma rede neural mais robusta com hiperparâmetros tunados.\r\n",
        "\r\n",
        "Há muitas maneiras de tunar hiperparâmetros de redes neurais. Neste artigo, iremos utilizar algumas ferramentas da biblioteca **kerastunner**. De modo semelhante ao GridSearch e às classes da biblioteca scikit-optimize, kerastunner oferece várias classes que ajudam a tunar redes neurais. Neste artigo iremos utilizar ```Hyperband()``` que funciona de modo semelhante a uma busca randomizada, mas que utiliza parada antecipada para acelerar o processo. Outras classes podem ser conferidas [aqui](https://keras-team.github.io/keras-tuner/documentation/tuners/#tuners).\r\n",
        "\r\n",
        "O trecho ```&> /dev/null``` apenas suprime a saída do console."
      ]
    },
    {
      "cell_type": "code",
      "metadata": {
        "id": "GggbTsvjCiFh"
      },
      "source": [
        "!pip install keras-tuner &> /dev/null\n",
        "import kerastuner"
      ],
      "execution_count": 40,
      "outputs": []
    },
    {
      "cell_type": "markdown",
      "metadata": {
        "id": "oZ0ifryRdwtT"
      },
      "source": [
        "A classe Hyperband tem como um dos parâmetros a chamada de uma função que construa um hipermodelo. Nessa função, foi construído um modelo com três camadas ocultas. Neste artigo, iremos tunar o número de neurônios em cada camada e taxa de aprendizagem do otimizador do modelo. Por meio do método ```Int()``` da classe ```HyperParameters``` podemos selecionar um intervalo de inteiros. De forma similar, o método ```Choice()``` selecionará um valor dentre um conjunto predefinido."
      ]
    },
    {
      "cell_type": "code",
      "metadata": {
        "id": "bNzXgt64O1MO"
      },
      "source": [
        "from tensorflow.keras import optimizers\r\n",
        "from tensorflow.keras import losses\r\n",
        "\r\n",
        "def model_builder(hp):\r\n",
        "  model = Sequential()\r\n",
        "  model.add(layers.Flatten())\r\n",
        "  \r\n",
        "  model.add(layers.Dense(units = hp.Int(name='units_1', min_value=16, max_value=256, step=16),\r\n",
        "                         activation = 'relu'))\r\n",
        "  model.add(layers.Dense(hp.Int('units_2', 16, 256, 16), activation = 'relu'))\r\n",
        "  model.add(layers.Dense(hp.Int('units_3', 16, 256, 16), activation = 'relu'))\r\n",
        "  model.add(layers.Dense(3, activation='softmax'))\r\n",
        "\r\n",
        "  hp_lr = hp.Choice('learning_rate', values=[1e-2, 1e-3, 1e-4])\r\n",
        " \r\n",
        "  model.compile(optimizer = optimizers.Adam(learning_rate=hp_lr),\r\n",
        "                loss = losses.SparseCategoricalCrossentropy(), \r\n",
        "                metrics = ['accuracy'])\r\n",
        "  return model"
      ],
      "execution_count": 41,
      "outputs": []
    },
    {
      "cell_type": "markdown",
      "metadata": {
        "id": "sa4yeLapgOO5"
      },
      "source": [
        "Depois disso, instanciamos a classe Hyperband e iniciamos a busca dos hiperparâmetros."
      ]
    },
    {
      "cell_type": "code",
      "metadata": {
        "colab": {
          "base_uri": "https://localhost:8080/"
        },
        "id": "cLUioYYWx7B9",
        "outputId": "993c9250-28a4-4570-8695-0a6d09f4990a"
      },
      "source": [
        "tuner = kerastuner.Hyperband(model_builder,\r\n",
        "                             objective = 'val_accuracy',\r\n",
        "                             max_epochs = 30,\r\n",
        "                             directory ='my_dir')\r\n",
        "\r\n",
        "tuner.search(norm_X_train, lb_y_train, epochs=30, validation_split=0.2)"
      ],
      "execution_count": 42,
      "outputs": [
        {
          "output_type": "stream",
          "text": [
            "Trial 90 Complete [00h 00m 13s]\n",
            "val_accuracy: 0.7603263854980469\n",
            "\n",
            "Best val_accuracy So Far: 0.7644059062004089\n",
            "Total elapsed time: 00h 05m 57s\n",
            "INFO:tensorflow:Oracle triggered exit\n"
          ],
          "name": "stdout"
        }
      ]
    },
    {
      "cell_type": "markdown",
      "metadata": {
        "id": "DYnQ95oaizCO"
      },
      "source": [
        "Feita a busca, podemos visualizar os hiperparâmetros do modelo que obteve com maior acurácia com o método ```get_best_hyperparameters()```."
      ]
    },
    {
      "cell_type": "code",
      "metadata": {
        "colab": {
          "base_uri": "https://localhost:8080/"
        },
        "id": "yFXn2tsPXimj",
        "outputId": "c5bfccbb-7c9b-4e93-cbf9-ec9b4f280489"
      },
      "source": [
        "best_hps = tuner.get_best_hyperparameters()[0]\r\n",
        "\r\n",
        "print(f\"Neurônios na primeira camada: {best_hps.get('units_1')}\")\r\n",
        "print(f\"Neurônios na segunda camada: {best_hps.get('units_2')}\")\r\n",
        "print(f\"Neurônios na terceira camada: {best_hps.get('units_3')}\")\r\n",
        "print(f\"Taxa de aprendizagem do otimizador: {best_hps.get('learning_rate')}\")"
      ],
      "execution_count": 46,
      "outputs": [
        {
          "output_type": "stream",
          "text": [
            "Neurônios na primeira camada: 224\n",
            "Neurônios na segunda camada: 160\n",
            "Neurônios na terceira camada: 128\n",
            "Taxa de aprendizagem do otimizador: 0.001\n"
          ],
          "name": "stdout"
        }
      ]
    },
    {
      "cell_type": "markdown",
      "metadata": {
        "id": "UKrA3eUp1Wbd"
      },
      "source": [
        "Também é possível acessar os modelos construídos durante a busca. Portanto, vamos pegar o modelo que obteve a melhor acurácia e ver como ele se sai com dados novos."
      ]
    },
    {
      "cell_type": "code",
      "metadata": {
        "colab": {
          "base_uri": "https://localhost:8080/"
        },
        "id": "8PSrMG5R41Ev",
        "outputId": "10971442-ec81-4522-ee75-49502421dd98"
      },
      "source": [
        "best_model = tuner.get_best_models(1)[0]\r\n",
        "loss, accuracy = best_model.evaluate(norm_X_test, lb_y_test)"
      ],
      "execution_count": 47,
      "outputs": [
        {
          "output_type": "stream",
          "text": [
            "77/77 [==============================] - 0s 1ms/step - loss: 0.6347 - accuracy: 0.7423\n"
          ],
          "name": "stdout"
        }
      ]
    },
    {
      "cell_type": "code",
      "metadata": {
        "id": "KMx-xMwn711F",
        "colab": {
          "base_uri": "https://localhost:8080/"
        },
        "outputId": "c7a755f3-e6f9-4e6f-862a-e4f123dfa43e"
      },
      "source": [
        "precision_recall_fscore_support(lb_y_test, np.argmax(best_model.predict(norm_X_test), axis=-1), zero_division=0, average='macro')"
      ],
      "execution_count": 48,
      "outputs": [
        {
          "output_type": "execute_result",
          "data": {
            "text/plain": [
              "(0.739879886232964, 0.7337590890345261, 0.7339026964171934, None)"
            ]
          },
          "metadata": {
            "tags": []
          },
          "execution_count": 48
        }
      ]
    },
    {
      "cell_type": "markdown",
      "metadata": {
        "id": "EaOC-FPT3W6U"
      },
      "source": [
        "Observando os valores das métricas, podemos ver que o desempenho da rede neural é bem semelhante ao dos modelos anteriores."
      ]
    },
    {
      "cell_type": "markdown",
      "metadata": {
        "id": "VOSthDEt8C3d"
      },
      "source": [
        "## Considerações finais\r\n",
        "\r\n",
        "A tabela a seguir oferece um resumo geral do desempenho dos modelos testados.\r\n",
        "\r\n",
        "Modelo | Acurácia | Precisão | Recall | F1\r\n",
        "---|---|---|---|---\r\n",
        "Regressão Logística|0.7123623011015912|0.7127480498356884|0.7122761857620801|0.7122258098991022\r\n",
        "KNN|0.7172582619339045|0.7206383874609172|0.7173031784896526|0.717687575329284\r\n",
        "Rede neural simples|0.6968584060668945|0.7008966884860781|0.696725915912156|0.6963728505427415\r\n",
        "Rede neural tunada|0.7423|0.739879886232964|0.7337590890345261|0.7339026964171934\r\n",
        "\r\n",
        "De modo geral, os três modelos apresentam desempenho relativamente satisfatório, com a rede neural apresentando métricas um pouco superiores em relação aos outros e, apesar de funcionarem de modo diferente, a regressão logística e o knn apresentaram métricas muito próximas.\r\n",
        "\r\n",
        "Visto os resultados, podemos afirmar que ainda não é possível confiar cegamente nos modelos, mas eles podem se tornar ótimas ferramentas de apoio à decisão.\r\n",
        "\r\n",
        " "
      ]
    }
  ]
}